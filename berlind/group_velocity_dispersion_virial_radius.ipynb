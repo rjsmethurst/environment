{
 "cells": [
  {
   "cell_type": "code",
   "execution_count": 1608,
   "metadata": {
    "collapsed": true
   },
   "outputs": [],
   "source": [
    "%matplotlib inline\n",
    "import numpy as N\n",
    "import pylab as P\n",
    "from astropy.table import Table, vstack, Column\n",
    "from astropy import units as u"
   ]
  },
  {
   "cell_type": "code",
   "execution_count": 1644,
   "metadata": {
    "collapsed": true
   },
   "outputs": [],
   "source": [
    "from astropy.cosmology import FlatLambdaCDM\n",
    "#cosmo = FlatLambdaCDM(H0 = 71.0, Om0 = 0.26)\n",
    "cosmo = FlatLambdaCDM(H0 = 75.0, Om0 = 0.3)\n",
    "c = 299792.458 * u.km/u.s"
   ]
  },
  {
   "cell_type": "code",
   "execution_count": 1610,
   "metadata": {
    "collapsed": false
   },
   "outputs": [
    {
     "ename": "KeyboardInterrupt",
     "evalue": "",
     "output_type": "error",
     "traceback": [
      "\u001b[0;31m---------------------------------------------------------------------------\u001b[0m",
      "\u001b[0;31mKeyboardInterrupt\u001b[0m                         Traceback (most recent call last)",
      "\u001b[0;32m<ipython-input-1610-1883e3f91234>\u001b[0m in \u001b[0;36m<module>\u001b[0;34m()\u001b[0m\n\u001b[0;32m----> 1\u001b[0;31m \u001b[0mdata\u001b[0m \u001b[0;34m=\u001b[0m \u001b[0mTable\u001b[0m\u001b[0;34m.\u001b[0m\u001b[0mread\u001b[0m\u001b[0;34m(\u001b[0m\u001b[0;34m'mr181920_member_long_groupID_catalog_central_satellites_with_halo_mass.fits'\u001b[0m\u001b[0;34m,\u001b[0m \u001b[0mformat\u001b[0m\u001b[0;34m=\u001b[0m\u001b[0;34m'fits'\u001b[0m\u001b[0;34m)\u001b[0m\u001b[0;34m\u001b[0m\u001b[0m\n\u001b[0m",
      "\u001b[0;32m/usr/local/Cellar/python/2.7.8_2/Frameworks/Python.framework/Versions/2.7/lib/python2.7/site-packages/astropy-1.0.1-py2.7-macosx-10.10-x86_64.egg/astropy/table/table.pyc\u001b[0m in \u001b[0;36mread\u001b[0;34m(cls, *args, **kwargs)\u001b[0m\n\u001b[1;32m   1887\u001b[0m         \u001b[0mpassed\u001b[0m \u001b[0mthrough\u001b[0m \u001b[0mto\u001b[0m \u001b[0mthe\u001b[0m \u001b[0munderlying\u001b[0m \u001b[0mdata\u001b[0m \u001b[0mreader\u001b[0m \u001b[0;34m(\u001b[0m\u001b[0me\u001b[0m\u001b[0;34m.\u001b[0m\u001b[0mg\u001b[0m\u001b[0;34m.\u001b[0m \u001b[0;34m`\u001b[0m\u001b[0;34m~\u001b[0m\u001b[0mastropy\u001b[0m\u001b[0;34m.\u001b[0m\u001b[0mio\u001b[0m\u001b[0;34m.\u001b[0m\u001b[0mascii\u001b[0m\u001b[0;34m.\u001b[0m\u001b[0mread\u001b[0m\u001b[0;34m`\u001b[0m\u001b[0;34m)\u001b[0m\u001b[0;34m.\u001b[0m\u001b[0;34m\u001b[0m\u001b[0m\n\u001b[1;32m   1888\u001b[0m         \"\"\"\n\u001b[0;32m-> 1889\u001b[0;31m         \u001b[0;32mreturn\u001b[0m \u001b[0mio_registry\u001b[0m\u001b[0;34m.\u001b[0m\u001b[0mread\u001b[0m\u001b[0;34m(\u001b[0m\u001b[0mcls\u001b[0m\u001b[0;34m,\u001b[0m \u001b[0;34m*\u001b[0m\u001b[0margs\u001b[0m\u001b[0;34m,\u001b[0m \u001b[0;34m**\u001b[0m\u001b[0mkwargs\u001b[0m\u001b[0;34m)\u001b[0m\u001b[0;34m\u001b[0m\u001b[0m\n\u001b[0m\u001b[1;32m   1890\u001b[0m \u001b[0;34m\u001b[0m\u001b[0m\n\u001b[1;32m   1891\u001b[0m     \u001b[0;32mdef\u001b[0m \u001b[0mwrite\u001b[0m\u001b[0;34m(\u001b[0m\u001b[0mself\u001b[0m\u001b[0;34m,\u001b[0m \u001b[0;34m*\u001b[0m\u001b[0margs\u001b[0m\u001b[0;34m,\u001b[0m \u001b[0;34m**\u001b[0m\u001b[0mkwargs\u001b[0m\u001b[0;34m)\u001b[0m\u001b[0;34m:\u001b[0m\u001b[0;34m\u001b[0m\u001b[0m\n",
      "\u001b[0;32m/usr/local/Cellar/python/2.7.8_2/Frameworks/Python.framework/Versions/2.7/lib/python2.7/site-packages/astropy-1.0.1-py2.7-macosx-10.10-x86_64.egg/astropy/io/registry.pyc\u001b[0m in \u001b[0;36mread\u001b[0;34m(cls, *args, **kwargs)\u001b[0m\n\u001b[1;32m    324\u001b[0m \u001b[0;34m\u001b[0m\u001b[0m\n\u001b[1;32m    325\u001b[0m         \u001b[0mreader\u001b[0m \u001b[0;34m=\u001b[0m \u001b[0mget_reader\u001b[0m\u001b[0;34m(\u001b[0m\u001b[0mformat\u001b[0m\u001b[0;34m,\u001b[0m \u001b[0mcls\u001b[0m\u001b[0;34m)\u001b[0m\u001b[0;34m\u001b[0m\u001b[0m\n\u001b[0;32m--> 326\u001b[0;31m         \u001b[0mdata\u001b[0m \u001b[0;34m=\u001b[0m \u001b[0mreader\u001b[0m\u001b[0;34m(\u001b[0m\u001b[0;34m*\u001b[0m\u001b[0margs\u001b[0m\u001b[0;34m,\u001b[0m \u001b[0;34m**\u001b[0m\u001b[0mkwargs\u001b[0m\u001b[0;34m)\u001b[0m\u001b[0;34m\u001b[0m\u001b[0m\n\u001b[0m\u001b[1;32m    327\u001b[0m \u001b[0;34m\u001b[0m\u001b[0m\n\u001b[1;32m    328\u001b[0m         \u001b[0;32mif\u001b[0m \u001b[0;32mnot\u001b[0m \u001b[0misinstance\u001b[0m\u001b[0;34m(\u001b[0m\u001b[0mdata\u001b[0m\u001b[0;34m,\u001b[0m \u001b[0mcls\u001b[0m\u001b[0;34m)\u001b[0m\u001b[0;34m:\u001b[0m\u001b[0;34m\u001b[0m\u001b[0m\n",
      "\u001b[0;32m/usr/local/Cellar/python/2.7.8_2/Frameworks/Python.framework/Versions/2.7/lib/python2.7/site-packages/astropy-1.0.1-py2.7-macosx-10.10-x86_64.egg/astropy/io/fits/connect.pyc\u001b[0m in \u001b[0;36mread_table_fits\u001b[0;34m(input, hdu)\u001b[0m\n\u001b[1;32m    138\u001b[0m \u001b[0;34m\u001b[0m\u001b[0m\n\u001b[1;32m    139\u001b[0m         \u001b[0;32mtry\u001b[0m\u001b[0;34m:\u001b[0m\u001b[0;34m\u001b[0m\u001b[0m\n\u001b[0;32m--> 140\u001b[0;31m             \u001b[0;32mreturn\u001b[0m \u001b[0mread_table_fits\u001b[0m\u001b[0;34m(\u001b[0m\u001b[0mhdulist\u001b[0m\u001b[0;34m,\u001b[0m \u001b[0mhdu\u001b[0m\u001b[0;34m=\u001b[0m\u001b[0mhdu\u001b[0m\u001b[0;34m)\u001b[0m\u001b[0;34m\u001b[0m\u001b[0m\n\u001b[0m\u001b[1;32m    141\u001b[0m         \u001b[0;32mfinally\u001b[0m\u001b[0;34m:\u001b[0m\u001b[0;34m\u001b[0m\u001b[0m\n\u001b[1;32m    142\u001b[0m             \u001b[0mhdulist\u001b[0m\u001b[0;34m.\u001b[0m\u001b[0mclose\u001b[0m\u001b[0;34m(\u001b[0m\u001b[0;34m)\u001b[0m\u001b[0;34m\u001b[0m\u001b[0m\n",
      "\u001b[0;32m/usr/local/Cellar/python/2.7.8_2/Frameworks/Python.framework/Versions/2.7/lib/python2.7/site-packages/astropy-1.0.1-py2.7-macosx-10.10-x86_64.egg/astropy/io/fits/connect.pyc\u001b[0m in \u001b[0;36mread_table_fits\u001b[0;34m(input, hdu)\u001b[0m\n\u001b[1;32m    150\u001b[0m \u001b[0;34m\u001b[0m\u001b[0m\n\u001b[1;32m    151\u001b[0m     \u001b[0;31m# Convert to an astropy.table.Table object\u001b[0m\u001b[0;34m\u001b[0m\u001b[0;34m\u001b[0m\u001b[0m\n\u001b[0;32m--> 152\u001b[0;31m     \u001b[0mt\u001b[0m \u001b[0;34m=\u001b[0m \u001b[0mTable\u001b[0m\u001b[0;34m(\u001b[0m\u001b[0mtable\u001b[0m\u001b[0;34m.\u001b[0m\u001b[0mdata\u001b[0m\u001b[0;34m,\u001b[0m \u001b[0mmasked\u001b[0m\u001b[0;34m=\u001b[0m\u001b[0mmasked\u001b[0m\u001b[0;34m)\u001b[0m\u001b[0;34m\u001b[0m\u001b[0m\n\u001b[0m\u001b[1;32m    153\u001b[0m \u001b[0;34m\u001b[0m\u001b[0m\n\u001b[1;32m    154\u001b[0m     \u001b[0;31m# Copy over null values if needed\u001b[0m\u001b[0;34m\u001b[0m\u001b[0;34m\u001b[0m\u001b[0m\n",
      "\u001b[0;32m/usr/local/Cellar/python/2.7.8_2/Frameworks/Python.framework/Versions/2.7/lib/python2.7/site-packages/astropy-1.0.1-py2.7-macosx-10.10-x86_64.egg/astropy/table/table.pyc\u001b[0m in \u001b[0;36m__init__\u001b[0;34m(self, data, masked, names, dtype, meta, copy, rows)\u001b[0m\n\u001b[1;32m    305\u001b[0m \u001b[0;34m\u001b[0m\u001b[0m\n\u001b[1;32m    306\u001b[0m         \u001b[0;31m# Finally do the real initialization\u001b[0m\u001b[0;34m\u001b[0m\u001b[0;34m\u001b[0m\u001b[0m\n\u001b[0;32m--> 307\u001b[0;31m         \u001b[0minit_func\u001b[0m\u001b[0;34m(\u001b[0m\u001b[0mdata\u001b[0m\u001b[0;34m,\u001b[0m \u001b[0mnames\u001b[0m\u001b[0;34m,\u001b[0m \u001b[0mdtype\u001b[0m\u001b[0;34m,\u001b[0m \u001b[0mn_cols\u001b[0m\u001b[0;34m,\u001b[0m \u001b[0mcopy\u001b[0m\u001b[0;34m)\u001b[0m\u001b[0;34m\u001b[0m\u001b[0m\n\u001b[0m\u001b[1;32m    308\u001b[0m \u001b[0;34m\u001b[0m\u001b[0m\n\u001b[1;32m    309\u001b[0m         \u001b[0;31m# Whatever happens above, the masked property should be set to a boolean\u001b[0m\u001b[0;34m\u001b[0m\u001b[0;34m\u001b[0m\u001b[0m\n",
      "\u001b[0;32m/usr/local/Cellar/python/2.7.8_2/Frameworks/Python.framework/Versions/2.7/lib/python2.7/site-packages/astropy-1.0.1-py2.7-macosx-10.10-x86_64.egg/astropy/table/table.pyc\u001b[0m in \u001b[0;36m_init_from_ndarray\u001b[0;34m(self, data, names, dtype, n_cols, copy)\u001b[0m\n\u001b[1;32m    473\u001b[0m \u001b[0;34m\u001b[0m\u001b[0m\n\u001b[1;32m    474\u001b[0m         \u001b[0;32mif\u001b[0m \u001b[0mcopy\u001b[0m\u001b[0;34m:\u001b[0m\u001b[0;34m\u001b[0m\u001b[0m\n\u001b[0;32m--> 475\u001b[0;31m             \u001b[0mself\u001b[0m\u001b[0;34m.\u001b[0m\u001b[0m_init_from_list\u001b[0m\u001b[0;34m(\u001b[0m\u001b[0mcols\u001b[0m\u001b[0;34m,\u001b[0m \u001b[0mnames\u001b[0m\u001b[0;34m,\u001b[0m \u001b[0mdtype\u001b[0m\u001b[0;34m,\u001b[0m \u001b[0mn_cols\u001b[0m\u001b[0;34m,\u001b[0m \u001b[0mcopy\u001b[0m\u001b[0;34m)\u001b[0m\u001b[0;34m\u001b[0m\u001b[0m\n\u001b[0m\u001b[1;32m    476\u001b[0m         \u001b[0;32melse\u001b[0m\u001b[0;34m:\u001b[0m\u001b[0;34m\u001b[0m\u001b[0m\n\u001b[1;32m    477\u001b[0m             \u001b[0mdtype\u001b[0m \u001b[0;34m=\u001b[0m \u001b[0;34m[\u001b[0m\u001b[0;34m(\u001b[0m\u001b[0mname\u001b[0m\u001b[0;34m,\u001b[0m \u001b[0mcol\u001b[0m\u001b[0;34m.\u001b[0m\u001b[0mdtype\u001b[0m\u001b[0;34m,\u001b[0m \u001b[0mcol\u001b[0m\u001b[0;34m.\u001b[0m\u001b[0mshape\u001b[0m\u001b[0;34m[\u001b[0m\u001b[0;36m1\u001b[0m\u001b[0;34m:\u001b[0m\u001b[0;34m]\u001b[0m\u001b[0;34m)\u001b[0m \u001b[0;32mfor\u001b[0m \u001b[0mname\u001b[0m\u001b[0;34m,\u001b[0m \u001b[0mcol\u001b[0m \u001b[0;32min\u001b[0m \u001b[0mzip\u001b[0m\u001b[0;34m(\u001b[0m\u001b[0mnames\u001b[0m\u001b[0;34m,\u001b[0m \u001b[0mcols\u001b[0m\u001b[0;34m)\u001b[0m\u001b[0;34m]\u001b[0m\u001b[0;34m\u001b[0m\u001b[0m\n",
      "\u001b[0;32m/usr/local/Cellar/python/2.7.8_2/Frameworks/Python.framework/Versions/2.7/lib/python2.7/site-packages/astropy-1.0.1-py2.7-macosx-10.10-x86_64.egg/astropy/table/table.pyc\u001b[0m in \u001b[0;36m_init_from_list\u001b[0;34m(self, data, names, dtype, n_cols, copy)\u001b[0m\n\u001b[1;32m    450\u001b[0m             \u001b[0;32melif\u001b[0m \u001b[0misinstance\u001b[0m\u001b[0;34m(\u001b[0m\u001b[0mcol\u001b[0m\u001b[0;34m,\u001b[0m \u001b[0mnp\u001b[0m\u001b[0;34m.\u001b[0m\u001b[0mndarray\u001b[0m\u001b[0;34m)\u001b[0m \u001b[0;32mor\u001b[0m \u001b[0misiterable\u001b[0m\u001b[0;34m(\u001b[0m\u001b[0mcol\u001b[0m\u001b[0;34m)\u001b[0m\u001b[0;34m:\u001b[0m\u001b[0;34m\u001b[0m\u001b[0m\n\u001b[1;32m    451\u001b[0m                 col = self.ColumnClass(name=(name or def_name), data=col, dtype=dtype,\n\u001b[0;32m--> 452\u001b[0;31m                                        copy=copy)\n\u001b[0m\u001b[1;32m    453\u001b[0m             \u001b[0;32melse\u001b[0m\u001b[0;34m:\u001b[0m\u001b[0;34m\u001b[0m\u001b[0m\n\u001b[1;32m    454\u001b[0m                 raise ValueError('Elements in list initialization must be '\n",
      "\u001b[0;32m/usr/local/Cellar/python/2.7.8_2/Frameworks/Python.framework/Versions/2.7/lib/python2.7/site-packages/astropy-1.0.1-py2.7-macosx-10.10-x86_64.egg/astropy/table/column.pyc\u001b[0m in \u001b[0;36m__new__\u001b[0;34m(cls, data, name, mask, fill_value, dtype, shape, length, description, unit, format, meta, copy)\u001b[0m\n\u001b[1;32m    971\u001b[0m         self_data = BaseColumn(data, dtype=dtype, shape=shape, length=length, name=name,\n\u001b[1;32m    972\u001b[0m                                unit=unit, format=format, description=description, meta=meta, copy=copy)\n\u001b[0;32m--> 973\u001b[0;31m         \u001b[0mself\u001b[0m \u001b[0;34m=\u001b[0m \u001b[0mma\u001b[0m\u001b[0;34m.\u001b[0m\u001b[0mMaskedArray\u001b[0m\u001b[0;34m.\u001b[0m\u001b[0m__new__\u001b[0m\u001b[0;34m(\u001b[0m\u001b[0mcls\u001b[0m\u001b[0;34m,\u001b[0m \u001b[0mdata\u001b[0m\u001b[0;34m=\u001b[0m\u001b[0mself_data\u001b[0m\u001b[0;34m,\u001b[0m \u001b[0mmask\u001b[0m\u001b[0;34m=\u001b[0m\u001b[0mmask\u001b[0m\u001b[0;34m)\u001b[0m\u001b[0;34m\u001b[0m\u001b[0m\n\u001b[0m\u001b[1;32m    974\u001b[0m \u001b[0;34m\u001b[0m\u001b[0m\n\u001b[1;32m    975\u001b[0m         \u001b[0;31m# Note: do not set fill_value in the MaskedArray constructor because this does not\u001b[0m\u001b[0;34m\u001b[0m\u001b[0;34m\u001b[0m\u001b[0m\n",
      "\u001b[0;32m/usr/local/lib/python2.7/site-packages/numpy/ma/core.pyc\u001b[0m in \u001b[0;36m__new__\u001b[0;34m(cls, data, mask, dtype, copy, subok, ndmin, fill_value, keep_mask, hard_mask, shrink, **options)\u001b[0m\n\u001b[1;32m   2716\u001b[0m                 \u001b[0;34m(\u001b[0m\u001b[0mnd\u001b[0m\u001b[0;34m,\u001b[0m \u001b[0mnm\u001b[0m\u001b[0;34m)\u001b[0m \u001b[0;34m=\u001b[0m \u001b[0;34m(\u001b[0m\u001b[0m_data\u001b[0m\u001b[0;34m.\u001b[0m\u001b[0msize\u001b[0m\u001b[0;34m,\u001b[0m \u001b[0mmask\u001b[0m\u001b[0;34m.\u001b[0m\u001b[0msize\u001b[0m\u001b[0;34m)\u001b[0m\u001b[0;34m\u001b[0m\u001b[0m\n\u001b[1;32m   2717\u001b[0m                 \u001b[0;32mif\u001b[0m \u001b[0mnm\u001b[0m \u001b[0;34m==\u001b[0m \u001b[0;36m1\u001b[0m\u001b[0;34m:\u001b[0m\u001b[0;34m\u001b[0m\u001b[0m\n\u001b[0;32m-> 2718\u001b[0;31m                     \u001b[0mmask\u001b[0m \u001b[0;34m=\u001b[0m \u001b[0mnp\u001b[0m\u001b[0;34m.\u001b[0m\u001b[0mresize\u001b[0m\u001b[0;34m(\u001b[0m\u001b[0mmask\u001b[0m\u001b[0;34m,\u001b[0m \u001b[0m_data\u001b[0m\u001b[0;34m.\u001b[0m\u001b[0mshape\u001b[0m\u001b[0;34m)\u001b[0m\u001b[0;34m\u001b[0m\u001b[0m\n\u001b[0m\u001b[1;32m   2719\u001b[0m                 \u001b[0;32melif\u001b[0m \u001b[0mnm\u001b[0m \u001b[0;34m==\u001b[0m \u001b[0mnd\u001b[0m\u001b[0;34m:\u001b[0m\u001b[0;34m\u001b[0m\u001b[0m\n\u001b[1;32m   2720\u001b[0m                     \u001b[0mmask\u001b[0m \u001b[0;34m=\u001b[0m \u001b[0mnp\u001b[0m\u001b[0;34m.\u001b[0m\u001b[0mreshape\u001b[0m\u001b[0;34m(\u001b[0m\u001b[0mmask\u001b[0m\u001b[0;34m,\u001b[0m \u001b[0m_data\u001b[0m\u001b[0;34m.\u001b[0m\u001b[0mshape\u001b[0m\u001b[0;34m)\u001b[0m\u001b[0;34m\u001b[0m\u001b[0m\n",
      "\u001b[0;32m/usr/local/lib/python2.7/site-packages/numpy/core/fromnumeric.pyc\u001b[0m in \u001b[0;36mresize\u001b[0;34m(a, new_shape)\u001b[0m\n\u001b[1;32m   1074\u001b[0m         \u001b[0mextra\u001b[0m \u001b[0;34m=\u001b[0m \u001b[0mNa\u001b[0m\u001b[0;34m-\u001b[0m\u001b[0mextra\u001b[0m\u001b[0;34m\u001b[0m\u001b[0m\n\u001b[1;32m   1075\u001b[0m \u001b[0;34m\u001b[0m\u001b[0m\n\u001b[0;32m-> 1076\u001b[0;31m     \u001b[0ma\u001b[0m \u001b[0;34m=\u001b[0m \u001b[0mconcatenate\u001b[0m\u001b[0;34m(\u001b[0m \u001b[0;34m(\u001b[0m\u001b[0ma\u001b[0m\u001b[0;34m,\u001b[0m\u001b[0;34m)\u001b[0m\u001b[0;34m*\u001b[0m\u001b[0mn_copies\u001b[0m\u001b[0;34m)\u001b[0m\u001b[0;34m\u001b[0m\u001b[0m\n\u001b[0m\u001b[1;32m   1077\u001b[0m     \u001b[0;32mif\u001b[0m \u001b[0mextra\u001b[0m \u001b[0;34m>\u001b[0m \u001b[0;36m0\u001b[0m\u001b[0;34m:\u001b[0m\u001b[0;34m\u001b[0m\u001b[0m\n\u001b[1;32m   1078\u001b[0m         \u001b[0ma\u001b[0m \u001b[0;34m=\u001b[0m \u001b[0ma\u001b[0m\u001b[0;34m[\u001b[0m\u001b[0;34m:\u001b[0m\u001b[0;34m-\u001b[0m\u001b[0mextra\u001b[0m\u001b[0;34m]\u001b[0m\u001b[0;34m\u001b[0m\u001b[0m\n",
      "\u001b[0;31mKeyboardInterrupt\u001b[0m: "
     ]
    }
   ],
   "source": [
    "data = Table.read('mr181920_member_long_groupID_catalog_central_satellites_with_halo_mass.fits', format='fits')"
   ]
  },
  {
   "cell_type": "code",
   "execution_count": null,
   "metadata": {
    "collapsed": true
   },
   "outputs": [],
   "source": [
    "veldisp = Column(name = 'velocity dispersion', data=N.zeros(len(data)), unit=u.km/u.s)\n",
    "R200 = Column(name='virial radius', data=N.zeros(len(data)), unit=u.Mpc)"
   ]
  },
  {
   "cell_type": "code",
   "execution_count": null,
   "metadata": {
    "collapsed": false
   },
   "outputs": [],
   "source": [
    "for n in (N.unique(data['groupID'])):\n",
    "    idx = N.where(data['groupID'] == n)\n",
    "    group_data = data[idx]\n",
    "    cent_data = group_data[N.where(group_data['central or satellite'] == 1)]\n",
    "    if len(group_data) > 0 and len(cent_data) == 1:\n",
    "        vi = c * (group_data['z'] - N.mean(group_data['z']))/(1 + N.mean(group_data['z']))\n",
    "        vel_disp = N.std(((vi - vi[N.where(group_data['central or satellite'] == 1)])**2)**0.5)\n",
    "        veldisp[idx] = vel_disp\n",
    "        R200[idx] = 1.73 * (vel_disp/(1000*u.km/u.s)) * (1/(cosmo.Ode(cent_data['z']) + cosmo.Om0 * (1+cent_data['z'])**3)**0.5) * (1/(cosmo.H0/100)*(u.km/u.s))\n",
    "    else:\n",
    "        pass\n",
    "    if veldisp[idx].any() > 1000:\n",
    "        print 'WARNING! ACHTUNG! ', n, cent_data['number in cluster'].quantity, cent_data['halo mass'].quantity, group_data['RA', 'Dec', 'z'], vel_disp"
   ]
  },
  {
   "cell_type": "code",
   "execution_count": null,
   "metadata": {
    "collapsed": true
   },
   "outputs": [],
   "source": [
    "data.add_columns([veldisp, R200])"
   ]
  },
  {
   "cell_type": "code",
   "execution_count": null,
   "metadata": {
    "collapsed": false
   },
   "outputs": [],
   "source": [
    "kpca = cosmo.kpc_comoving_per_arcmin(data['z'])\n",
    "ka = Column(name='kpc per arcmin', data=kpca.value, dtype=float, unit=u.kpc/u.arcmin)\n",
    "data.add_column(ka)\n",
    "kd = Column(name='kpc per degree', data = data['kpc per arcmin'].to(u.kpc/u.degree), dtype=float)\n",
    "data.add_column(kd)\n",
    "from astropy.coordinates import SkyCoord"
   ]
  },
  {
   "cell_type": "code",
   "execution_count": null,
   "metadata": {
    "collapsed": false
   },
   "outputs": [],
   "source": [
    "ccr = Column(name='projected cluster centric radius', length=len(data), dtype=float, unit=u.kpc)\n",
    "for n in (N.unique(data['groupID'])):\n",
    "    idxs = N.where(N.logical_and(data['groupID']==n, data['central or satellite'] == 0))\n",
    "    idxc = N.where(N.logical_and(data['groupID']==n, data['central or satellite'] == 1))\n",
    "    gc = data[idxc]\n",
    "    gs = data[idxs]\n",
    "    if len(gc) > 0:\n",
    "        c1 = SkyCoord(ra=gc['RA'], dec=gc['Dec'], unit=u.degree)\n",
    "        c2 = SkyCoord(ra=gs['RA'], dec=gs['Dec'], unit=u.degree)\n",
    "        s = c1.separation(c2)*gs['kpc per degree']\n",
    "        ccr[idxs] = s\n",
    "        ccr[idxc] = 0.0\n",
    "    else:\n",
    "        pass"
   ]
  },
  {
   "cell_type": "code",
   "execution_count": null,
   "metadata": {
    "collapsed": true
   },
   "outputs": [],
   "source": [
    "data.add_column(ccr)"
   ]
  },
  {
   "cell_type": "code",
   "execution_count": null,
   "metadata": {
    "collapsed": true
   },
   "outputs": [],
   "source": [
    "data.write('mr181920_member_long_groupID_catalog_central_satellites_with_halo_mass_projected_clustercentric_radius_vel_disp_virial_radius.fits', format='fits')"
   ]
  },
  {
   "cell_type": "code",
   "execution_count": null,
   "metadata": {
    "collapsed": false
   },
   "outputs": [],
   "source": [
    "import os\n",
    "os.environ['PATH'] = os.environ['PATH'] + ':/usr/texbin'\n",
    "\n",
    "P.rc('figure', facecolor='none', edgecolor='none', autolayout=True)\n",
    "P.rc('path', simplify=True)\n",
    "P.rc('text', usetex=True)\n",
    "P.rc('font', family='serif')\n",
    "P.rc('axes', labelsize='large', facecolor='none', linewidth=0.7, color_cycle = ['k', 'r', 'g', 'b', 'c', 'm', 'y'])\n",
    "P.rc('xtick', labelsize='medium')\n",
    "P.rc('ytick', labelsize='medium')\n",
    "P.rc('lines', markersize=4, linewidth=1, markeredgewidth=0.2)\n",
    "P.rc('legend', numpoints=1, frameon=False, handletextpad=0.3, scatterpoints=1, handlelength=2, handleheight=0.1)\n",
    "P.rc('savefig', facecolor='none', edgecolor='none', frameon='False')\n",
    "\n",
    "params =   {'font.size' : 11,\n",
    "            'xtick.major.size': 8,\n",
    "            'ytick.major.size': 8,\n",
    "            'xtick.minor.size': 3,\n",
    "            'ytick.minor.size': 3,\n",
    "            }\n",
    "P.rcParams.update(params) "
   ]
  },
  {
   "cell_type": "code",
   "execution_count": null,
   "metadata": {
    "collapsed": true
   },
   "outputs": [],
   "source": [
    "data = data[N.where(data['number in cluster']>=2)]"
   ]
  },
  {
   "cell_type": "code",
   "execution_count": null,
   "metadata": {
    "collapsed": false
   },
   "outputs": [],
   "source": [
    "P.figure()\n",
    "P.hist(data['velocity dispersion'], histtype='step', color='k', normed='True', range=(0,1000))\n",
    "P.minorticks_on()\n",
    "P.xlabel(r'$\\sigma_{x} [\\rm{km} /\\rm{s}]$')\n",
    "P.ylabel(r'$\\rm{normalised }$ $\\rm{density}$')\n",
    "P.savefig('velocity_dispersion_distribution.png')"
   ]
  },
  {
   "cell_type": "code",
   "execution_count": null,
   "metadata": {
    "collapsed": true
   },
   "outputs": [],
   "source": [
    "sat = data[N.where(data['central or satellite']==0)]"
   ]
  },
  {
   "cell_type": "code",
   "execution_count": null,
   "metadata": {
    "collapsed": false
   },
   "outputs": [],
   "source": [
    "logbins = N.append(N.linspace(0, 1, 6),  N.linspace(2, 15, 8), axis=0)\n",
    "print logbins"
   ]
  },
  {
   "cell_type": "code",
   "execution_count": null,
   "metadata": {
    "collapsed": false
   },
   "outputs": [],
   "source": [
    "P.figure(figsize=(4,4))\n",
    "ax = P.subplot(111)\n",
    "ax.hist((sat['projected cluster centric radius'].to(u.Mpc))/sat['virial radius'], histtype='step', color='k', bins=logbins, normed=True)\n",
    "ax.set_xscale('log')\n",
    "ax.minorticks_on()\n",
    "ax.set_xlim(0, 15)\n",
    "ax.set_xlabel(r'$R/R_{200}$')\n",
    "ax.set_ylabel(r'$\\rm{normalised }$ $\\rm{density}$')\n",
    "ax.set_xticks([0.1, 1, 10])\n",
    "ax.set_xticklabels([0.1, 1, 10])\n",
    "P.savefig('pccr_virial_radius_normalised_distribution.pdf')\n"
   ]
  },
  {
   "cell_type": "code",
   "execution_count": null,
   "metadata": {
    "collapsed": false
   },
   "outputs": [],
   "source": [
    "(data['projected cluster centric radius'].to(u.Mpc))/data['virial radius']"
   ]
  },
  {
   "cell_type": "code",
   "execution_count": null,
   "metadata": {
    "collapsed": true
   },
   "outputs": [],
   "source": [
    "from scipy.stats import binned_statistic as b_s"
   ]
  },
  {
   "cell_type": "code",
   "execution_count": null,
   "metadata": {
    "collapsed": false
   },
   "outputs": [],
   "source": [
    "bsd = b_s((data['projected cluster centric radius'].to(u.Mpc))/data['virial radius'], data['t01_smooth_or_features_a02_features_or_disk_debiased'], statistic='mean', bins=logbins, range=(0,15))\n",
    "bsdstd = b_s((data['projected cluster centric radius'].to(u.Mpc))/data['virial radius'], data['t01_smooth_or_features_a02_features_or_disk_debiased'], statistic=N.std, bins=logbins, range=(0,15))\n",
    "y1d = bsd[0] + bsdstd[0]**2\n",
    "y2d = bsd[0] - bsdstd[0]**2"
   ]
  },
  {
   "cell_type": "code",
   "execution_count": null,
   "metadata": {
    "collapsed": false
   },
   "outputs": [],
   "source": [
    "bss = b_s((data['projected cluster centric radius'].to(u.Mpc))/data['virial radius'], data['t01_smooth_or_features_a01_smooth_debiased'], statistic='mean', bins=logbins, range=(0,15))\n",
    "bssstd = b_s((data['projected cluster centric radius'].to(u.Mpc))/data['virial radius'], data['t01_smooth_or_features_a01_smooth_debiased'], statistic=N.std, bins=logbins, range=(0,15))\n",
    "y1s = bss[0] + bssstd[0]**2\n",
    "y2s = bss[0] - bssstd[0]**2"
   ]
  },
  {
   "cell_type": "code",
   "execution_count": null,
   "metadata": {
    "collapsed": true
   },
   "outputs": [],
   "source": [
    "bsur = b_s((data['projected cluster centric radius'].to(u.Mpc))/data['virial radius'], data['MU_MR'], statistic='mean', bins=logbins, range=(0,15))\n",
    "bsurstd = b_s((data['projected cluster centric radius'].to(u.Mpc))/data['virial radius'], data['MU_MR'], statistic=N.std, bins=logbins, range=(0,15))\n",
    "y1ur = bsur[0] + bsurstd[0]**2\n",
    "y2ur = bsur[0] - bsurstd[0]**2"
   ]
  },
  {
   "cell_type": "code",
   "execution_count": null,
   "metadata": {
    "collapsed": false
   },
   "outputs": [],
   "source": [
    "P.figure(figsize=(4,4))\n",
    "ax = P.subplot(111)\n",
    "ax.scatter(bsur[1][:-1] + N.diff(bsur[1])[0]/2, bsur[0], marker='x', color='k')\n",
    "ax.fill_between(bsur[1][:-1] + N.diff(bsur[1])[0]/2, y1ur, y2ur, color='k', alpha=0.15, edgecolor='None')\n",
    "ax.set_xscale('log')\n",
    "ax.minorticks_on()\n",
    "ax.set_xlim(0.09, 15)\n",
    "ax.set_xlabel(r'$R/R_{200}$')\n",
    "ax.set_ylabel(r'$u-r$')\n",
    "ax.set_xticks([0.1, 1, 10])\n",
    "ax.set_xticklabels([0.1, 1, 10])\n",
    "P.savefig('u_r_trend_with_radius.pdf')"
   ]
  },
  {
   "cell_type": "code",
   "execution_count": null,
   "metadata": {
    "collapsed": false
   },
   "outputs": [],
   "source": [
    "dat = data[N.where(data['NUV_U']>-1)]"
   ]
  },
  {
   "cell_type": "code",
   "execution_count": null,
   "metadata": {
    "collapsed": false
   },
   "outputs": [],
   "source": [
    "bsnuv = b_s((dat['projected cluster centric radius'].to(u.Mpc))/dat['virial radius'], N.nan_to_num(dat['NUV_U']), statistic='mean', bins=logbins, range=(0,15))\n",
    "bsnuvstd = b_s((dat['projected cluster centric radius'].to(u.Mpc))/dat['virial radius'], N.nan_to_num(dat['NUV_U']), statistic=N.var, bins=logbins, range=(0,15))\n",
    "y1nuv = bsnuv[0] + bsnuvstd[0]**2\n",
    "y2nuv = bsnuv[0] - bsnuvstd[0]**2"
   ]
  },
  {
   "cell_type": "code",
   "execution_count": null,
   "metadata": {
    "collapsed": false
   },
   "outputs": [],
   "source": [
    "P.figure(figsize=(4,4))\n",
    "ax = P.subplot(111)\n",
    "ax.scatter(bsnuv[1][:-1] + N.diff(bsnuv[1])[0]/2, bsnuv[0], marker='x', color='k')\n",
    "ax.fill_between(bsnuv[1][:-1] + N.diff(bsnuv[1])[0]/2, y1nuv, y2nuv, color='k', alpha=0.15, edgecolor='None')\n",
    "ax.set_xscale('log')\n",
    "ax.minorticks_on()\n",
    "ax.set_xlim(0.09, 15)\n",
    "ax.set_xlabel(r'$R/R_{200}$')\n",
    "ax.set_ylabel(r'$NUV-u$')\n",
    "ax.set_xticks([0.1, 1, 10])\n",
    "ax.set_xticklabels([0.1, 1, 10])\n",
    "P.savefig('nuv_u_trend_with_radius.pdf')"
   ]
  },
  {
   "cell_type": "code",
   "execution_count": null,
   "metadata": {
    "collapsed": false
   },
   "outputs": [],
   "source": [
    "P.figure(figsize=(4,4))\n",
    "ax = P.subplot(111)\n",
    "ax.scatter(bsd[1][:-1] + N.diff(bsd[1])[0]/2, bsd[0], marker='x', color='k')\n",
    "ax.fill_between(bsd[1][:-1] + N.diff(bsd[1])[0]/2, y1d, y2d, color='k', alpha=0.15, edgecolor='None')\n",
    "ax.set_xscale('log')\n",
    "ax.minorticks_on()\n",
    "ax.set_xlim(0.09, 15)\n",
    "ax.set_xlabel(r'$R/R_{200}$')\n",
    "ax.set_ylabel(r'$p_{\\rm{disc}}$')\n",
    "ax.set_xticks([0.1, 1, 10])\n",
    "ax.set_xticklabels([0.1, 1, 10])\n",
    "P.savefig('p_disc_trend_with_log_radius.pdf')"
   ]
  },
  {
   "cell_type": "code",
   "execution_count": null,
   "metadata": {
    "collapsed": false
   },
   "outputs": [],
   "source": [
    "P.figure(figsize=(4,4))\n",
    "ax = P.subplot(111)\n",
    "ax.scatter(bss[1][:-1] + N.diff(bss[1])[0]/2, bss[0], marker='x', color='k')\n",
    "ax.fill_between(bss[1][:-1] + N.diff(bss[1])[0]/2, y1s, y2s, color='k', alpha=0.15, edgecolor='None')\n",
    "ax.set_xscale('log')\n",
    "ax.minorticks_on()\n",
    "ax.set_xlim(0.09, 15)\n",
    "ax.set_xlabel(r'$R/R_{200}$')\n",
    "ax.set_ylabel(r'$p_{\\rm{smooth}}$')\n",
    "ax.set_xticks([0.1, 1, 10])\n",
    "ax.set_xticklabels([0.1, 1, 10])\n",
    "P.savefig('p_smooth_trend_with_log_radius.pdf')"
   ]
  },
  {
   "cell_type": "code",
   "execution_count": null,
   "metadata": {
    "collapsed": true
   },
   "outputs": [],
   "source": [
    "bsb = b_s((sat['projected cluster centric radius'].to(u.Mpc))/sat['virial radius'], sat['t03_bar_a06_bar_debiased'], statistic='mean', bins=logbins, range=(0,15))\n",
    "bsbstd = b_s((sat['projected cluster centric radius'].to(u.Mpc))/sat['virial radius'], sat['t03_bar_a06_bar_debiased'], statistic=N.std, bins=logbins, range=(0,15))\n",
    "y1b = bsb[0] + bsbstd[0]**2\n",
    "y2b = bsb[0] - bsbstd[0]**2"
   ]
  },
  {
   "cell_type": "code",
   "execution_count": null,
   "metadata": {
    "collapsed": false
   },
   "outputs": [],
   "source": [
    "P.figure(figsize=(4,4))\n",
    "ax = P.subplot(111)\n",
    "ax.scatter(bsb[1][:-1] + N.diff(bsb[1])[0]/2, bsb[0], marker='x', color='k')\n",
    "ax.fill_between(bsb[1][:-1] + N.diff(bsb[1])[0]/2, y1b, y2b, color='k', alpha=0.15, edgecolor='None')\n",
    "ax.set_xscale('log')\n",
    "ax.minorticks_on()\n",
    "ax.set_xlim(0.09, 15)\n",
    "ax.set_xlabel(r'$R/R_{200}$')\n",
    "ax.set_ylabel(r'$p_{\\rm{bar}}$')\n",
    "ax.set_xticks([0.1, 1, 10])\n",
    "ax.set_xticklabels([0.1, 1, 10])\n",
    "P.savefig('p_bar_trend_with_log_radius.pdf')"
   ]
  },
  {
   "cell_type": "code",
   "execution_count": null,
   "metadata": {
    "collapsed": false
   },
   "outputs": [],
   "source": [
    "bso = b_s((sat['projected cluster centric radius'].to(u.Mpc))/sat['virial radius'], sat['t06_odd_a14_yes_debiased'], statistic='median', bins=logbins, range=(0,15))"
   ]
  },
  {
   "cell_type": "code",
   "execution_count": null,
   "metadata": {
    "collapsed": true
   },
   "outputs": [],
   "source": [
    "bsostd = b_s((sat['projected cluster centric radius'].to(u.Mpc))/sat['virial radius'], sat['t06_odd_a14_yes_debiased'], statistic=N.std, bins=logbins, range=(0,15))"
   ]
  },
  {
   "cell_type": "code",
   "execution_count": null,
   "metadata": {
    "collapsed": true
   },
   "outputs": [],
   "source": [
    "y1o = bso[0] + bsostd[0]**2\n",
    "y2o = bso[0] - bsostd[0]**2"
   ]
  },
  {
   "cell_type": "code",
   "execution_count": null,
   "metadata": {
    "collapsed": false
   },
   "outputs": [],
   "source": [
    "P.figure(figsize=(4,4))\n",
    "ax = P.subplot(111)\n",
    "ax.scatter(bso[1][:-1] + N.diff(bso[1])[0]/2, bso[0], marker='x', color='k')\n",
    "ax.fill_between(bso[1][:-1] + N.diff(bso[1])[0]/2, y1o, y2o, color='k', alpha=0.15, edgecolor='None')\n",
    "ax.set_xscale('log')\n",
    "ax.minorticks_on()\n",
    "ax.set_xlim(0.09, 15)\n",
    "ax.set_xlabel(r'$R/R_{200}$')\n",
    "ax.set_ylabel(r'$p_{\\rm{odd}}$')\n",
    "ax.set_xticks([0.1, 1, 10])\n",
    "ax.set_xticklabels([0.1, 1, 10])\n",
    "P.savefig('p_odd_trend_with_log_radius.pdf')"
   ]
  },
  {
   "cell_type": "code",
   "execution_count": null,
   "metadata": {
    "collapsed": false
   },
   "outputs": [],
   "source": [
    "idxrs = N.digitize((data['projected cluster centric radius'].to(u.Mpc))/data['virial radius'], logbins)\n",
    "frac_d = [len(data['t01_smooth_or_features_a02_features_or_disk_debiased'][idxrs==k][data['t01_smooth_or_features_a02_features_or_disk_debiased'][idxrs==k]>=0.7])/float(len(data[idxrs==k])+1) for k in range(len(logbins))]\n",
    "frac_s = [len(data['t01_smooth_or_features_a01_smooth_debiased'][idxrs==k][data['t01_smooth_or_features_a01_smooth_debiased'][idxrs==k]>=0.7])/float(len(data[idxrs==k])+1) for k in range(len(logbins))]\n",
    "num_d = [float(len(data['t01_smooth_or_features_a02_features_or_disk_debiased'][idxrs==k][data['t01_smooth_or_features_a02_features_or_disk_debiased'][idxrs==k]>=0.7])) for k in range(len(logbins))]\n",
    "num_s = [float(len(data['t01_smooth_or_features_a01_smooth_debiased'][idxrs==k][data['t01_smooth_or_features_a01_smooth_debiased'][idxrs==k]>=0.7])) for k in range(len(logbins))]\n",
    "num_t = [float(len(data[idxrs==k])+1) for k in range(len(logbins))]\n",
    "error_frac_d = N.nan_to_num(frac_d*N.sqrt((1/N.array(num_d))+(1/N.array(num_t))))\n",
    "error_frac_s = N.nan_to_num(frac_s*N.sqrt((1/N.array(num_s))+(1/N.array(num_t))))\n",
    "\n"
   ]
  },
  {
   "cell_type": "code",
   "execution_count": null,
   "metadata": {
    "collapsed": false
   },
   "outputs": [],
   "source": [
    "len(frac_d)"
   ]
  },
  {
   "cell_type": "code",
   "execution_count": null,
   "metadata": {
    "collapsed": false
   },
   "outputs": [],
   "source": [
    "y1ed = frac_d + error_frac_d\n",
    "y2ed = frac_d - error_frac_d\n",
    "y1es = frac_s + error_frac_s\n",
    "y2es = frac_s - error_frac_s\n",
    "print N.shape(y1ed)\n",
    "print N.shape(bso[1][:-1] + N.diff(bso[1])[0]/2)\n",
    "print error_frac_d"
   ]
  },
  {
   "cell_type": "code",
   "execution_count": null,
   "metadata": {
    "collapsed": false
   },
   "outputs": [],
   "source": [
    "P.figure(figsize=(4,4))\n",
    "ax = P.subplot(111)\n",
    "ax.scatter(bso[1][:-1] + N.diff(bso[1])[0]/2, frac_d[1:], marker='x', color='k')\n",
    "ax.fill_between(bso[1][:-1] + N.diff(bso[1])[0]/2, y1ed[1:], y2ed[1:], color='k', alpha=0.15, edgecolor='None')\n",
    "ax.scatter(bso[1][:-1] + N.diff(bso[1])[0]/2, frac_s[1:], marker='o', color='r')\n",
    "ax.fill_between(bso[1][:-1] + N.diff(bso[1])[0]/2, y1es[1:], y2es[1:], color='r', alpha=0.15, edgecolor='None')\n",
    "ax.set_xscale('log')\n",
    "ax.minorticks_on()\n",
    "ax.set_xlim(0.09, 15)\n",
    "ax.set_xlabel(r'$R/R_{200}$')\n",
    "ax.set_ylabel(r'$\\rm{fraction}$')\n",
    "ax.set_xticks([0.1, 1, 10])\n",
    "ax.set_xticklabels([0.1, 1, 10])\n",
    "P.tight_layout()\n",
    "P.savefig('disc_and_smooth_fraction_trend_with_log_radius.pdf')"
   ]
  },
  {
   "cell_type": "code",
   "execution_count": null,
   "metadata": {
    "collapsed": false
   },
   "outputs": [],
   "source": [
    "idxrs = N.digitize((data['projected cluster centric radius'].to(u.Mpc))/data['virial radius'], logbins)\n",
    "frac_odd = [len(data[data['t06_odd_a14_yes_debiased'][idxrs==k]>=0.4])/float(len(data[idxrs==k])+1) for k in range(len(logbins))]\n",
    "num_odd = [float(len(data[data['t06_odd_a14_yes_debiased'][idxrs==k]>=0.4])) for k in range(len(logbins))]\n",
    "num_t = [float(len(data[idxrs==k])+1) for k in range(len(logbins))]\n",
    "error_frac_odd = N.nan_to_num(frac_odd*N.sqrt((1/N.array(num_odd))+(1/N.array(num_t))))\n",
    "y1eodd = frac_odd + error_frac_odd\n",
    "y2eodd = frac_odd - error_frac_odd"
   ]
  },
  {
   "cell_type": "code",
   "execution_count": null,
   "metadata": {
    "collapsed": false
   },
   "outputs": [],
   "source": [
    "P.figure(figsize=(4,4))\n",
    "ax = P.subplot(111)\n",
    "ax.scatter(bso[1][:-1] + N.diff(bso[1])[0]/2, frac_odd[1:], marker='x', color='k')\n",
    "ax.fill_between(bso[1][:-1] + N.diff(bso[1])[0]/2, y1eodd[1:], y2eodd[1:], color='k', alpha=0.15, edgecolor='None')\n",
    "ax.set_xscale('log')\n",
    "ax.minorticks_on()\n",
    "ax.set_xlim(0.09, 15)\n",
    "ax.set_xlabel(r'$R/R_{200}$')\n",
    "ax.set_ylabel(r'$\\rm{fraction}$')\n",
    "ax.set_xticks([0.1, 1, 10])\n",
    "ax.set_xticklabels([0.1, 1, 10])\n",
    "P.tight_layout()\n",
    "P.savefig('odd_fraction_trend_with_log_radius.pdf')"
   ]
  },
  {
   "cell_type": "code",
   "execution_count": null,
   "metadata": {
    "collapsed": false
   },
   "outputs": [],
   "source": [
    "idxrs = N.digitize((data['projected cluster centric radius'].to(u.Mpc))/data['virial radius'], logbins)\n",
    "frac_m = [len(data[data['t08_odd_feature_a24_merger_debiased'][idxrs==k]>=0.3])/float(len(data[idxrs==k])+1) for k in range(len(logbins))]\n",
    "num_m = [float(len(data[data['t08_odd_feature_a24_merger_debiased'][idxrs==k]>=0.3])) for k in range(len(logbins))]\n",
    "num_t = [float(len(data[idxrs==k])+1) for k in range(len(logbins))]\n",
    "error_frac_m = N.nan_to_num(frac_m*N.sqrt((1/N.array(num_m))+(1/N.array(num_t))))\n",
    "y1em = frac_m + error_frac_m\n",
    "y2em = frac_m - error_frac_m"
   ]
  },
  {
   "cell_type": "code",
   "execution_count": null,
   "metadata": {
    "collapsed": false
   },
   "outputs": [],
   "source": [
    "P.figure(figsize=(4,4))\n",
    "ax = P.subplot(111)\n",
    "ax.scatter(bso[1][:-1] + N.diff(bso[1])[0]/2, frac_m[1:], marker='x', color='k')\n",
    "ax.fill_between(bso[1][:-1] + N.diff(bso[1])[0]/2, y1em[1:], y2em[1:], color='k', alpha=0.15, edgecolor='None')\n",
    "ax.set_xscale('log')\n",
    "ax.minorticks_on()\n",
    "ax.set_xlim(0.09, 15)\n",
    "#ax.set_ylim(0, 0.05)\n",
    "ax.set_xlabel(r'$R/R_{200}$')\n",
    "ax.set_ylabel(r'$\\rm{fraction}$')\n",
    "ax.set_xticks([0.1, 1, 10])\n",
    "ax.set_xticklabels([0.1, 1, 10])\n",
    "P.tight_layout()\n",
    "P.savefig('merger_fraction_trend_with_log_radius.pdf')"
   ]
  },
  {
   "cell_type": "code",
   "execution_count": null,
   "metadata": {
    "collapsed": false
   },
   "outputs": [],
   "source": [
    "idxrs = N.digitize((data['projected cluster centric radius'].to(u.Mpc))/data['virial radius'], logbins)\n",
    "frac_d = [len(data[data['t08_odd_feature_a21_disturbed_debiased'][idxrs==k]>=0.4])/float(len(data[idxrs==k])+1) for k in range(len(logbins))]\n",
    "num_d = [float(len(data[data['t08_odd_feature_a21_disturbed_debiased'][idxrs==k]>=0.4])) for k in range(len(logbins))]\n",
    "num_t = [float(len(data[idxrs==k])+1) for k in range(len(logbins))]\n",
    "error_frac_d = N.nan_to_num(frac_d*N.sqrt((1/N.array(num_d))+(1/N.array(num_t))))\n",
    "y1ed = frac_d + error_frac_d\n",
    "y2ed = frac_d - error_frac_d"
   ]
  },
  {
   "cell_type": "code",
   "execution_count": null,
   "metadata": {
    "collapsed": false
   },
   "outputs": [],
   "source": [
    "P.figure(figsize=(4,4))\n",
    "ax = P.subplot(111)\n",
    "ax.scatter(bso[1][:-1] + N.diff(bso[1])[0]/2, frac_d[1:], marker='x', color='k')\n",
    "ax.fill_between(bso[1][:-1] + N.diff(bso[1])[0]/2, y1ed[1:], y2ed[1:], color='k', alpha=0.15, edgecolor='None')\n",
    "ax.set_xscale('log')\n",
    "ax.minorticks_on()\n",
    "ax.set_xlim(0.09, 15)\n",
    "#ax.set_ylim(0, 0.05)\n",
    "ax.set_xlabel(r'$R/R_{200}$')\n",
    "ax.set_ylabel(r'$\\rm{fraction}$')\n",
    "ax.set_xticks([0.1, 1, 10])\n",
    "ax.set_xticklabels([0.1, 1, 10])\n",
    "P.tight_layout()\n",
    "P.savefig('disturbed_fraction_trend_with_log_radius.pdf')"
   ]
  },
  {
   "cell_type": "code",
   "execution_count": null,
   "metadata": {
    "collapsed": true
   },
   "outputs": [],
   "source": [
    "discs = data[N.where(N.logical_and(data['t01_smooth_or_features_a02_features_or_disk_debiased'] > 0.430, data['t02_edgeon_a05_no_debiased']>0.715, data['t02_edgeon_a05_no_count']>=20))]"
   ]
  },
  {
   "cell_type": "code",
   "execution_count": null,
   "metadata": {
    "collapsed": false
   },
   "outputs": [],
   "source": [
    "idxrs = N.digitize((data['projected cluster centric radius'].to(u.Mpc))/data['virial radius'], logbins)\n",
    "idxds = N.digitize((discs['projected cluster centric radius'].to(u.Mpc))/discs['virial radius'], logbins)\n",
    "frac_b = [len(discs[discs['t03_bar_a06_bar_debiased'][idxds==k]>=0.6])/float(len(discs[idxds==k])+1) for k in range(len(logbins))]\n",
    "num_b = [float(len(discs[data['t03_bar_a06_bar_debiased'][idxds==k]>=0.6])) for k in range(len(logbins))]\n",
    "num_t = [float(len(discs[idxds==k])+1) for k in range(len(logbins))]\n",
    "error_frac_b = N.nan_to_num(frac_b*N.sqrt((1/N.array(num_b))+(1/N.array(num_t))))\n",
    "y1eb = frac_b + error_frac_b\n",
    "y2eb = frac_b - error_frac_b"
   ]
  },
  {
   "cell_type": "code",
   "execution_count": null,
   "metadata": {
    "collapsed": false
   },
   "outputs": [],
   "source": [
    "P.figure(figsize=(4,4))\n",
    "ax = P.subplot(111)\n",
    "ax.scatter(bso[1][:-1] + N.diff(bso[1])[0]/2, frac_b[1:], marker='x', color='k')\n",
    "ax.fill_between(bso[1][:-1] + N.diff(bso[1])[0]/2, y1eb[1:], y2eb[1:], color='k', alpha=0.15, edgecolor='None')\n",
    "ax.set_xscale('log')\n",
    "ax.minorticks_on()\n",
    "ax.set_xlim(0.09, 15)\n",
    "#ax.set_ylim(0, 0.05)\n",
    "ax.set_xlabel(r'$R/R_{200}$')\n",
    "ax.set_ylabel(r'$\\rm{fraction}$')\n",
    "ax.set_xticks([0.1, 1, 10])\n",
    "ax.set_xticklabels([0.1, 1, 10])\n",
    "P.tight_layout()\n",
    "P.savefig('bar_fraction_over_disc_trend_with_log_radius.pdf')"
   ]
  },
  {
   "cell_type": "code",
   "execution_count": null,
   "metadata": {
    "collapsed": true
   },
   "outputs": [],
   "source": [
    "red = data[N.where(data['MU_MR']> data['upper_GV'])]\n",
    "green = data[N.where(N.logical_and(data['MU_MR'] < data['upper_GV'], data['MU_MR'] > data['lower_GV']))]\n",
    "blue = data[N.where(data['MU_MR']< data['lower_GV'])]"
   ]
  },
  {
   "cell_type": "code",
   "execution_count": null,
   "metadata": {
    "collapsed": false
   },
   "outputs": [],
   "source": [
    "print len(red), len(green), len(blue)"
   ]
  },
  {
   "cell_type": "code",
   "execution_count": null,
   "metadata": {
    "collapsed": false
   },
   "outputs": [],
   "source": [
    "idxrs = N.digitize((red['projected cluster centric radius'].to(u.Mpc))/red['virial radius'], logbins)\n",
    "idxs = N.digitize((data['projected cluster centric radius'].to(u.Mpc))/data['virial radius'], logbins)\n",
    "frac_dr = [len(red['t01_smooth_or_features_a02_features_or_disk_debiased'][idxrs==k][red['t01_smooth_or_features_a02_features_or_disk_debiased'][idxrs==k]>=0.7])/float(len(data[idxs==k])+1) for k in range(len(logbins))]\n",
    "frac_sr = [len(red['t01_smooth_or_features_a01_smooth_debiased'][idxrs==k][red['t01_smooth_or_features_a01_smooth_debiased'][idxrs==k]>=0.7])/float(len(data[idxs==k])+1) for k in range(len(logbins))]\n",
    "num_dr = [float(len(red['t01_smooth_or_features_a02_features_or_disk_debiased'][idxrs==k][red['t01_smooth_or_features_a02_features_or_disk_debiased'][idxrs==k]>=0.7])) for k in range(len(logbins))]\n",
    "num_sr = [float(len(red['t01_smooth_or_features_a01_smooth_debiased'][idxrs==k][red['t01_smooth_or_features_a01_smooth_debiased'][idxrs==k]>=0.7])) for k in range(len(logbins))]\n",
    "num_tr = [float(len(data[idxs==k])+1) for k in range(len(logbins))]\n",
    "error_frac_dr = N.nan_to_num(frac_dr*N.sqrt((1/N.array(num_dr))+(1/N.array(num_tr))))\n",
    "error_frac_sr = N.nan_to_num(frac_sr*N.sqrt((1/N.array(num_sr))+(1/N.array(num_tr))))\n",
    "y1edr = frac_dr + error_frac_dr\n",
    "y2edr = frac_dr - error_frac_dr\n",
    "y1esr = frac_sr + error_frac_sr\n",
    "y2esr = frac_sr - error_frac_sr"
   ]
  },
  {
   "cell_type": "code",
   "execution_count": null,
   "metadata": {
    "collapsed": false
   },
   "outputs": [],
   "source": [
    "idxrs = N.digitize((green['projected cluster centric radius'].to(u.Mpc))/green['virial radius'], logbins)\n",
    "idxs = N.digitize((data['projected cluster centric radius'].to(u.Mpc))/data['virial radius'], logbins)\n",
    "frac_dg = [len(green['t01_smooth_or_features_a02_features_or_disk_debiased'][idxrs==k][green['t01_smooth_or_features_a02_features_or_disk_debiased'][idxrs==k]>=0.7])/float(len(data[idxs==k])+1) for k in range(len(logbins))]\n",
    "frac_sg = [len(green['t01_smooth_or_features_a01_smooth_debiased'][idxrs==k][green['t01_smooth_or_features_a01_smooth_debiased'][idxrs==k]>=0.7])/float(len(data[idxs==k])+1) for k in range(len(logbins))]\n",
    "num_dg = [float(len(green['t01_smooth_or_features_a02_features_or_disk_debiased'][idxrs==k][green['t01_smooth_or_features_a02_features_or_disk_debiased'][idxrs==k]>=0.7])) for k in range(len(logbins))]\n",
    "num_sg = [float(len(green['t01_smooth_or_features_a01_smooth_debiased'][idxrs==k][green['t01_smooth_or_features_a01_smooth_debiased'][idxrs==k]>=0.7])) for k in range(len(logbins))]\n",
    "num_tg = [float(len(data[idxs==k])+1) for k in range(len(logbins))]\n",
    "error_frac_dg = N.nan_to_num(frac_dg*N.sqrt((1/N.array(num_dg))+(1/N.array(num_tg))))\n",
    "error_frac_sg = N.nan_to_num(frac_sg*N.sqrt((1/N.array(num_sg))+(1/N.array(num_tg))))\n",
    "y1edg = frac_dg + error_frac_dg\n",
    "y2edg = frac_dg - error_frac_dg\n",
    "y1esg = frac_sg + error_frac_sg\n",
    "y2esg = frac_sg - error_frac_sg"
   ]
  },
  {
   "cell_type": "code",
   "execution_count": null,
   "metadata": {
    "collapsed": false
   },
   "outputs": [],
   "source": [
    "idxrs = N.digitize((blue['projected cluster centric radius'].to(u.Mpc))/blue['virial radius'], logbins)\n",
    "idxs = N.digitize((data['projected cluster centric radius'].to(u.Mpc))/data['virial radius'], logbins)\n",
    "frac_db = [len(blue['t01_smooth_or_features_a02_features_or_disk_debiased'][idxrs==k][blue['t01_smooth_or_features_a02_features_or_disk_debiased'][idxrs==k]>=0.7])/float(len(data[idxs==k])+1) for k in range(len(logbins))]\n",
    "frac_sb = [len(blue['t01_smooth_or_features_a01_smooth_debiased'][idxrs==k][blue['t01_smooth_or_features_a01_smooth_debiased'][idxrs==k]>=0.7])/float(len(data[idxs==k])+1) for k in range(len(logbins))]\n",
    "num_db = [float(len(blue['t01_smooth_or_features_a02_features_or_disk_debiased'][idxrs==k][blue['t01_smooth_or_features_a02_features_or_disk_debiased'][idxrs==k]>=0.7])) for k in range(len(logbins))]\n",
    "num_sb = [float(len(blue['t01_smooth_or_features_a01_smooth_debiased'][idxrs==k][blue['t01_smooth_or_features_a01_smooth_debiased'][idxrs==k]>=0.7])) for k in range(len(logbins))]\n",
    "num_tb = [float(len(data[idxs==k])+1) for k in range(len(logbins))]\n",
    "error_frac_db = N.nan_to_num(frac_db*N.sqrt((1/N.array(num_db))+(1/N.array(num_tb))))\n",
    "error_frac_sb = N.nan_to_num(frac_sb*N.sqrt((1/N.array(num_sb))+(1/N.array(num_tb))))\n",
    "y1edb = frac_db + error_frac_db\n",
    "y2edb = frac_db - error_frac_db\n",
    "y1esb = frac_sb + error_frac_sb\n",
    "y2esb = frac_sb - error_frac_sb"
   ]
  },
  {
   "cell_type": "code",
   "execution_count": null,
   "metadata": {
    "collapsed": false
   },
   "outputs": [],
   "source": [
    "P.figure(figsize=(12,4))\n",
    "ax = P.subplot(131)\n",
    "ax.scatter(bso[1][:-1] + N.diff(bso[1])[0]/2, frac_dr[1:], marker='x', color='k')\n",
    "ax.fill_between(bso[1][:-1] + N.diff(bso[1])[0]/2, y1edr[1:], y2edr[1:], color='k', alpha=0.15, edgecolor='None')\n",
    "ax.scatter(bso[1][:-1] + N.diff(bso[1])[0]/2, frac_sr[1:], marker='o', color='r')\n",
    "ax.fill_between(bso[1][:-1] + N.diff(bso[1])[0]/2, y1esr[1:], y2esr[1:], color='r', alpha=0.15, edgecolor='None')\n",
    "ax.set_xscale('log')\n",
    "ax.minorticks_on()\n",
    "ax.set_xlim(0.09, 15)\n",
    "ax.set_ylim(0)\n",
    "ax.set_xlabel(r'$R/R_{200}$ $[\\rm{Mpc}]$')\n",
    "ax.set_ylabel(r'$\\rm{fraction}$')\n",
    "ax.set_xticks([0.1, 1, 10])\n",
    "ax.set_xticklabels([0.1, 1, 10])\n",
    "ax = P.subplot(132)\n",
    "ax.scatter(bso[1][:-1] + N.diff(bso[1])[0]/2, frac_dg[1:], marker='x', color='k')\n",
    "ax.fill_between(bso[1][:-1] + N.diff(bso[1])[0]/2, y1edg[1:], y2edg[1:], color='k', alpha=0.15, edgecolor='None')\n",
    "ax.scatter(bso[1][:-1] + N.diff(bso[1])[0]/2, frac_sg[1:], marker='o', color='g')\n",
    "ax.fill_between(bso[1][:-1] + N.diff(bso[1])[0]/2, y1esg[1:], y2esg[1:], color='g', alpha=0.15, edgecolor='None')\n",
    "ax.set_xscale('log')\n",
    "ax.minorticks_on()\n",
    "ax.set_xlim(0.09, 15)\n",
    "ax.set_ylim(0)\n",
    "ax.set_xlabel(r'$R/R_{200}$ $[\\rm{Mpc}]$')\n",
    "ax.set_xticks([0.1, 1, 10])\n",
    "ax.set_xticklabels([0.1, 1, 10])\n",
    "ax = P.subplot(133)\n",
    "ax.scatter(bso[1][:-1] + N.diff(bso[1])[0]/2, frac_db[1:], marker='x', color='k')\n",
    "ax.fill_between(bso[1][:-1] + N.diff(bso[1])[0]/2, y1edb[1:], y2edb[1:], color='k', alpha=0.15, edgecolor='None')\n",
    "ax.scatter(bso[1][:-1] + N.diff(bso[1])[0]/2, frac_sb[1:], marker='o', color='b')\n",
    "ax.fill_between(bso[1][:-1] + N.diff(bso[1])[0]/2, y1esb[1:], y2esb[1:], color='b', alpha=0.15, edgecolor='None')\n",
    "ax.set_xscale('log')\n",
    "ax.minorticks_on()\n",
    "ax.set_xlim(0.09, 15)\n",
    "ax.set_ylim(0)\n",
    "ax.set_xlabel(r'$R/R_{200}$ $[\\rm{Mpc}]$')\n",
    "ax.set_xticks([0.1, 1, 10])\n",
    "ax.set_xticklabels([0.1, 1, 10])\n",
    "P.tight_layout()\n",
    "P.savefig('RGB_disc_and_smooth_fraction_over_data_trend_with_log_radius.pdf')"
   ]
  },
  {
   "cell_type": "code",
   "execution_count": null,
   "metadata": {
    "collapsed": true
   },
   "outputs": [],
   "source": [
    "data = Table.read('mr181920_member_long_groupID_catalog_central_satellites_with_halo_mass_projected_clustercentric_radius_vel_disp_virial_radius.fits', format='fits')"
   ]
  },
  {
   "cell_type": "code",
   "execution_count": null,
   "metadata": {
    "collapsed": true
   },
   "outputs": [],
   "source": [
    "data = data[N.where(data['number in cluster']>=2)]"
   ]
  },
  {
   "cell_type": "code",
   "execution_count": null,
   "metadata": {
    "collapsed": true
   },
   "outputs": [],
   "source": [
    "red = data[N.where(data['MU_MR']> data['upper_GV'])]\n",
    "green = data[N.where(N.logical_and(data['MU_MR'] < data['upper_GV'], data['MU_MR'] > data['lower_GV']))]\n",
    "blue = data[N.where(data['MU_MR']< data['lower_GV'])]"
   ]
  },
  {
   "cell_type": "code",
   "execution_count": null,
   "metadata": {
    "collapsed": false
   },
   "outputs": [],
   "source": [
    "idxrs = N.digitize((red['projected cluster centric radius'].to(u.Mpc))/red['virial radius'], logbins)\n",
    "idxs = N.digitize((data['projected cluster centric radius'].to(u.Mpc))/data['virial radius'], logbins)\n",
    "frac_oddr = [len(red[red['t06_odd_a14_yes_debiased'][idxrs==k]>=0.4])/float(len(data[idxs==k])+1) for k in range(len(logbins))]\n",
    "num_oddr = [float(len(red[red['t06_odd_a14_yes_debiased'][idxrs==k]>=0.4])) for k in range(len(logbins))]\n",
    "num_tr = [float(len(data[idxs==k])+1) for k in range(len(logbins))]\n",
    "error_frac_oddr = N.nan_to_num(frac_oddr*N.sqrt((1/N.array(num_oddr))+(1/N.array(num_tr))))\n",
    "y1eoddr = frac_oddr + error_frac_oddr\n",
    "y2eoddr = frac_oddr - error_frac_oddr"
   ]
  },
  {
   "cell_type": "code",
   "execution_count": null,
   "metadata": {
    "collapsed": false
   },
   "outputs": [],
   "source": [
    "idxrs = N.digitize((green['projected cluster centric radius'].to(u.Mpc))/green['virial radius'], logbins)\n",
    "idxs = N.digitize((data['projected cluster centric radius'].to(u.Mpc))/data['virial radius'], logbins)\n",
    "frac_oddg = [len(green[green['t06_odd_a14_yes_debiased'][idxrs==k]>=0.4])/float(len(data[idxs==k])+1) for k in range(len(logbins))]\n",
    "num_oddg = [float(len(green[green['t06_odd_a14_yes_debiased'][idxrs==k]>=0.4])) for k in range(len(logbins))]\n",
    "num_tg = [float(len(data[idxs==k])+1) for k in range(len(logbins))]\n",
    "error_frac_oddg = N.nan_to_num(frac_oddg*N.sqrt((1/N.array(num_oddg))+(1/N.array(num_tg))))\n",
    "y1eoddg = frac_oddg + error_frac_oddg\n",
    "y2eoddg = frac_oddg - error_frac_oddg"
   ]
  },
  {
   "cell_type": "code",
   "execution_count": null,
   "metadata": {
    "collapsed": false
   },
   "outputs": [],
   "source": [
    "idxrs = N.digitize((blue['projected cluster centric radius'].to(u.Mpc))/blue['virial radius'], logbins)\n",
    "idxs = N.digitize((data['projected cluster centric radius'].to(u.Mpc))/data['virial radius'], logbins)\n",
    "frac_oddb = [len(blue[blue['t06_odd_a14_yes_debiased'][idxrs==k]>=0.4])/float(len(data[idxs==k])+1) for k in range(len(logbins))]\n",
    "num_oddb = [float(len(blue[blue['t06_odd_a14_yes_debiased'][idxrs==k]>=0.4])) for k in range(len(logbins))]\n",
    "num_tb = [float(len(data[idxs==k])+1) for k in range(len(logbins))]\n",
    "error_frac_oddb = N.nan_to_num(frac_oddb*N.sqrt((1/N.array(num_oddb))+(1/N.array(num_tb))))\n",
    "y1eoddb = frac_oddb+ error_frac_oddb\n",
    "y2eoddb = frac_oddb - error_frac_oddb"
   ]
  },
  {
   "cell_type": "code",
   "execution_count": null,
   "metadata": {
    "collapsed": false
   },
   "outputs": [],
   "source": [
    "P.figure(figsize=(12,4))\n",
    "ax = P.subplot(131)\n",
    "ax.scatter(bso[1][:-1] + N.diff(bso[1])[0]/2, frac_oddr[1:], marker='x', color='k')\n",
    "ax.fill_between(bso[1][:-1] + N.diff(bso[1])[0]/2, y1eoddr[1:], y2eoddr[1:], color='k', alpha=0.15, edgecolor='None')\n",
    "ax.set_xscale('log')\n",
    "ax.minorticks_on()\n",
    "ax.set_xlim(0.09, 15)\n",
    "ax.set_ylim(0)\n",
    "ax.set_xlabel(r'$R/R_{200}$')\n",
    "ax.set_ylabel(r'$\\rm{fraction}$')\n",
    "ax.set_xticks([0.1, 1, 10])\n",
    "ax.set_xticklabels([0.1, 1, 10])\n",
    "ax = P.subplot(132)\n",
    "ax.scatter(bso[1][:-1] + N.diff(bso[1])[0]/2, frac_oddg[1:], marker='x', color='k')\n",
    "ax.fill_between(bso[1][:-1] + N.diff(bso[1])[0]/2, y1eoddg[1:], y2eoddg[1:], color='k', alpha=0.15, edgecolor='None')\n",
    "ax.set_xscale('log')\n",
    "ax.minorticks_on()\n",
    "ax.set_xlim(0.09, 15)\n",
    "ax.set_ylim(0)\n",
    "ax.set_xlabel(r'$R/R_{200}$')\n",
    "ax.set_xticks([0.1, 1, 10])\n",
    "ax.set_xticklabels([0.1, 1, 10])\n",
    "ax = P.subplot(133)\n",
    "ax.scatter(bso[1][:-1] + N.diff(bso[1])[0]/2, frac_oddb[1:], marker='x', color='k')\n",
    "ax.fill_between(bso[1][:-1] + N.diff(bso[1])[0]/2, y1eoddb[1:], y2eoddb[1:], color='k', alpha=0.15, edgecolor='None')\n",
    "ax.set_xscale('log')\n",
    "ax.minorticks_on()\n",
    "ax.set_xlim(0.09, 15)\n",
    "ax.set_ylim(0)\n",
    "ax.set_xlabel(r'$R/R_{200}$')\n",
    "ax.set_xticks([0.1, 1, 10])\n",
    "ax.set_xticklabels([0.1, 1, 10])\n",
    "P.tight_layout()\n",
    "P.savefig('RGB_odd_fraction_over_data_trend_with_log_radius.pdf')"
   ]
  },
  {
   "cell_type": "code",
   "execution_count": null,
   "metadata": {
    "collapsed": false
   },
   "outputs": [],
   "source": [
    "N.percentile(data['halo mass'], [33, 66])"
   ]
  },
  {
   "cell_type": "code",
   "execution_count": null,
   "metadata": {
    "collapsed": true
   },
   "outputs": [],
   "source": [
    "high = data[N.where(data['halo mass']> 13)]\n",
    "med = data[N.where(N.logical_and(data['halo mass'] < 13, data['halo mass'] > 12.3))]\n",
    "low = data[N.where(data['halo mass']< 12.3)]"
   ]
  },
  {
   "cell_type": "code",
   "execution_count": null,
   "metadata": {
    "collapsed": false
   },
   "outputs": [],
   "source": [
    "print len(high), len(med), len(low)"
   ]
  },
  {
   "cell_type": "code",
   "execution_count": null,
   "metadata": {
    "collapsed": false
   },
   "outputs": [],
   "source": [
    "N.percentile((sat['projected cluster centric radius'].to(u.Mpc))/sat['virial radius'], [3, 50, 84])"
   ]
  },
  {
   "cell_type": "code",
   "execution_count": null,
   "metadata": {
    "collapsed": false
   },
   "outputs": [],
   "source": [
    "len(sat[N.where((sat['projected cluster centric radius'].to(u.Mpc))/sat['virial radius'] < 1)])/float(len(sat))*100"
   ]
  },
  {
   "cell_type": "code",
   "execution_count": null,
   "metadata": {
    "collapsed": false
   },
   "outputs": [],
   "source": [
    "P.figure(figsize=(4,4))\n",
    "ax = P.subplot(111)\n",
    "ax.scatter(10**data['halo mass'], data['velocity dispersion'], color='k', marker='x')\n",
    "ax.set_xlabel(r'$M_{\\rm{halo}}$')\n",
    "ax.set_ylabel(r'$\\sigma_{\\rm{x}}$ $[km/s]$')\n",
    "ax.set_xlim(1E11,2E15)\n",
    "ax.set_ylim(10,1000)\n",
    "ax.minorticks_on()\n",
    "ax.set_xscale('log')\n",
    "ax.set_yscale('log')\n",
    "P.tight_layout()\n",
    "P.savefig('halo_mass_versus_sigma.pdf')"
   ]
  },
  {
   "cell_type": "code",
   "execution_count": null,
   "metadata": {
    "collapsed": true
   },
   "outputs": [],
   "source": [
    "sat = data[N.where(data['central or satellite']==0)]"
   ]
  },
  {
   "cell_type": "code",
   "execution_count": null,
   "metadata": {
    "collapsed": false
   },
   "outputs": [],
   "source": [
    "P.figure(figsize=(4,4))\n",
    "ax = P.subplot(111)\n",
    "ax.hist(data['virial radius'], color='k', histtype='step', bins=20)\n",
    "ax.set_xlabel(r'$R_{200}$ $[\\rm{Mpc}]$')\n",
    "ax.set_ylabel(r'$N$')\n",
    "ax.minorticks_on()\n",
    "P.tight_layout()\n",
    "P.savefig('virial_radius_distribution.pdf')"
   ]
  },
  {
   "cell_type": "code",
   "execution_count": null,
   "metadata": {
    "collapsed": false
   },
   "outputs": [],
   "source": [
    "print len(red), len(green), len(blue)"
   ]
  },
  {
   "cell_type": "code",
   "execution_count": null,
   "metadata": {
    "collapsed": true
   },
   "outputs": [],
   "source": [
    "rsat = red[N.where(red['central or satellite']==0)]\n",
    "gsat = green[N.where(green['central or satellite']==0)]\n",
    "bsat = blue[N.where(blue['central or satellite']==0)]"
   ]
  },
  {
   "cell_type": "code",
   "execution_count": null,
   "metadata": {
    "collapsed": false
   },
   "outputs": [],
   "source": [
    "print len(rsat), len(gsat), len(bsat)"
   ]
  },
  {
   "cell_type": "code",
   "execution_count": null,
   "metadata": {
    "collapsed": false
   },
   "outputs": [],
   "source": [
    "P.figure(figsize=(4,4))\n",
    "ax = P.subplot(111)\n",
    "ax.hist((rsat['projected cluster centric radius'].to(u.Mpc))/rsat['virial radius'], histtype='step', color='r', bins=logbins, normed=True)\n",
    "ax.hist((gsat['projected cluster centric radius'].to(u.Mpc))/gsat['virial radius'], histtype='step', color='g', bins=logbins, normed=True)\n",
    "ax.hist((bsat['projected cluster centric radius'].to(u.Mpc))/bsat['virial radius'], histtype='step', color='b', bins=logbins, normed=True)\n",
    "ax.set_xscale('log')\n",
    "ax.minorticks_on()\n",
    "ax.set_xlim(0, 15)\n",
    "ax.set_xlabel(r'$R/R_{200}$')\n",
    "ax.set_ylabel(r'$\\rm{normalised }$ $\\rm{density}$')\n",
    "ax.set_xticks([0.1, 1, 10])\n",
    "ax.set_xticklabels([0.1, 1, 10])\n",
    "P.savefig('RGB_pccr_virial_radius_normalised_distribution.pdf')\n"
   ]
  },
  {
   "cell_type": "code",
   "execution_count": null,
   "metadata": {
    "collapsed": true
   },
   "outputs": [],
   "source": [
    "rcl = red[N.where(red['central or satellite']==1)]\n",
    "gcl = green[N.where(green['central or satellite']==1)]\n",
    "bcl = blue[N.where(blue['central or satellite']==1)]"
   ]
  },
  {
   "cell_type": "code",
   "execution_count": null,
   "metadata": {
    "collapsed": false
   },
   "outputs": [],
   "source": [
    "print len(rcl), len(gcl), len(bcl)"
   ]
  },
  {
   "cell_type": "code",
   "execution_count": null,
   "metadata": {
    "collapsed": false
   },
   "outputs": [],
   "source": [
    "P.figure(figsize=(4,4))\n",
    "ax = P.subplot(111)\n",
    "ax.hist((rcl['velocity dispersion']), histtype='step', color='r', bins=15, range=(0,400))\n",
    "ax.hist((gcl['velocity dispersion']), histtype='step', color='g', bins=15, range=(0,400))\n",
    "ax.hist((bcl['velocity dispersion']), histtype='step', color='b', bins=15, range=(0,400))\n",
    "ax.minorticks_on()\n",
    "ax.set_xlabel(r'$\\sigma$ $[\\rm{km}$ $\\rm{s}^{-1}]$')\n",
    "ax.set_ylabel(r'$\\rm{normalised }$ $\\rm{density}$')\n",
    "P.savefig('RGB_vel_disp_normalised_distribution.pdf')\n"
   ]
  },
  {
   "cell_type": "code",
   "execution_count": null,
   "metadata": {
    "collapsed": false
   },
   "outputs": [],
   "source": [
    "P.figure(figsize=(4,4))\n",
    "ax = P.subplot(111)\n",
    "ax.hist((rcl['number in cluster']), histtype='step', color='r', bins=15, range=(0, 15), normed=True)\n",
    "ax.hist((gcl['number in cluster']), histtype='step', color='g', bins=15, range=(0, 15), normed=True)\n",
    "ax.hist((bcl['number in cluster']), histtype='step', color='b', bins=15, range=(0, 15), normed=True)\n",
    "ax.minorticks_on()\n",
    "ax.set_xlabel(r'$N_{\\rm{cluster}}$')\n",
    "ax.set_ylabel(r'$\\rm{normalised }$ $\\rm{density}$')\n",
    "P.savefig('RGB_N_cluster_normalised_distribution.pdf')\n"
   ]
  },
  {
   "cell_type": "code",
   "execution_count": null,
   "metadata": {
    "collapsed": false
   },
   "outputs": [],
   "source": [
    "idxrs = N.digitize((red['projected cluster centric radius'].to(u.Mpc))/red['virial radius'], logbins)\n",
    "idxs = N.digitize((data['projected cluster centric radius'].to(u.Mpc))/data['virial radius'], logbins)\n",
    "frac_mr = [len(red[red['t08_odd_feature_a24_merger_debiased'][idxrs==k]>=0.4])/float(len(data[idxs==k])+1) for k in range(len(logbins))]\n",
    "num_mr = [float(len(red[red['t08_odd_feature_a24_merger_debiased'][idxrs==k]>=0.4])) for k in range(len(logbins))]\n",
    "num_tr = [float(len(data[idxs==k])+1) for k in range(len(logbins))]\n",
    "error_frac_mr = N.nan_to_num(frac_mr*N.sqrt((1/N.array(num_mr))+(1/N.array(num_tr))))\n",
    "y1emr = frac_mr + error_frac_mr\n",
    "y2emr = frac_mr - error_frac_mr\n",
    "l_frac_mr = map(lambda x,y: str(int(x))+'/'+str(int(y)), num_mr,num_tr) "
   ]
  },
  {
   "cell_type": "code",
   "execution_count": null,
   "metadata": {
    "collapsed": false
   },
   "outputs": [],
   "source": [
    "idxrs = N.digitize((green['projected cluster centric radius'].to(u.Mpc))/green['virial radius'], logbins)\n",
    "idxs = N.digitize((data['projected cluster centric radius'].to(u.Mpc))/data['virial radius'], logbins)\n",
    "frac_mg = [len(green[green['t08_odd_feature_a24_merger_debiased'][idxrs==k]>=0.4])/float(len(data[idxs==k])+1) for k in range(len(logbins))]\n",
    "num_mg = [float(len(green[green['t08_odd_feature_a24_merger_debiased'][idxrs==k]>=0.4])) for k in range(len(logbins))]\n",
    "num_tg = [float(len(data[idxs==k])+1) for k in range(len(logbins))]\n",
    "error_frac_mg = N.nan_to_num(frac_mg*N.sqrt((1/N.array(num_mg))+(1/N.array(num_tg))))\n",
    "y1emg = frac_mg + error_frac_mg\n",
    "y2emg = frac_mg - error_frac_mg\n",
    "l_frac_mg = map(lambda x,y: str(int(x))+'/'+str(int(y)), num_mg,num_tg) \n"
   ]
  },
  {
   "cell_type": "code",
   "execution_count": null,
   "metadata": {
    "collapsed": false
   },
   "outputs": [],
   "source": [
    "idxrs = N.digitize((blue['projected cluster centric radius'].to(u.Mpc))/blue['virial radius'], logbins)\n",
    "idxs = N.digitize((data['projected cluster centric radius'].to(u.Mpc))/data['virial radius'], logbins)\n",
    "frac_mb = [len(blue[blue['t08_odd_feature_a24_merger_debiased'][idxrs==k]>=0.4])/float(len(data[idxs==k])+1) for k in range(len(logbins))]\n",
    "num_mb = [float(len(blue[blue['t08_odd_feature_a24_merger_debiased'][idxrs==k]>=0.4])) for k in range(len(logbins))]\n",
    "num_tb = [float(len(data[idxs==k])+1) for k in range(len(logbins))]\n",
    "error_frac_mb = N.nan_to_num(frac_mb*N.sqrt((1/N.array(num_mb))+(1/N.array(num_tb))))\n",
    "y1emb = frac_mb + error_frac_mb\n",
    "y2emb = frac_mb - error_frac_mb\n",
    "l_frac_mb = map(lambda x,y: str(int(x))+'/'+str(int(y)), num_mb,num_tb) "
   ]
  },
  {
   "cell_type": "code",
   "execution_count": null,
   "metadata": {
    "collapsed": false
   },
   "outputs": [],
   "source": [
    "P.figure(figsize=(12,4))\n",
    "ax = P.subplot(131)\n",
    "ax.scatter(bso[1][:-1] + N.diff(bso[1])[0]/2, frac_mr[1:], marker='x', color='k')\n",
    "ax.fill_between(bso[1][:-1] + N.diff(bso[1])[0]/2, y1emr[1:], y2emr[1:], color='k', alpha=0.15, edgecolor='None')\n",
    "for i, txt in enumerate(l_frac_mr[1:]):\n",
    "    ax.annotate(txt, ((bso[1][:-1] + N.diff(bso[1])[0]/2)[i],frac_mr[1:][i]-0.01), fontsize=10)\n",
    "ax.set_xscale('log')\n",
    "ax.minorticks_on()\n",
    "ax.set_xlim(0.09, 15)\n",
    "ax.set_ylim(0)\n",
    "ax.set_xlabel(r'$R/R_{200}$')\n",
    "ax.set_ylabel(r'$\\rm{fraction}$')\n",
    "ax.set_xticks([0.1, 1, 10])\n",
    "ax.set_xticklabels([0.1, 1, 10])\n",
    "ax = P.subplot(132)\n",
    "ax.scatter(bso[1][:-1] + N.diff(bso[1])[0]/2, frac_mg[1:], marker='x', color='k')\n",
    "ax.fill_between(bso[1][:-1] + N.diff(bso[1])[0]/2, y1emg[1:], y2emg[1:], color='k', alpha=0.15, edgecolor='None')\n",
    "for i, txt in enumerate(l_frac_mg[1:]):\n",
    "    ax.annotate(txt, ((bso[1][:-1] + N.diff(bso[1])[0]/2)[i],frac_mg[1:][i]-0.005), fontsize=10)\n",
    "ax.set_xscale('log')\n",
    "ax.minorticks_on()\n",
    "ax.set_xlim(0.09, 15)\n",
    "ax.set_ylim(0)\n",
    "ax.set_xlabel(r'$R/R_{200}$')\n",
    "ax.set_xticks([0.1, 1, 10])\n",
    "ax.set_xticklabels([0.1, 1, 10])\n",
    "ax = P.subplot(133)\n",
    "ax.scatter(bso[1][:-1] + N.diff(bso[1])[0]/2, frac_mb[1:], marker='x', color='k')\n",
    "ax.fill_between(bso[1][:-1] + N.diff(bso[1])[0]/2, y1emb[1:], y2emb[1:], color='k', alpha=0.15, edgecolor='None')\n",
    "for i, txt in enumerate(l_frac_mb[1:]):\n",
    "    ax.annotate(txt, ((bso[1][:-1] + N.diff(bso[1])[0]/2)[i],frac_mb[1:][i]-0.005), fontsize=10)\n",
    "ax.set_xscale('log')\n",
    "ax.minorticks_on()\n",
    "ax.set_xlim(0.09, 15)\n",
    "ax.set_ylim(0)\n",
    "ax.set_xlabel(r'$R/R_{200}$')\n",
    "ax.set_xticks([0.1, 1, 10])\n",
    "ax.set_xticklabels([0.1, 1, 10])\n",
    "P.tight_layout()\n",
    "P.savefig('RGB_merger_fraction_over_data_trend_with_log_radius.pdf')"
   ]
  },
  {
   "cell_type": "code",
   "execution_count": null,
   "metadata": {
    "collapsed": false
   },
   "outputs": [],
   "source": [
    "discs = data[N.where(N.logical_and(data['t01_smooth_or_features_a02_features_or_disk_debiased'] > 0.430, data['t02_edgeon_a05_no_debiased']>0.715, data['t02_edgeon_a05_no_count']>=20))]\n",
    "redd = discs[N.where(discs['MU_MR']> discs['upper_GV'])]\n",
    "greend = discs[N.where(N.logical_and(discs['MU_MR'] < discs['upper_GV'], discs['MU_MR'] > discs['lower_GV']))]\n",
    "blued = discs[N.where(discs['MU_MR']< discs['lower_GV'])]"
   ]
  },
  {
   "cell_type": "code",
   "execution_count": null,
   "metadata": {
    "collapsed": false
   },
   "outputs": [],
   "source": [
    "idxrs = N.digitize((redd['projected cluster centric radius'].to(u.Mpc))/redd['virial radius'], logbins)\n",
    "idxs = N.digitize((discs['projected cluster centric radius'].to(u.Mpc))/discs['virial radius'], logbins)\n",
    "frac_mr = [len(redd[redd['t03_bar_a06_bar_debiased'][idxrs==k]>=0.4])/float(len(discs[idxs==k])+1) for k in range(len(logbins))]\n",
    "num_mr = [float(len(redd[redd['t03_bar_a06_bar_debiased'][idxrs==k]>=0.4])) for k in range(len(logbins))]\n",
    "num_tr = [float(len(discs[idxs==k])+1) for k in range(len(logbins))]\n",
    "error_frac_mr = N.nan_to_num(frac_mr*N.sqrt((1/N.array(num_mr))+(1/N.array(num_tr))))\n",
    "y1emr = frac_mr + error_frac_mr\n",
    "y2emr = frac_mr - error_frac_mr\n",
    "l_frac_mr = map(lambda x,y: str(int(x))+'/'+str(int(y)), num_mr,num_tr) \n"
   ]
  },
  {
   "cell_type": "code",
   "execution_count": null,
   "metadata": {
    "collapsed": false
   },
   "outputs": [],
   "source": [
    "idxrs = N.digitize((greend['projected cluster centric radius'].to(u.Mpc))/greend['virial radius'], logbins)\n",
    "idxs = N.digitize((discs['projected cluster centric radius'].to(u.Mpc))/discs['virial radius'], logbins)\n",
    "frac_mg = [len(greend[greend['t03_bar_a06_bar_debiased'][idxrs==k]>=0.4])/float(len(data[idxs==k])+1) for k in range(len(logbins))]\n",
    "num_mg = [float(len(greend[greend['t03_bar_a06_bar_debiased'][idxrs==k]>=0.4])) for k in range(len(logbins))]\n",
    "num_tg = [float(len(discs[idxs==k])+1) for k in range(len(logbins))]\n",
    "error_frac_mg = N.nan_to_num(frac_mg*N.sqrt((1/N.array(num_mg))+(1/N.array(num_tg))))\n",
    "y1emg = frac_mg + error_frac_mg\n",
    "y2emg = frac_mg - error_frac_mg\n",
    "l_frac_mg = map(lambda x,y: str(int(x))+'/'+str(int(y)), num_mg,num_tg) \n"
   ]
  },
  {
   "cell_type": "code",
   "execution_count": null,
   "metadata": {
    "collapsed": false
   },
   "outputs": [],
   "source": [
    "idxrs = N.digitize((blued['projected cluster centric radius'].to(u.Mpc))/blued['virial radius'], logbins)\n",
    "idxs = N.digitize((discs['projected cluster centric radius'].to(u.Mpc))/discs['virial radius'], logbins)\n",
    "frac_mb = [len(blued[blued['t03_bar_a06_bar_debiased'][idxrs==k]>=0.4])/float(len(data[idxs==k])+1) for k in range(len(logbins))]\n",
    "num_mb = [float(len(blued[blued['t03_bar_a06_bar_debiased'][idxrs==k]>=0.4])) for k in range(len(logbins))]\n",
    "num_tb = [float(len(discs[idxs==k])+1) for k in range(len(logbins))]\n",
    "error_frac_mb = N.nan_to_num(frac_mb*N.sqrt((1/N.array(num_mb))+(1/N.array(num_tb))))\n",
    "y1emb = frac_mb + error_frac_mb\n",
    "y2emb = frac_mb - error_frac_mb\n",
    "l_frac_mb = map(lambda x,y: str(int(x))+'/'+str(int(y)), num_mb,num_tb) \n"
   ]
  },
  {
   "cell_type": "code",
   "execution_count": null,
   "metadata": {
    "collapsed": false
   },
   "outputs": [],
   "source": [
    "P.figure(figsize=(12,4))\n",
    "ax = P.subplot(131)\n",
    "ax.scatter(bso[1][:-1] + N.diff(bso[1])[0]/2, frac_mr[1:], marker='x', color='k')\n",
    "ax.fill_between(bso[1][:-1] + N.diff(bso[1])[0]/2, y1emr[1:], y2emr[1:], color='k', alpha=0.15, edgecolor='None')\n",
    "for i, txt in enumerate(l_frac_mr[1:]):\n",
    "    ax.annotate(txt, ((bso[1][:-1] + N.diff(bso[1])[0]/2)[i],frac_mr[1:][i]-0.01), fontsize=10)\n",
    "ax.set_xscale('log')\n",
    "ax.minorticks_on()\n",
    "ax.set_xlim(0.09, 15)\n",
    "ax.set_ylim(0)\n",
    "ax.set_xlabel(r'$R/R_{200}$')\n",
    "ax.set_ylabel(r'$\\rm{fraction}$')\n",
    "ax.set_xticks([0.1, 1, 10])\n",
    "ax.set_xticklabels([0.1, 1, 10])\n",
    "ax = P.subplot(132)\n",
    "ax.scatter(bso[1][:-1] + N.diff(bso[1])[0]/2, frac_mg[1:], marker='x', color='k')\n",
    "ax.fill_between(bso[1][:-1] + N.diff(bso[1])[0]/2, y1emg[1:], y2emg[1:], color='k', alpha=0.15, edgecolor='None')\n",
    "for i, txt in enumerate(l_frac_mg[1:]):\n",
    "    ax.annotate(txt, ((bso[1][:-1] + N.diff(bso[1])[0]/2)[i],frac_mg[1:][i]-0.01), fontsize=10)\n",
    "ax.set_xscale('log')\n",
    "ax.minorticks_on()\n",
    "ax.set_xlim(0.09, 15)\n",
    "ax.set_ylim(0)\n",
    "ax.set_xlabel(r'$R/R_{200}$')\n",
    "ax.set_xticks([0.1, 1, 10])\n",
    "ax.set_xticklabels([0.1, 1, 10])\n",
    "ax = P.subplot(133)\n",
    "ax.scatter(bso[1][:-1] + N.diff(bso[1])[0]/2, frac_mb[1:], marker='x', color='k')\n",
    "ax.fill_between(bso[1][:-1] + N.diff(bso[1])[0]/2, y1emb[1:], y2emb[1:], color='k', alpha=0.15, edgecolor='None')\n",
    "for i, txt in enumerate(l_frac_mb[1:]):\n",
    "    ax.annotate(txt, ((bso[1][:-1] + N.diff(bso[1])[0]/2)[i],frac_mb[1:][i]-0.02), fontsize=10)\n",
    "ax.set_xscale('log')\n",
    "ax.minorticks_on()\n",
    "ax.set_xlim(0.09, 15)\n",
    "ax.set_ylim(0)\n",
    "ax.set_xlabel(r'$R/R_{200}$')\n",
    "ax.set_xticks([0.1, 1, 10])\n",
    "ax.set_xticklabels([0.1, 1, 10])\n",
    "P.tight_layout()\n",
    "P.savefig('RGB_bar_fraction_over_discs_trend_with_log_radius.pdf')"
   ]
  },
  {
   "cell_type": "code",
   "execution_count": null,
   "metadata": {
    "collapsed": false
   },
   "outputs": [],
   "source": [
    "P.figure()\n",
    "P.hist(data['z'], histtype='step', color='k')"
   ]
  },
  {
   "cell_type": "code",
   "execution_count": null,
   "metadata": {
    "collapsed": false
   },
   "outputs": [],
   "source": [
    "cosmo.age(N.max(data['z']))"
   ]
  },
  {
   "cell_type": "code",
   "execution_count": null,
   "metadata": {
    "collapsed": false
   },
   "outputs": [],
   "source": [
    "cosmo.age(N.min(data['z']))"
   ]
  },
  {
   "cell_type": "code",
   "execution_count": null,
   "metadata": {
    "collapsed": false
   },
   "outputs": [],
   "source": [
    "N.mean(data['upper_GV'])"
   ]
  },
  {
   "cell_type": "code",
   "execution_count": null,
   "metadata": {
    "collapsed": false
   },
   "outputs": [],
   "source": [
    "N.mean(data['lower_GV'])"
   ]
  },
  {
   "cell_type": "code",
   "execution_count": null,
   "metadata": {
    "collapsed": false
   },
   "outputs": [],
   "source": [
    "lim = 0.5\n",
    "idxs = N.digitize((discs['projected cluster centric radius'].to(u.Mpc))/discs['virial radius'], logbins)\n",
    "num_t = [float(len(data[idxs==k])+1) for k in range(len(logbins))]\n",
    "frac_nb = [len(discs[discs['t05_bulge_prominence_a10_no_bulge_debiased'][idxs==k]>=lim])/float(len(discs[idxs==k])+1) for k in range(len(logbins))]\n",
    "num_nb = [float(len(discs[discs['t05_bulge_prominence_a10_no_bulge_debiased'][idxs==k]>=lim])) for k in range(len(logbins))]\n",
    "error_frac_nb = N.nan_to_num(frac_nb*N.sqrt((1/N.array(num_nb))+(1/N.array(num_t))))\n",
    "y1enb = frac_nb + error_frac_nb\n",
    "y2enb = frac_nb - error_frac_nb\n",
    "frac_jnb = [len(discs[discs['t05_bulge_prominence_a11_just_noticeable_debiased'][idxs==k]>=lim])/float(len(discs[idxs==k])+1) for k in range(len(logbins))]\n",
    "num_jnb = [float(len(discs[discs['t05_bulge_prominence_a11_just_noticeable_debiased'][idxs==k]>=lim])) for k in range(len(logbins))]\n",
    "error_frac_jnb = N.nan_to_num(frac_jnb*N.sqrt((1/N.array(num_jnb))+(1/N.array(num_t))))\n",
    "y1ejnb = frac_jnb + error_frac_jnb\n",
    "y2ejnb = frac_jnb - error_frac_jnb\n",
    "frac_ob = [len(discs[discs['t05_bulge_prominence_a12_obvious_debiased'][idxs==k]>=lim])/float(len(discs[idxs==k])+1) for k in range(len(logbins))]\n",
    "num_ob = [float(len(discs[discs['t05_bulge_prominence_a12_obvious_debiased'][idxs==k]>=lim])) for k in range(len(logbins))]\n",
    "error_frac_ob = N.nan_to_num(frac_ob*N.sqrt((1/N.array(num_ob))+(1/N.array(num_t))))\n",
    "y1eob = frac_ob + error_frac_ob\n",
    "y2eob = frac_ob - error_frac_ob\n",
    "frac_db = [len(discs[discs['t05_bulge_prominence_a13_dominant_debiased'][idxs==k]>=lim])/float(len(discs[idxs==k])+1) for k in range(len(logbins))]\n",
    "num_db = [float(len(discs[discs['t05_bulge_prominence_a13_dominant_debiased'][idxs==k]>=lim])) for k in range(len(logbins))]\n",
    "error_frac_db = N.nan_to_num(frac_db*N.sqrt((1/N.array(num_db))+(1/N.array(num_t))))\n",
    "y1edb = frac_db + error_frac_db\n",
    "y2edb = frac_db - error_frac_db\n",
    "frac_minb = [(len(discs[discs['t05_bulge_prominence_a10_no_bulge_debiased'][idxs==k]>=lim])+len(discs[discs['t05_bulge_prominence_a11_just_noticeable_debiased'][idxs==k]>=lim]))/float(len(discs[idxs==k])+1) for k in range(len(logbins))]\n",
    "num_minb = [float(len(discs[discs['t05_bulge_prominence_a10_no_bulge_debiased'][idxs==k]>=lim])+len(discs[discs['t05_bulge_prominence_a11_just_noticeable_debiased'][idxs==k]>=lim])) for k in range(len(logbins))]\n",
    "error_frac_minb = N.nan_to_num(frac_minb*N.sqrt((1/N.array(num_minb))+(1/N.array(num_t))))\n",
    "l_frac_minb = map(lambda x,y: str(int(x))+'/'+str(int(y)), num_minb,num_t) \n",
    "y1eminb = frac_minb + error_frac_minb\n",
    "y2eminb = frac_minb - error_frac_minb\n",
    "frac_maxb = [(len(discs[discs['t05_bulge_prominence_a12_obvious_debiased'][idxs==k]>=lim])+len(discs[discs['t05_bulge_prominence_a13_dominant_debiased'][idxs==k]>=lim]))/float(len(discs[idxs==k])+1) for k in range(len(logbins))]\n",
    "num_maxb = [float(len(discs[discs['t05_bulge_prominence_a12_obvious_debiased'][idxs==k]>=lim])+len(discs[discs['t05_bulge_prominence_a13_dominant_debiased'][idxs==k]>=lim])) for k in range(len(logbins))]\n",
    "error_frac_maxb = N.nan_to_num(frac_maxb*N.sqrt((1/N.array(num_maxb))+(1/N.array(num_t))))\n",
    "l_frac_maxb = map(lambda x,y: str(int(x))+'/'+str(int(y)), num_maxb,num_t) \n",
    "y1emaxb = frac_maxb + error_frac_maxb\n",
    "y2emaxb = frac_maxb - error_frac_maxb"
   ]
  },
  {
   "cell_type": "code",
   "execution_count": null,
   "metadata": {
    "collapsed": false
   },
   "outputs": [],
   "source": [
    "print frac_ob\n",
    "print error_frac_ob\n",
    "print y1eob"
   ]
  },
  {
   "cell_type": "code",
   "execution_count": null,
   "metadata": {
    "collapsed": true
   },
   "outputs": [],
   "source": [
    "P.rc('font', size=14)"
   ]
  },
  {
   "cell_type": "code",
   "execution_count": null,
   "metadata": {
    "collapsed": false
   },
   "outputs": [],
   "source": [
    "P.figure(figsize=(16,4))\n",
    "ax = P.subplot(141)\n",
    "ax.scatter(bso[1][:-1] + N.diff(bso[1])[0]/2, frac_nb[1:], marker='x', s=40, color='k', label=r'$\\rm{no}$ $\\rm{bulge}$')\n",
    "ax.fill_between(bso[1][:-1] + N.diff(bso[1])[0]/2, y1enb[1:], y2enb[1:], color='k', alpha=0.15, edgecolor='None')\n",
    "ax.set_xscale('log')\n",
    "ax.minorticks_on()\n",
    "ax.set_xlim(0.09, 15)\n",
    "ax.set_ylim(0)\n",
    "ax.set_xlabel(r'$R/R_{200}$')\n",
    "ax.set_ylabel(r'$\\rm{fraction}$')\n",
    "ax.set_xticks([0.1, 1, 10])\n",
    "ax.set_xticklabels([0.1, 1, 10])\n",
    "ax.legend(frameon=False)\n",
    "ax = P.subplot(142)\n",
    "ax.scatter(bso[1][:-1] + N.diff(bso[1])[0]/2, frac_jnb[1:], marker='+', s=40,color='k', label=r'$\\rm{just}$ $\\rm{noticeable}$ $\\rm{bulge}$')\n",
    "ax.fill_between(bso[1][:-1] + N.diff(bso[1])[0]/2, y1ejnb[1:], y2ejnb[1:], color='k', alpha=0.15, edgecolor='None')\n",
    "ax.set_xscale('log')\n",
    "ax.minorticks_on()\n",
    "ax.set_xlim(0.09, 15)\n",
    "#ax.set_ylim(0)\n",
    "ax.set_xlabel(r'$R/R_{200}$')\n",
    "ax.set_xticks([0.1, 1, 10])\n",
    "ax.set_xticklabels([0.1, 1, 10])\n",
    "ax.legend(frameon=False)\n",
    "ax = P.subplot(143)\n",
    "ax.scatter(bso[1][:-1] + N.diff(bso[1])[0]/2, frac_ob[1:], marker='^', s=40,color='k',  label=r'$\\rm{obvious}$ $\\rm{bulge}$')\n",
    "ax.fill_between(bso[1][:-1] + N.diff(bso[1])[0]/2, y1eob[1:], y2eob[1:], color='k', alpha=0.15, edgecolor='None')\n",
    "ax.set_xscale('log')\n",
    "ax.minorticks_on()\n",
    "ax.set_xlim(0.09, 15)\n",
    "#ax.set_ylim(0)\n",
    "ax.set_xlabel(r'$R/R_{200}$')\n",
    "ax.set_xticks([0.1, 1, 10])\n",
    "ax.set_xticklabels([0.1, 1, 10])\n",
    "ax.legend(frameon=False)\n",
    "ax = P.subplot(144)\n",
    "ax.scatter(bso[1][:-1] + N.diff(bso[1])[0]/2, frac_db[1:], marker='o', s=40,color='k',  label=r'$\\rm{dominant}$ $\\rm{bulge}$')\n",
    "ax.fill_between(bso[1][:-1] + N.diff(bso[1])[0]/2, y1edb[1:], y2edb[1:], color='k', alpha=0.15, edgecolor='None')\n",
    "ax.set_xscale('log')\n",
    "ax.minorticks_on()\n",
    "ax.set_xlim(0.09, 15)\n",
    "ax.set_ylim(0)\n",
    "ax.set_xlabel(r'$R/R_{200}$')\n",
    "ax.set_xticks([0.1, 1, 10])\n",
    "ax.set_xticklabels([0.1, 1, 10])\n",
    "ax.legend(frameon=False)\n",
    "P.tight_layout()\n",
    "P.savefig('bulge_fractions_over_disc_trend_with_log_radius.pdf')"
   ]
  },
  {
   "cell_type": "code",
   "execution_count": null,
   "metadata": {
    "collapsed": false
   },
   "outputs": [],
   "source": [
    "P.figure(figsize=(12,6))\n",
    "ax = P.subplot(121)\n",
    "ax.scatter(bso[1][:-1] + N.diff(bso[1])[0]/2, frac_minb[1:], marker='x', s=40, color='k', label=r'$\\rm{none}/\\rm{just}$ $\\rm{noticeable}$ $\\rm{bulge}$')\n",
    "ax.fill_between(bso[1][:-1] + N.diff(bso[1])[0]/2, y1eminb[1:], y2eminb[1:], color='k', alpha=0.15, edgecolor='None')\n",
    "for i, txt in enumerate(l_frac_minb[1:]):\n",
    "    ax.annotate(txt, ((bso[1][:-1] + N.diff(bso[1])[0]/2)[i],frac_minb[1:][i]-0.02), fontsize=10)\n",
    "ax.set_xscale('log')\n",
    "ax.minorticks_on()\n",
    "ax.set_xlim(0.09, 15)\n",
    "#ax.set_ylim(0, 0.05)\n",
    "ax.set_xlabel(r'$R/R_{200}$')\n",
    "ax.set_ylabel(r'$\\rm{fraction}$')\n",
    "ax.set_xticks([0.1, 1, 10])\n",
    "ax.set_xticklabels([0.1, 1, 10])\n",
    "ax.legend(frameon=False)\n",
    "ax = P.subplot(122)\n",
    "ax.scatter(bso[1][:-1] + N.diff(bso[1])[0]/2, frac_maxb[1:], marker='o', s=40, color='r', label=r'$\\rm{obvious}/\\rm{dominant}$ $\\rm{bulge}$')\n",
    "ax.fill_between(bso[1][:-1] + N.diff(bso[1])[0]/2, y1emaxb[1:], y2emaxb[1:], color='r', alpha=0.15, edgecolor='None')\n",
    "for i, txt in enumerate(l_frac_maxb[1:]):\n",
    "    ax.annotate(txt, ((bso[1][:-1] + N.diff(bso[1])[0]/2)[i],frac_maxb[1:][i]-0.02), fontsize=10, color='r')\n",
    "ax.set_xscale('log')\n",
    "ax.minorticks_on()\n",
    "ax.set_xlim(0.09, 15)\n",
    "#ax.set_ylim(0, 0.05)\n",
    "ax.set_xlabel(r'$R/R_{200}$')\n",
    "ax.set_ylabel(r'$\\rm{fraction}$')\n",
    "ax.set_xticks([0.1, 1, 10])\n",
    "ax.set_xticklabels([0.1, 1, 10])\n",
    "ax.legend(frameon=False)\n",
    "P.tight_layout()\n",
    "P.savefig('min_max_bulge_fraction_trend_with_log_radius.pdf')"
   ]
  },
  {
   "cell_type": "code",
   "execution_count": null,
   "metadata": {
    "collapsed": true
   },
   "outputs": [],
   "source": [
    "data = Table.read('mr181920_member_long_groupID_catalog_central_satellites_with_halo_mass_projected_clustercentric_radius_vel_disp_virial_radius.fits', format='fits')\n",
    "f = open('berlind_catalog_ra_dec.txt', 'a')\n",
    "for n in range(len(data)):\n",
    "    f.write(str(data['dr7objid'][n])+' '+str(data['RA'][n])+' '+str(data['Dec'][n])+'\\n')\n",
    "f.close()"
   ]
  },
  {
   "cell_type": "code",
   "execution_count": null,
   "metadata": {
    "collapsed": true
   },
   "outputs": [],
   "source": [
    "data= Table.read('mr181920_member_long_groupID_catalog_central_satellites_with_halo_mass_projected_clustercentric_radius_vel_disp_virial_radius_h_alpha_flux.fits', format='fits')"
   ]
  },
  {
   "cell_type": "code",
   "execution_count": null,
   "metadata": {
    "collapsed": true
   },
   "outputs": [],
   "source": [
    "data = data[N.where(data['number in cluster']>=2)]"
   ]
  },
  {
   "cell_type": "code",
   "execution_count": null,
   "metadata": {
    "collapsed": true
   },
   "outputs": [],
   "source": [
    "data = data[N.where(N.logical_and(data['h_alpha_flux']>-10000, data['h_alpha_flux']<10000))]"
   ]
  },
  {
   "cell_type": "code",
   "execution_count": null,
   "metadata": {
    "collapsed": false
   },
   "outputs": [],
   "source": [
    "d = cosmo.luminosity_distance(data['z']).to(u.cm)\n",
    "L = Column(name ='luminosity Halpha', data = (1E-17)*data['h_alpha_flux']*4*N.pi*(d.value**2), unit=u.erg / u.s)\n",
    "SFR = Column(name = 'sfr kennicutt', data=7.9E-42*((u.s*u.M_sun)/(u.erg*u.yr))*L, unit=u.M_sun/u.yr)"
   ]
  },
  {
   "cell_type": "code",
   "execution_count": null,
   "metadata": {
    "collapsed": true
   },
   "outputs": [],
   "source": [
    "data.add_columns([L, SFR])"
   ]
  },
  {
   "cell_type": "code",
   "execution_count": 1678,
   "metadata": {
    "collapsed": false
   },
   "outputs": [
    {
     "name": "stdout",
     "output_type": "stream",
     "text": [
      "47177\n"
     ]
    }
   ],
   "source": [
    "field = Table.read('field_candidate_sample_ivan_lt_-0.8_rv_gtr_25_gz2_gz1_extra_h_alpha_sfr_halo_stellar_masses.fits', format='fits')\n",
    "#field = field[N.where(N.logical_and(field['h_alpha_flux']>-10000, field['h_alpha_flux']<10000))]\n",
    "print len(field)"
   ]
  },
  {
   "cell_type": "code",
   "execution_count": 1679,
   "metadata": {
    "collapsed": false
   },
   "outputs": [],
   "source": [
    "# df = cosmo.luminosity_distance(field['REDSHIFT_1']).to(u.cm)\n",
    "# Lf = Column(name ='luminosity Halpha', data = (1E-17)*field['h_alpha_flux']*4*N.pi*(df.value**2), unit=u.erg / u.s)\n",
    "# SFRf = Column(name = 'sfr kennicutt', data=7.9E-42*((u.s*u.M_sun)/(u.erg*u.yr))*Lf, unit=u.M_sun/u.yr)"
   ]
  },
  {
   "cell_type": "code",
   "execution_count": 1680,
   "metadata": {
    "collapsed": true
   },
   "outputs": [],
   "source": [
    "# field.add_columns([Lf, SFRf])"
   ]
  },
  {
   "cell_type": "code",
   "execution_count": 1681,
   "metadata": {
    "collapsed": false
   },
   "outputs": [],
   "source": [
    "# abs_m_gal = field['MR']\n",
    "# ur_gal = field['MU_MR']\n",
    "# print abs_m_gal\n",
    "# log_m_l = N.zeros(len(ur_gal))\n",
    "# m_msun = N.zeros_like(log_m_l)\n",
    "\n",
    "# for j in range(len(log_m_l)):\n",
    "#     if ur_gal[j] <=2.1:\n",
    "#         log_m_l[j] = -0.95 + 0.56 * ur_gal[j]\n",
    "#     else:\n",
    "#         log_m_l[j] = -0.16 + 0.18 * ur_gal[j]\n",
    "#     m_msun[j] = (((4.62 - abs_m_gal[j])/2.5) + log_m_l[j])\n",
    "\n",
    "# sm = Column(name='stellar mass', data=m_msun, unit=u.M_sun)"
   ]
  },
  {
   "cell_type": "code",
   "execution_count": 1682,
   "metadata": {
    "collapsed": false
   },
   "outputs": [],
   "source": [
    "    # from scipy.interpolate import interp1d\n",
    "    # def halo_func(Mh, c, M0, a, b, d):\n",
    "    #     return c*Mh*((((Mh/M0)**(-a)) + ((Mh/M0)**(b)))**(-d))\n",
    "\n",
    "    # Mh_t =N.linspace(10, 18, 500)\n",
    "    # Ms_t = halo_func(10**Mh_t, 0.129, (10**(11.4)), 0.926, 0.261, 2.440)\n",
    "    # halomassfunc = interp1d(N.log10(Ms_t), Mh_t, kind='linear')"
   ]
  },
  {
   "cell_type": "code",
   "execution_count": 1683,
   "metadata": {
    "collapsed": true
   },
   "outputs": [],
   "source": [
    "# hm = Column(name='halo mass', data=halomassfunc(sm), unit=u.M_sun)"
   ]
  },
  {
   "cell_type": "code",
   "execution_count": 1684,
   "metadata": {
    "collapsed": true
   },
   "outputs": [],
   "source": [
    "# field.add_columns([sm, hm])"
   ]
  },
  {
   "cell_type": "code",
   "execution_count": 1685,
   "metadata": {
    "collapsed": false
   },
   "outputs": [],
   "source": [
    "# field.write('field_candidate_sample_rv_gtr_25_gz2_gz1_extra_no_ivan_h_alpha_sfr_h0_75_halo_stellar_masses.fits', format='fits')"
   ]
  },
  {
   "cell_type": "code",
   "execution_count": 1705,
   "metadata": {
    "collapsed": false
   },
   "outputs": [
    {
     "data": {
      "text/plain": [
       "6955.5379999999996"
      ]
     },
     "execution_count": 1705,
     "metadata": {},
     "output_type": "execute_result"
    }
   ],
   "source": [
    "N.max(data['h_alpha_flux'])"
   ]
  },
  {
   "cell_type": "code",
   "execution_count": 1706,
   "metadata": {
    "collapsed": false
   },
   "outputs": [
    {
     "name": "stdout",
     "output_type": "stream",
     "text": [
      "398\n",
      "406\n"
     ]
    }
   ],
   "source": [
    "print len(field[field['h_alpha_flux']<0])\n",
    "print len(field[field['h_alpha_eqw']>0])"
   ]
  },
  {
   "cell_type": "code",
   "execution_count": 1707,
   "metadata": {
    "collapsed": false
   },
   "outputs": [
    {
     "data": {
      "text/plain": [
       "<matplotlib.legend.Legend at 0x1393a7c90>"
      ]
     },
     "execution_count": 1707,
     "metadata": {},
     "output_type": "execute_result"
    },
    {
     "data": {
      "image/png": "[encoded data removed]",
      "text/plain": [
       "<matplotlib.figure.Figure at 0x12f751a50>"
      ]
     },
     "metadata": {},
     "output_type": "display_data"
    }
   ],
   "source": [
    "P.figure(figsize=(4,4))\n",
    "P.hist((data['h_alpha_flux']), bins=25, histtype='step',  range=(-10, 10), normed=True, color='k', label=r'$\\rm{group}$')\n",
    "P.hist((field['h_alpha_flux']), bins=25, histtype='step',  range=(-10, 10), normed=True, color='b', label=r'$\\rm{field}$')\n",
    "P.minorticks_on()\n",
    "P.xlabel(r'$\\log_{10}L_{H\\alpha}[\\rm{erg}$ $\\rm{s}^{-1}]$')\n",
    "P.legend(fontsize=14)\n"
   ]
  },
  {
   "cell_type": "code",
   "execution_count": 1708,
   "metadata": {
    "collapsed": false
   },
   "outputs": [
    {
     "name": "stderr",
     "output_type": "stream",
     "text": [
      "/usr/local/lib/python2.7/site-packages/IPython/kernel/__main__.py:2: RuntimeWarning: divide by zero encountered in log10\n",
      "  from IPython.kernel.zmq import kernelapp as app\n",
      "/usr/local/lib/python2.7/site-packages/IPython/kernel/__main__.py:2: RuntimeWarning: invalid value encountered in log10\n",
      "  from IPython.kernel.zmq import kernelapp as app\n",
      "/usr/local/lib/python2.7/site-packages/IPython/kernel/__main__.py:3: RuntimeWarning: divide by zero encountered in log10\n",
      "  app.launch_new_instance()\n",
      "/usr/local/lib/python2.7/site-packages/IPython/kernel/__main__.py:3: RuntimeWarning: invalid value encountered in log10\n",
      "  app.launch_new_instance()\n"
     ]
    },
    {
     "data": {
      "text/plain": [
       "<matplotlib.legend.Legend at 0x12c3adb50>"
      ]
     },
     "execution_count": 1708,
     "metadata": {},
     "output_type": "execute_result"
    },
    {
     "data": {
      "image/png": "[encoded data removed]",
      "text/plain": [
       "<matplotlib.figure.Figure at 0x13546e490>"
      ]
     },
     "metadata": {},
     "output_type": "display_data"
    }
   ],
   "source": [
    "P.figure(figsize=(4,4))\n",
    "P.hist(N.log10(data['luminosity Halpha']), bins=25, histtype='step',  range=(37, 42.5), normed=True, color='k', label=r'$\\rm{group}$')\n",
    "P.hist(N.log10(field['luminosity Halpha']), bins=25, histtype='step',  range=(37, 42.5), normed=True, color='b', label=r'$\\rm{field}$')\n",
    "P.minorticks_on()\n",
    "P.xlabel(r'$\\log_{10}L_{H\\alpha}[\\rm{erg}$ $\\rm{s}^{-1}]$')\n",
    "P.legend(fontsize=14)\n"
   ]
  },
  {
   "cell_type": "code",
   "execution_count": 1709,
   "metadata": {
    "collapsed": true
   },
   "outputs": [],
   "source": [
    "cent = data[N.where(data['central or satellite']==1)]"
   ]
  },
  {
   "cell_type": "code",
   "execution_count": 1710,
   "metadata": {
    "collapsed": true
   },
   "outputs": [],
   "source": [
    "logbins = [  0.     ,   0.2    ,   0.4    ,   0.6    ,   0.8    ,   1.     , 1.5, \n",
    "         2.     , 2.5, 3.0,  3.85714, 4.5,   5.71429, 6.5,  7.57143, 8.5,   9.42857,  11.28571,\n",
    "        13.14286,  15.     , 17., 19., 21., 25., 30.]"
   ]
  },
  {
   "cell_type": "code",
   "execution_count": 1711,
   "metadata": {
    "collapsed": false
   },
   "outputs": [
    {
     "data": {
      "image/png": "[encoded data removed]",
      "text/plain": [
       "<matplotlib.figure.Figure at 0x1298aa9d0>"
      ]
     },
     "metadata": {},
     "output_type": "display_data"
    }
   ],
   "source": [
    "P.figure(figsize=(4,4))\n",
    "P.hist(field['halo mass'], histtype='step', color='b', bins=20, normed=True, label=r'$\\rm{field}$')\n",
    "P.hist(cent['halo mass'], histtype='step', color='k', bins=20, normed=True, label=r'$\\rm{group}$')\n",
    "P.minorticks_on()\n",
    "P.xlabel(r'$M_{halo} [M_{\\odot}]$')\n",
    "P.legend()\n",
    "P.savefig('group_field_matched_halo_mass_comparison.png')"
   ]
  },
  {
   "cell_type": "code",
   "execution_count": 1712,
   "metadata": {
    "collapsed": false
   },
   "outputs": [
    {
     "data": {
      "image/png": "[encoded data removed]",
      "text/plain": [
       "<matplotlib.figure.Figure at 0x139e4aa90>"
      ]
     },
     "metadata": {},
     "output_type": "display_data"
    }
   ],
   "source": [
    "P.figure(figsize=(4.5,4.5))\n",
    "P.hist(field['stellar mass'], histtype='step', color='b', bins=20, normed=True, label=r'$\\rm{field}$')\n",
    "P.hist(cent['stellar mass'], histtype='step', color='k', bins=20, normed=True, label=r'$\\rm{group}$')\n",
    "P.minorticks_on()\n",
    "P.xlim(8, 12.5)\n",
    "P.xlabel(r'$M_{*} [M_{\\odot}]$')\n",
    "P.legend(loc=2)\n",
    "P.savefig('group_field_matched_stellar_mass_comparison.png')"
   ]
  },
  {
   "cell_type": "code",
   "execution_count": null,
   "metadata": {
    "collapsed": true
   },
   "outputs": [],
   "source": []
  },
  {
   "cell_type": "code",
   "execution_count": 1713,
   "metadata": {
    "collapsed": false
   },
   "outputs": [
    {
     "name": "stderr",
     "output_type": "stream",
     "text": [
      "/usr/local/lib/python2.7/site-packages/IPython/kernel/__main__.py:2: RuntimeWarning: divide by zero encountered in log10\n",
      "  from IPython.kernel.zmq import kernelapp as app\n",
      "/usr/local/lib/python2.7/site-packages/IPython/kernel/__main__.py:2: RuntimeWarning: invalid value encountered in log10\n",
      "  from IPython.kernel.zmq import kernelapp as app\n",
      "/usr/local/lib/python2.7/site-packages/IPython/kernel/__main__.py:3: RuntimeWarning: divide by zero encountered in log10\n",
      "  app.launch_new_instance()\n",
      "/usr/local/lib/python2.7/site-packages/IPython/kernel/__main__.py:3: RuntimeWarning: invalid value encountered in log10\n",
      "  app.launch_new_instance()\n"
     ]
    },
    {
     "data": {
      "image/png": "[encoded data removed]",
      "text/plain": [
       "<matplotlib.figure.Figure at 0x12e53c850>"
      ]
     },
     "metadata": {},
     "output_type": "display_data"
    }
   ],
   "source": [
    "P.figure(figsize=(4,4))\n",
    "P.hist(N.log10(data['luminosity Halpha']), bins=25, histtype='step',  range=(37, 42.5), normed=True, color='k', label=r'$\\rm{group}$')\n",
    "P.hist(N.log10(field['luminosity Halpha']), bins=25, histtype='step',  range=(37, 42.5), normed=True, color='b', label=r'$\\rm{field}$')\n",
    "P.minorticks_on()\n",
    "P.xlabel(r'$\\log_{10}L_{H\\alpha}[\\rm{erg}$ $\\rm{s}^{-1}]$')\n",
    "P.legend(fontsize=14)\n",
    "P.savefig('group_field_matched_L_h_alpha_comparison.png')"
   ]
  },
  {
   "cell_type": "code",
   "execution_count": 1714,
   "metadata": {
    "collapsed": false
   },
   "outputs": [
    {
     "name": "stderr",
     "output_type": "stream",
     "text": [
      "/usr/local/lib/python2.7/site-packages/IPython/kernel/__main__.py:2: RuntimeWarning: divide by zero encountered in log10\n",
      "  from IPython.kernel.zmq import kernelapp as app\n",
      "/usr/local/lib/python2.7/site-packages/IPython/kernel/__main__.py:2: RuntimeWarning: invalid value encountered in log10\n",
      "  from IPython.kernel.zmq import kernelapp as app\n",
      "/usr/local/lib/python2.7/site-packages/IPython/kernel/__main__.py:3: RuntimeWarning: divide by zero encountered in log10\n",
      "  app.launch_new_instance()\n",
      "/usr/local/lib/python2.7/site-packages/IPython/kernel/__main__.py:3: RuntimeWarning: invalid value encountered in log10\n",
      "  app.launch_new_instance()\n"
     ]
    },
    {
     "data": {
      "image/png": "[encoded data removed]",
      "text/plain": [
       "<matplotlib.figure.Figure at 0x12b7cb3d0>"
      ]
     },
     "metadata": {},
     "output_type": "display_data"
    }
   ],
   "source": [
    "P.figure(figsize=(4,4))\n",
    "P.hist(N.log10(data['sfr kennicutt']), bins=25, histtype='step', normed=True, color='k', label=r'$\\rm{group}$')\n",
    "P.hist(N.log10(field['sfr kennicutt']), bins=25, histtype='step', normed=True, color='b', label=r'$\\rm{field}$')\n",
    "P.minorticks_on()\n",
    "P.xlabel(r'$\\log_{10}SFR_{H\\alpha} [M_{\\odot}\\rm{yr}^{-1}]$')\n",
    "P.legend(loc=2)\n",
    "P.savefig('group_field_matched_SFR_h_alpha_comparison.png')"
   ]
  },
  {
   "cell_type": "code",
   "execution_count": 1715,
   "metadata": {
    "collapsed": false
   },
   "outputs": [
    {
     "data": {
      "image/png": "[encoded data removed]",
      "text/plain": [
       "<matplotlib.figure.Figure at 0x12ec07910>"
      ]
     },
     "metadata": {},
     "output_type": "display_data"
    }
   ],
   "source": [
    "P.figure(figsize=(4,4))\n",
    "P.hist(data['h_alpha_eqw']*-1, bins=25, histtype='step', log=True, color='k', label=r'$\\rm{group}$')\n",
    "P.hist(field['h_alpha_eqw']*-1, bins=25, histtype='step', log=True, color='b', label=r'$\\rm{field}$')\n",
    "P.xlim(-5, 300)\n",
    "P.minorticks_on()\n",
    "P.legend()\n",
    "P.xlabel(r'$EW[H\\alpha]$')\n",
    "#P.ylim(1, 10000)\n",
    "P.savefig('group_field_matched_eqw_h_alpha_comparison.png')"
   ]
  },
  {
   "cell_type": "code",
   "execution_count": 1716,
   "metadata": {
    "collapsed": false
   },
   "outputs": [],
   "source": [
    "fieldsfr = N.percentile(field['sfr kennicutt'], [25, 50, 75])"
   ]
  },
  {
   "cell_type": "code",
   "execution_count": 1772,
   "metadata": {
    "collapsed": true
   },
   "outputs": [],
   "source": [
    "binss = N.append(N.linspace(0, 1, 6),  N.linspace(2, 15, 8), axis=0)[1:]\n"
   ]
  },
  {
   "cell_type": "code",
   "execution_count": 1808,
   "metadata": {
    "collapsed": true
   },
   "outputs": [],
   "source": [
    "Rv = (0.002*data['velocity dispersion']* (1/(cosmo.H0/100)*(u.km/u.s)))"
   ]
  },
  {
   "cell_type": "code",
   "execution_count": 1773,
   "metadata": {
    "collapsed": true
   },
   "outputs": [],
   "source": [
    "sat = data[N.where(data['central or satellite']==0)]"
   ]
  },
  {
   "cell_type": "code",
   "execution_count": 1809,
   "metadata": {
    "collapsed": false
   },
   "outputs": [],
   "source": [
    "bssfr25 = b_s((sat['projected cluster centric radius'].to(u.Mpc))/(0.002*sat['velocity dispersion']* (1/(cosmo.H0/100)*(u.km/u.s))), sat['sfr kennicutt'], statistic=lambda y: N.percentile(y, 25), bins=binss, range=(0,15))\n",
    "bssfr50 = b_s((sat['projected cluster centric radius'].to(u.Mpc))/(0.002*sat['velocity dispersion']* (1/(cosmo.H0/100)*(u.km/u.s))), sat['sfr kennicutt'], statistic=lambda y: N.percentile(y, 50), bins=binss, range=(0,15))\n",
    "bssfr75 = b_s((sat['projected cluster centric radius'].to(u.Mpc))/(0.002*sat['velocity dispersion']* (1/(cosmo.H0/100)*(u.km/u.s))), sat['sfr kennicutt'], statistic=lambda y: N.percentile(y, 75), bins=binss, range=(0,15))"
   ]
  },
  {
   "cell_type": "code",
   "execution_count": 1810,
   "metadata": {
    "collapsed": false
   },
   "outputs": [
    {
     "data": {
      "image/png": "[encoded data removed]",
      "text/plain": [
       "<matplotlib.figure.Figure at 0x13f9aad90>"
      ]
     },
     "metadata": {},
     "output_type": "display_data"
    }
   ],
   "source": [
    "P.figure(figsize=(4,6))\n",
    "ax = P.subplot(111)\n",
    "ax.scatter(bssfr50[1][:-1] + N.diff(bssfr50[1])[0]/2, bssfr50[0], marker='x', color='k')\n",
    "ax.plot(bssfr50[1][:-1] + N.diff(bssfr50[1])[0]/2, bssfr50[0], color='k', lw=1)\n",
    "ax.fill_between(bssfr50[1][:-1] + N.diff(bssfr50[1])[0]/2, bssfr25[0], bssfr75[0], color='k', alpha=0.15, edgecolor='None')\n",
    "ax.axhline(fieldsfr[0], color='b')\n",
    "ax.axhline(fieldsfr[1], color='b', linestyle='dashed')\n",
    "ax.axhline(fieldsfr[2], color='b')\n",
    "ax.set_xscale('log')\n",
    "ax.minorticks_on()\n",
    "ax.set_xlim(0.09, 15)\n",
    "#ax.set_ylim(0, 0.05)\n",
    "ax.set_xlabel(r'$R/R_{200}$')\n",
    "ax.set_ylabel(r'$\\rm{SFR}$ $[M_{\\odot}yr^{-1}]$')\n",
    "ax.set_xticks([0.1, 1, 10])\n",
    "ax.set_xticklabels([r'$0.1$', r'$1$', r'$10$'])\n",
    "ax.set_ylim(-0.01)\n",
    "P.tight_layout()\n",
    "P.savefig('sfr_trend_with_log_radius_field_matched_blue_hlines_gomez_03_rv_not_r200.pdf')"
   ]
  },
  {
   "cell_type": "code",
   "execution_count": 1814,
   "metadata": {
    "collapsed": true
   },
   "outputs": [],
   "source": [
    "bsha25 = b_s((sat['projected cluster centric radius'].to(u.Mpc))/sat['virial radius'], sat['h_alpha_eqw']*-1, statistic=lambda y: N.percentile(y, 25), bins=binss, range=(0,15))\n",
    "bsha50 = b_s((sat['projected cluster centric radius'].to(u.Mpc))/sat['virial radius'], sat['h_alpha_eqw']*-1, statistic=lambda y: N.percentile(y, 50), bins=binss, range=(0,15))\n",
    "bsha75 = b_s((sat['projected cluster centric radius'].to(u.Mpc))/sat['virial radius'], sat['h_alpha_eqw']*-1, statistic=lambda y: N.percentile(y, 75), bins=binss, range=(0,15))\n",
    "fieldha = N.percentile(field['h_alpha_eqw']*-1, [25, 50, 75])"
   ]
  },
  {
   "cell_type": "code",
   "execution_count": 1777,
   "metadata": {
    "collapsed": false
   },
   "outputs": [
    {
     "data": {
      "text/plain": [
       "(array([ 0.44351,  0.46494,  0.51651,  0.69212,  0.84891,  0.92603,\n",
       "         1.14017,  1.32621,  1.3472 ,  2.36583,  1.80847,  0.96543]),\n",
       " array([  0.2    ,   0.4    ,   0.6    ,   0.8    ,   1.     ,   2.     ,\n",
       "          3.85714,   5.71429,   7.57143,   9.42857,  11.28571,  13.14286,\n",
       "         15.     ]),\n",
       " array([ 4,  6,  7, ...,  5, 13,  7]))"
      ]
     },
     "execution_count": 1777,
     "metadata": {},
     "output_type": "execute_result"
    }
   ],
   "source": [
    "bsha25"
   ]
  },
  {
   "cell_type": "code",
   "execution_count": 1815,
   "metadata": {
    "collapsed": false
   },
   "outputs": [
    {
     "data": {
      "image/png": "[encoded data removed]",
      "text/plain": [
       "<matplotlib.figure.Figure at 0x13caff090>"
      ]
     },
     "metadata": {},
     "output_type": "display_data"
    }
   ],
   "source": [
    "P.figure(figsize=(4,6))\n",
    "ax = P.subplot(111)\n",
    "ax.scatter(bsha50[1][:-1] + N.diff(bsha50[1])[0]/2, bsha50[0], marker='x', color='k')\n",
    "ax.plot(bsha50[1][:-1] + N.diff(bsha50[1])[0]/2, bsha50[0], color='k', lw=1)\n",
    "ax.fill_between(bsha50[1][:-1] + N.diff(bsha50[1])[0]/2, bsha25[0], bsha75[0], color='k', alpha=0.15, edgecolor='None')\n",
    "ax.axhline(fieldha[0], color='b')\n",
    "ax.axhline(fieldha[1], color='b', linestyle='dashed')\n",
    "ax.axhline(fieldha[2], color='b')\n",
    "ax.set_xscale('log')\n",
    "ax.minorticks_on()\n",
    "ax.set_xlim(0.09, 15)\n",
    "ax.set_ylim(-1, 25)\n",
    "ax.set_xlabel(r'$R/R_{200}$')\n",
    "ax.set_ylabel(r'$H\\alpha EW [\\AA]$')\n",
    "ax.set_xticks([0.1, 1, 10])\n",
    "ax.set_xticklabels([r'$0.1$', r'$1$', r'$10$'])\n",
    "ax.set_ylim(-0.01)\n",
    "P.tight_layout()\n",
    "P.savefig('h_alpha_eqw_trend_with_log_radius_field_matched_blue_hlines_gomez_03.pdf')"
   ]
  },
  {
   "cell_type": "code",
   "execution_count": 1779,
   "metadata": {
    "collapsed": false
   },
   "outputs": [],
   "source": [
    "discs = data[N.where(data['t01_smooth_or_features_a02_features_or_disk_debiased']>0.8)]\n",
    "smooth = data[N.where(data['t01_smooth_or_features_a01_smooth_debiased']>0.8)]\n",
    "fielddiscs = field[N.where(field['t01_smooth_or_features_a02_features_or_disk_debiased']>0.8)]\n",
    "fieldsmooth = field[N.where(field['t01_smooth_or_features_a01_smooth_debiased']>0.8)]"
   ]
  },
  {
   "cell_type": "code",
   "execution_count": 1780,
   "metadata": {
    "collapsed": true
   },
   "outputs": [],
   "source": [
    "fielddsfr = N.percentile(fielddiscs['sfr kennicutt'], [25, 50, 75])\n",
    "fieldssfr = N.percentile(fieldsmooth['sfr kennicutt'], [25, 50, 75])"
   ]
  },
  {
   "cell_type": "code",
   "execution_count": 1781,
   "metadata": {
    "collapsed": true
   },
   "outputs": [],
   "source": [
    "bssfr25d = b_s((discs['projected cluster centric radius'].to(u.Mpc))/discs['virial radius'], discs['sfr kennicutt'], statistic=lambda y: N.percentile(y, 25), bins=binss, range=(0,15))\n",
    "bssfr50d = b_s((discs['projected cluster centric radius'].to(u.Mpc))/discs['virial radius'], discs['sfr kennicutt'], statistic=lambda y: N.percentile(y, 50), bins=binss, range=(0,15))\n",
    "bssfr75d = b_s((discs['projected cluster centric radius'].to(u.Mpc))/discs['virial radius'], discs['sfr kennicutt'], statistic=lambda y: N.percentile(y, 75), bins=binss, range=(0,15))"
   ]
  },
  {
   "cell_type": "code",
   "execution_count": 1782,
   "metadata": {
    "collapsed": true
   },
   "outputs": [],
   "source": [
    "bssfr25s = b_s((smooth['projected cluster centric radius'].to(u.Mpc))/smooth['virial radius'], smooth['sfr kennicutt'], statistic=lambda y: N.percentile(y, 25), bins=binss, range=(0,15))\n",
    "bssfr50s = b_s((smooth['projected cluster centric radius'].to(u.Mpc))/smooth['virial radius'], smooth['sfr kennicutt'], statistic=lambda y: N.percentile(y, 50), bins=binss, range=(0,15))\n",
    "bssfr75s = b_s((smooth['projected cluster centric radius'].to(u.Mpc))/smooth['virial radius'], smooth['sfr kennicutt'], statistic=lambda y: N.percentile(y, 75), bins=binss, range=(0,15))"
   ]
  },
  {
   "cell_type": "code",
   "execution_count": 1783,
   "metadata": {
    "collapsed": false
   },
   "outputs": [
    {
     "data": {
      "image/png": "[encoded data removed]",
      "text/plain": [
       "<matplotlib.figure.Figure at 0x1286f7110>"
      ]
     },
     "metadata": {},
     "output_type": "display_data"
    }
   ],
   "source": [
    "P.figure(figsize=(12,6))\n",
    "ax = P.subplot(131)\n",
    "ax.scatter(bssfr50[1][:-1] + N.diff(bssfr50[1])[0]/2, bssfr50[0], marker='x', color='k')\n",
    "ax.plot(bssfr50[1][:-1] + N.diff(bssfr50[1])[0]/2, bssfr50[0], color='k', lw=1)\n",
    "ax.fill_between(bssfr50[1][:-1] + N.diff(bssfr50[1])[0]/2, bssfr25[0], bssfr75[0], color='k', alpha=0.15, edgecolor='None')\n",
    "ax.axhline(fieldsfr[0], color='b')\n",
    "ax.axhline(fieldsfr[1], color='b', linestyle='dashed')\n",
    "ax.axhline(fieldsfr[2], color='b')\n",
    "ax.set_xscale('log')\n",
    "ax.minorticks_on()\n",
    "ax.set_xlim(0.09, 15)\n",
    "ax.set_ylim(0, 0.45)\n",
    "ax.set_xlabel(r'$R/R_{200}$')\n",
    "ax.set_ylabel(r'$\\rm{SFR}$ $[M_{\\odot}yr^{-1}]$')\n",
    "ax.set_xticks([0.1, 1, 10])\n",
    "ax.set_xticklabels([r'$0.1$', r'$1$', r'$10$'])\n",
    "ax.set_ylim(-0.01)\n",
    "ax = P.subplot(132)\n",
    "ax.scatter(bssfr50d[1][:-1] + N.diff(bssfr50d[1])[0]/2, bssfr50d[0], marker='x', color='k')\n",
    "ax.plot(bssfr50d[1][:-1] + N.diff(bssfr50d[1])[0]/2, bssfr50d[0], color='k', lw=1)\n",
    "ax.fill_between(bssfr50d[1][:-1] + N.diff(bssfr50d[1])[0]/2, bssfr25d[0], bssfr75d[0], color='k', alpha=0.15, edgecolor='None')\n",
    "ax.axhline(fielddsfr[0], color='b')\n",
    "ax.axhline(fielddsfr[1], color='b', linestyle='dashed')\n",
    "ax.axhline(fielddsfr[2], color='b')\n",
    "ax.set_xscale('log')\n",
    "ax.minorticks_on()\n",
    "ax.set_xlim(0.09, 15)\n",
    "#ax.set_ylim(0, 0.05)\n",
    "ax.set_xlabel(r'$R/R_{200}$')\n",
    "ax.set_xticks([0.1, 1, 10])\n",
    "ax.set_xticklabels([r'$0.1$', r'$1$', r'$10$'])\n",
    "ax.set_ylim(-0.01, 0.45)\n",
    "ax.tick_params('y', labelleft='off')\n",
    "ax = P.subplot(133)\n",
    "ax.scatter(bssfr50s[1][:-1] + N.diff(bssfr50s[1])[0]/2, bssfr50s[0], marker='x', color='k')\n",
    "ax.plot(bssfr50s[1][:-1] + N.diff(bssfr50s[1])[0]/2, bssfr50s[0], color='k', lw=1)\n",
    "ax.fill_between(bssfr50s[1][:-1] + N.diff(bssfr50s[1])[0]/2, bssfr25s[0], bssfr75s[0], color='k', alpha=0.15, edgecolor='None')\n",
    "ax.axhline(fieldssfr[0], color='b')\n",
    "ax.axhline(fieldssfr[1], color='b', linestyle='dashed')\n",
    "ax.axhline(fieldssfr[2], color='b')\n",
    "ax.set_xscale('log')\n",
    "ax.minorticks_on()\n",
    "ax.set_xlim(0.09, 15)\n",
    "ax.set_ylim(-0.01, 0.45)\n",
    "ax.set_xlabel(r'$R/R_{200}$')\n",
    "ax.set_xticks([0.1, 1, 10])\n",
    "ax.set_xticklabels([r'$0.1$', r'$1$', r'$10$'])\n",
    "ax.tick_params('y', labelleft='off')\n",
    "P.tight_layout()\n",
    "P.subplots_adjust(wspace=0.0, hspace=0.0)\n",
    "P.savefig('sfr_trend_with_log_radius_disc_smooth_field_matched_blue_hlines_gomez_03.pdf')"
   ]
  },
  {
   "cell_type": "code",
   "execution_count": 1784,
   "metadata": {
    "collapsed": true
   },
   "outputs": [],
   "source": [
    "bshad25 = b_s((discs['projected cluster centric radius'].to(u.Mpc))/discs['virial radius'], discs['h_alpha_eqw']*-1, statistic=lambda y: N.percentile(y, 25), bins=binss, range=(0,15))\n",
    "bshad50 = b_s((discs['projected cluster centric radius'].to(u.Mpc))/discs['virial radius'], discs['h_alpha_eqw']*-1, statistic=lambda y: N.percentile(y, 50), bins=binss, range=(0,15))\n",
    "bshad75 = b_s((discs['projected cluster centric radius'].to(u.Mpc))/discs['virial radius'], discs['h_alpha_eqw']*-1, statistic=lambda y: N.percentile(y, 75), bins=binss, range=(0,15))\n",
    "fieldhad = N.percentile(fielddiscs['h_alpha_eqw']*-1, [25, 50, 75])"
   ]
  },
  {
   "cell_type": "code",
   "execution_count": 1785,
   "metadata": {
    "collapsed": true
   },
   "outputs": [],
   "source": [
    "bshas25 = b_s((smooth['projected cluster centric radius'].to(u.Mpc))/smooth['virial radius'], smooth['h_alpha_eqw']*-1, statistic=lambda y: N.percentile(y, 25), bins=binss, range=(0,15))\n",
    "bshas50 = b_s((smooth['projected cluster centric radius'].to(u.Mpc))/smooth['virial radius'], smooth['h_alpha_eqw']*-1, statistic=lambda y: N.percentile(y, 50), bins=binss, range=(0,15))\n",
    "bshas75 = b_s((smooth['projected cluster centric radius'].to(u.Mpc))/smooth['virial radius'], smooth['h_alpha_eqw']*-1, statistic=lambda y: N.percentile(y, 75), bins=binss, range=(0,15))\n",
    "fieldhas = N.percentile(fieldsmooth['h_alpha_eqw']*-1, [25, 50, 75])"
   ]
  },
  {
   "cell_type": "code",
   "execution_count": 1786,
   "metadata": {
    "collapsed": false
   },
   "outputs": [
    {
     "data": {
      "image/png": "[encoded data removed]",
      "text/plain": [
       "<matplotlib.figure.Figure at 0x12b9e2290>"
      ]
     },
     "metadata": {},
     "output_type": "display_data"
    }
   ],
   "source": [
    "P.figure(figsize=(12,6))\n",
    "ax = P.subplot(131)\n",
    "ax.scatter(bssfr50[1][:-1] + N.diff(bssfr50[1])[0]/2, bsha50[0], marker='x', color='k')\n",
    "ax.plot(bssfr50[1][:-1] + N.diff(bssfr50[1])[0]/2, bsha50[0], color='k', lw=1)\n",
    "ax.fill_between(bssfr50[1][:-1] + N.diff(bssfr50[1])[0]/2, bsha25[0], bsha75[0], color='k', alpha=0.15, edgecolor='None')\n",
    "ax.axhline(fieldha[0], color='b')\n",
    "ax.axhline(fieldha[1], color='b', linestyle='dashed')\n",
    "ax.axhline(fieldha[2], color='b')\n",
    "ax.set_xscale('log')\n",
    "ax.minorticks_on()\n",
    "ax.set_xlim(0.09, 15)\n",
    "ax.set_ylim(-1, 25)\n",
    "ax.set_ylabel(r'$EW H\\alpha [\\AA]$')\n",
    "ax.set_xlabel(r'$R/R_{200}$')\n",
    "ax.set_xticks([0.1, 1, 10])\n",
    "ax.set_xticklabels([r'$0.1$', r'$1$', r'$10$'])\n",
    "#ax.set_ylim(-0.01)\n",
    "ax = P.subplot(132)\n",
    "ax.scatter(bssfr50d[1][:-1] + N.diff(bssfr50d[1])[0]/2, bshad50[0], marker='x', color='k')\n",
    "ax.plot(bssfr50d[1][:-1] + N.diff(bssfr50d[1])[0]/2, bshad50[0], color='k', lw=1)\n",
    "ax.fill_between(bssfr50d[1][:-1] + N.diff(bssfr50d[1])[0]/2, bshad25[0], bshad75[0], color='k', alpha=0.15, edgecolor='None')\n",
    "ax.axhline(fieldhad[0], color='b')\n",
    "ax.axhline(fieldhad[1], color='b', linestyle='dashed')\n",
    "ax.axhline(fieldhad[2], color='b')\n",
    "ax.set_xscale('log')\n",
    "ax.minorticks_on()\n",
    "ax.set_xlim(0.09, 15)\n",
    "ax.set_ylim(-1, 25)\n",
    "ax.set_xlabel(r'$R/R_{200}$')\n",
    "ax.set_xticks([0.1, 1, 10])\n",
    "ax.set_xticklabels([r'$0.1$', r'$1$', r'$10$'])\n",
    "ax.tick_params('y', labelleft='off')\n",
    "ax = P.subplot(133)\n",
    "ax.scatter(bssfr50s[1][:-1] + N.diff(bssfr50s[1])[0]/2, bshas50[0], marker='x', color='k')\n",
    "ax.plot(bssfr50s[1][:-1] + N.diff(bssfr50s[1])[0]/2, bshas50[0], color='k', lw=1)\n",
    "ax.fill_between(bssfr50s[1][:-1] + N.diff(bssfr50s[1])[0]/2, bshas25[0], bshas75[0], color='k', alpha=0.15, edgecolor='None')\n",
    "ax.axhline(fieldhas[0], color='b')\n",
    "ax.axhline(fieldhas[1], color='b', linestyle='dashed')\n",
    "ax.axhline(fieldhas[2], color='b')\n",
    "ax.set_xscale('log')\n",
    "ax.minorticks_on()\n",
    "ax.set_xlim(0.09, 15)\n",
    "ax.set_ylim(-1, 25)\n",
    "ax.set_xticks([0.1, 1, 10])\n",
    "ax.set_xticklabels([r'$0.1$', r'$1$', r'$10$'])\n",
    "ax.set_xlabel(r'$R/R_{200}$')\n",
    "ax.tick_params('y', labelleft='off')\n",
    "P.tight_layout()\n",
    "P.subplots_adjust(wspace=0.0, hspace=0.0)\n",
    "P.savefig('h_alpha_eqw_trend_with_log_radius_disc_smooth_field_matched_blue_hlines_gomez_03.pdf')"
   ]
  },
  {
   "cell_type": "code",
   "execution_count": 1787,
   "metadata": {
    "collapsed": false
   },
   "outputs": [],
   "source": [
    "from scipy.stats import ks_2samp"
   ]
  },
  {
   "cell_type": "code",
   "execution_count": 1791,
   "metadata": {
    "collapsed": false
   },
   "outputs": [
    {
     "name": "stdout",
     "output_type": "stream",
     "text": [
      "[  0.        0.30303   0.60606   0.90909   1.21212   1.51515   1.81818\n",
      "   2.12121   2.42424   2.72727   3.0303    3.33333   3.63636   3.93939\n",
      "   4.24242   4.54545   4.84848   5.15152   5.45455   5.75758   6.06061\n",
      "   6.36364   6.66667   6.9697    7.27273   7.57576   7.87879   8.18182\n",
      "   8.48485   8.78788   9.09091   9.39394   9.69697  10.       10.30303\n",
      "  10.60606  10.90909  11.21212  11.51515  11.81818  12.12121  12.42424\n",
      "  12.72727  13.0303   13.33333  13.63636  13.93939  14.24242  14.54545\n",
      "  14.84848  15.15152  15.45455  15.75758  16.06061  16.36364  16.66667\n",
      "  16.9697   17.27273  17.57576  17.87879  18.18182  18.48485  18.78788\n",
      "  19.09091  19.39394  19.69697  20.       20.30303  20.60606  20.90909\n",
      "  21.21212  21.51515  21.81818  22.12121  22.42424  22.72727  23.0303\n",
      "  23.33333  23.63636  23.93939  24.24242  24.54545  24.84848  25.15152\n",
      "  25.45455  25.75758  26.06061  26.36364  26.66667  26.9697   27.27273\n",
      "  27.57576  27.87879  28.18182  28.48485  28.78788  29.09091  29.39394\n",
      "  29.69697  30.     ]\n"
     ]
    }
   ],
   "source": [
    "logbins = N.linspace(0,30,100)\n",
    "print logbins"
   ]
  },
  {
   "cell_type": "code",
   "execution_count": 1796,
   "metadata": {
    "collapsed": false
   },
   "outputs": [
    {
     "name": "stdout",
     "output_type": "stream",
     "text": [
      "H0: that the two distributions are drawn from the same underlying distribution\n",
      "THEY'RE THE SAME! 23.9393939394 79 1 0.999957606461 9.70562859361\n",
      "THEY'RE THE SAME! 24.5454545455 81 1 0.999915212922 9.70811782871\n",
      "THEY'RE THE SAME! 26.0606060606 86 1 0.993407804651 10.0965752927\n",
      "THEY'RE THE SAME! 28.4848484848 94 1 0.995951417004 9.94322357956\n",
      "THEY'RE THE SAME! 28.7878787879 95 1 0.999894016152 9.70936264583\n",
      "THEY'RE THE SAME! 29.696969697 98 1 0.99944888399 9.73553455733\n",
      "THEY'RE THE SAME! 30.0 99 1 0.999957606461 9.70562859361\n"
     ]
    }
   ],
   "source": [
    "idsfr = N.digitize((data['projected cluster centric radius'].to(u.Mpc))/data['virial radius'], logbins)\n",
    "print 'H0: that the two distributions are drawn from the same underlying distribution'\n",
    "for n in range(len(logbins)):\n",
    "    dsfr = data['sfr kennicutt'][idsfr==n]\n",
    "    fsfri = N.random.randint(0, len(field), len(dsfr))\n",
    "    fsfr = field\n",
    "    if len(dsfr)>0:\n",
    "        #P.figure()\n",
    "        #P.hist(N.log10(dsfr), histtype='step', normed=True, range=(-4,2), bins=20, cumulative=True)\n",
    "        #P.hist(N.log10(fsfr['sfr kennicutt']), histtype='step', normed=True, range=(-4,2), bins=20, cumulative=True)\n",
    "        D, p = ks_2samp(fsfr['sfr kennicutt']*-1, dsfr)\n",
    "        #print 'reject at 95% confidence if D > ', 1.36*N.sqrt((len(fsfr['h_alpha_eqw']*-1)+len(dsfr))/float(len(fsfr['h_alpha_eqw']*-1)*len(dsfr)))\n",
    "        if p*100 <=5:\n",
    "            pass\n",
    "        else:\n",
    "            print \"THEY'RE THE SAME!\", logbins[n], n, len(dsfr), D, p*100            "
   ]
  },
  {
   "cell_type": "code",
   "execution_count": 1797,
   "metadata": {
    "collapsed": false
   },
   "outputs": [
    {
     "name": "stdout",
     "output_type": "stream",
     "text": [
      "H0: that the two distributions are drawn from the same underlying distribution\n",
      "THEY'RE THE SAME! 12.1212121212 40 1 0.980875032748 10.8866539528\n",
      "THEY'RE THE SAME! 13.3333333333 44 1 0.981137018601 10.8697462526\n",
      "THEY'RE THE SAME! 14.5454545455 48 1 0.981660990307 10.8359959807\n",
      "THEY'RE THE SAME! 15.4545454545 51 1 0.980351061043 10.9205345792\n",
      "THEY'RE THE SAME! 16.9696969697 56 1 0.999738014147 9.72364713723\n",
      "THEY'RE THE SAME! 17.2727272727 57 1 0.9905685093 10.2753807982\n",
      "THEY'RE THE SAME! 20.6060606061 68 1 0.998952056589 9.76995052249\n",
      "THEY'RE THE SAME! 20.9090909091 69 1 0.999738014147 9.72364713723\n",
      "THEY'RE THE SAME! 26.3636363636 87 1 0.985590778098 10.5856220197\n",
      "THEY'RE THE SAME! 29.0909090909 96 1 0.988996594184 10.3725257569\n"
     ]
    }
   ],
   "source": [
    "idsfr = N.digitize((smooth['projected cluster centric radius'].to(u.Mpc))/smooth['virial radius'], logbins)\n",
    "print 'H0: that the two distributions are drawn from the same underlying distribution'\n",
    "for n in range(len(logbins)):\n",
    "    dsfr = smooth['sfr kennicutt'][idsfr==n]\n",
    "    if len(dsfr)>0:\n",
    "        #P.figure()\n",
    "        #P.hist(N.log10(dsfr), histtype='step', normed=True, range=(-4,2), bins=20, cumulative=True)\n",
    "        #P.hist(N.log10(fieldsmooth['sfr kennicutt']), histtype='step', normed=True, range=(-4,2), bins=20, cumulative=True)\n",
    "        D, p = ks_2samp(fieldsmooth['sfr kennicutt']*-1, dsfr)\n",
    "        if p*100 <=5:\n",
    "            pass\n",
    "        else:\n",
    "            print \"THEY'RE THE SAME!\", logbins[n], n, len(dsfr), D, p*100            "
   ]
  },
  {
   "cell_type": "code",
   "execution_count": 1798,
   "metadata": {
    "collapsed": false
   },
   "outputs": [
    {
     "name": "stdout",
     "output_type": "stream",
     "text": [
      "H0: that the two distributions are drawn from the same underlying distribution\n",
      "THEY'RE THE SAME! 20.9090909091 69 1 0.999840187513 9.71320598739\n",
      "THEY'RE THE SAME! 22.1212121212 73 1 0.999840187513 9.71320598739\n",
      "THEY'RE THE SAME! 22.7272727273 75 1 0.999946729171 9.70694849794\n",
      "THEY'RE THE SAME! 23.6363636364 78 1 0.999786916684 9.71633599288\n",
      "THEY'RE THE SAME! 24.2424242424 80 1 0.999893458342 9.71007682246\n",
      "THEY'RE THE SAME! 24.8484848485 82 1 0.999786916684 9.71633599288\n",
      "THEY'RE THE SAME! 25.7575757576 85 1 0.999733645856 9.71946683909\n",
      "THEY'RE THE SAME! 27.2727272727 90 1 0.999893458342 9.71007682246\n",
      "THEY'RE THE SAME! 30.0 99 1 0.999946729171 9.70694849794\n"
     ]
    }
   ],
   "source": [
    "idsfr = N.digitize((discs['projected cluster centric radius'].to(u.Mpc))/discs['virial radius'], logbins)\n",
    "print 'H0: that the two distributions are drawn from the same underlying distribution'\n",
    "for n in range(len(logbins)):\n",
    "    dsfr = discs['sfr kennicutt'][idsfr==n]\n",
    "    if len(dsfr)>0:\n",
    "        #P.figure()\n",
    "        #P.hist(N.log10(dsfr), histtype='step', normed=True, range=(-4,2), bins=20, cumulative=True)\n",
    "        #P.hist(N.log10(fieldsmooth['sfr kennicutt']), histtype='step', normed=True, range=(-4,2), bins=20, cumulative=True)\n",
    "        D, p = ks_2samp(fielddiscs['sfr kennicutt']*-1, dsfr)\n",
    "        if p*100 <=5:\n",
    "            pass\n",
    "        else:\n",
    "            print \"THEY'RE THE SAME!\", logbins[n], n, len(dsfr), D, p*100            "
   ]
  },
  {
   "cell_type": "code",
   "execution_count": 1807,
   "metadata": {
    "collapsed": false
   },
   "outputs": [
    {
     "data": {
      "text/plain": [
       "(array([ 5778.,  6375.,  2668.,   972.,   754.,   220.,    43.,     0.,\n",
       "            3.,    52.]),\n",
       " array([ 0.     ,  0.02016,  0.04031,  0.06047,  0.08062,  0.10078,\n",
       "         0.12093,  0.14109,  0.16124,  0.1814 ,  0.20155]),\n",
       " <a list of 10 Patch objects>)"
      ]
     },
     "execution_count": 1807,
     "metadata": {},
     "output_type": "execute_result"
    },
    {
     "data": {
      "image/png": "[encoded data removed]",
      "text/plain": [
       "<matplotlib.figure.Figure at 0x12ecffd10>"
      ]
     },
     "metadata": {},
     "output_type": "display_data"
    }
   ],
   "source": []
  },
  {
   "cell_type": "code",
   "execution_count": null,
   "metadata": {
    "collapsed": true
   },
   "outputs": [],
   "source": []
  },
  {
   "cell_type": "code",
   "execution_count": 1800,
   "metadata": {
    "collapsed": false
   },
   "outputs": [
    {
     "name": "stdout",
     "output_type": "stream",
     "text": [
      "H0: that the two distributions are drawn from the same underlying distribution\n",
      "THEY'RE THE SAME! 4.54545454545 15 285 0.0767125223449 6.77851006408\n",
      "THEY'RE THE SAME! 5.15151515152 17 205 0.066463246611 31.7720724535\n",
      "THEY'RE THE SAME! 5.75757575758 19 202 0.0890786897542 7.75558522431\n",
      "THEY'RE THE SAME! 6.36363636364 21 126 0.0962530167545 18.4454839546\n",
      "THEY'RE THE SAME! 6.9696969697 23 94 0.122036567585 11.3308285161\n",
      "THEY'RE THE SAME! 7.57575757576 25 90 0.104842519778 26.2073981935\n",
      "THEY'RE THE SAME! 7.87878787879 26 70 0.0919473472243 57.5407837924\n",
      "THEY'RE THE SAME! 8.18181818182 27 63 0.09932335201 54.2313063791\n",
      "THEY'RE THE SAME! 8.78787878788 29 48 0.147449587016 22.8541372905\n",
      "THEY'RE THE SAME! 9.09090909091 30 39 0.160657382482 24.4158953566\n",
      "THEY'RE THE SAME! 9.39393939394 31 43 0.09556883996 80.8118464919\n",
      "THEY'RE THE SAME! 9.69696969697 32 35 0.157604038287 32.2725365618\n",
      "THEY'RE THE SAME! 10.0 33 37 0.202713301088 8.33271395009\n",
      "THEY'RE THE SAME! 10.303030303 34 35 0.183046823664 17.1646162951\n",
      "THEY'RE THE SAME! 10.9090909091 36 22 0.179973099372 43.5792150392\n",
      "THEY'RE THE SAME! 11.5151515152 38 18 0.121982698726 93.6868064735\n",
      "THEY'RE THE SAME! 11.8181818182 39 23 0.264265656349 6.63971343143\n",
      "THEY'RE THE SAME! 12.1212121212 40 18 0.220829123419 30.4784885276\n",
      "THEY'RE THE SAME! 12.4242424242 41 17 0.136757816932 88.494754057\n",
      "THEY'RE THE SAME! 12.7272727273 42 15 0.245399241156 28.4536021822\n",
      "THEY'RE THE SAME! 13.0303030303 43 16 0.0931637768404 99.8331430524\n",
      "THEY'RE THE SAME! 13.6363636364 45 15 0.31010732631 8.92495471728\n",
      "THEY'RE THE SAME! 13.9393939394 46 11 0.336772348621 13.0360603301\n",
      "THEY'RE THE SAME! 14.2424242424 47 18 0.202061739124 41.1496985132\n",
      "THEY'RE THE SAME! 14.5454545455 48 11 0.306973544505 20.6701078564\n",
      "THEY'RE THE SAME! 14.8484848485 49 12 0.27896185288 26.0932369884\n",
      "THEY'RE THE SAME! 15.1515151515 50 6 0.269167178922 70.511942204\n",
      "THEY'RE THE SAME! 15.4545454545 51 11 0.38807431202 5.3269341322\n",
      "THEY'RE THE SAME! 15.7575757576 52 11 0.218816179687 61.1765070044\n",
      "THEY'RE THE SAME! 16.0606060606 53 6 0.285312051777 63.4114245079\n",
      "THEY'RE THE SAME! 16.3636363636 54 8 0.20237880747 85.8239027604\n",
      "THEY'RE THE SAME! 16.6666666667 55 6 0.385738813405 26.1087845729\n",
      "THEY'RE THE SAME! 16.9696969697 56 7 0.374949657672 21.7880766848\n",
      "THEY'RE THE SAME! 17.2727272727 57 11 0.284942392961 28.2441442711\n",
      "THEY'RE THE SAME! 17.5757575758 58 6 0.229331383231 86.4906843501\n",
      "THEY'RE THE SAME! 17.8787878788 59 10 0.205576870085 74.1209873481\n",
      "THEY'RE THE SAME! 18.1818181818 60 12 0.236808543711 45.6006001252\n",
      "THEY'RE THE SAME! 18.4848484848 61 5 0.457557708205 17.7333900134\n",
      "THEY'RE THE SAME! 18.7878787879 62 8 0.294121075948 42.2998374328\n",
      "THEY'RE THE SAME! 19.0909090909 63 6 0.342889543634 39.7724654756\n",
      "THEY'RE THE SAME! 19.696969697 65 5 0.334468067067 53.6928537416\n",
      "THEY'RE THE SAME! 20.0 66 6 0.3028735754 55.7563704866\n",
      "THEY'RE THE SAME! 20.303030303 67 2 0.691756576298 16.6248068938\n",
      "THEY'RE THE SAME! 20.6060606061 68 7 0.270204306578 61.2877618344\n",
      "THEY'RE THE SAME! 20.9090909091 69 3 0.329920653426 81.9347634517\n",
      "THEY'RE THE SAME! 21.2121212121 70 3 0.307437946457 87.8631035214\n",
      "THEY'RE THE SAME! 21.8181818182 72 2 0.304311422939 96.9675071374\n",
      "THEY'RE THE SAME! 22.1212121212 73 3 0.642007758018 9.71367563008\n",
      "THEY'RE THE SAME! 22.4242424242 74 5 0.496326599826 11.5663989385\n",
      "THEY'RE THE SAME! 22.7272727273 75 4 0.396708141679 44.6073238919\n",
      "THEY'RE THE SAME! 23.0303030303 76 3 0.468434477252 39.6484458869\n",
      "THEY'RE THE SAME! 23.3333333333 77 4 0.497058948216 19.2984547894\n",
      "THEY'RE THE SAME! 23.6363636364 78 3 0.379768389964 66.5188046753\n",
      "THEY'RE THE SAME! 23.9393939394 79 1 0.945185153783 13.3950345417\n",
      "THEY'RE THE SAME! 24.2424242424 80 4 0.421852809632 36.9032432139\n",
      "THEY'RE THE SAME! 24.5454545455 81 1 0.801873794434 28.4979013716\n",
      "THEY'RE THE SAME! 24.8484848485 82 2 0.418307649914 75.3484100258\n",
      "THEY'RE THE SAME! 25.1515151515 83 3 0.599684874692 14.2809826986\n",
      "THEY'RE THE SAME! 25.7575757576 85 5 0.257197363122 83.8742471836\n",
      "THEY'RE THE SAME! 26.0606060606 86 1 0.96718740064 11.7948909445\n",
      "THEY'RE THE SAME! 26.3636363636 87 5 0.290929902283 71.1686668345\n",
      "THEY'RE THE SAME! 26.9696969697 89 2 0.457415689849 64.8507683979\n",
      "THEY'RE THE SAME! 27.2727272727 90 2 0.693600695254 16.405910431\n",
      "THEY'RE THE SAME! 27.5757575758 91 3 0.545463538023 22.4998816098\n",
      "THEY'RE THE SAME! 27.8787878788 92 4 0.348088051381 61.5290246092\n",
      "THEY'RE THE SAME! 28.1818181818 93 2 0.445481908557 68.0927672772\n",
      "THEY'RE THE SAME! 28.4848484848 94 1 0.938804926129 13.8907038209\n",
      "THEY'RE THE SAME! 28.7878787879 95 1 0.908196790809 16.4784029225\n",
      "THEY'RE THE SAME! 29.0909090909 96 5 0.258299595142 83.4960839914\n",
      "THEY'RE THE SAME! 29.696969697 98 1 0.619793543464 60.6436891067\n",
      "THEY'RE THE SAME! 30.0 99 1 0.940352290311 13.7691482989\n"
     ]
    }
   ],
   "source": [
    "alpha = [0.01, 0.05, 0.1, 0.2, 1.0]\n",
    "calpha = [1.51, 1.36, 1.22, 1.07, 1.07]\n",
    "#idsfr = N.digitize((data['projected cluster centric radius'].to(u.Mpc))/data['virial radius'], logbins)\n",
    "idsfr = N.digitize((data['projected cluster centric radius'].to(u.Mpc))/(0.002*data['velocity dispersion']* (1/(cosmo.H0/100)*(u.km/u.s))), logbins)\n",
    "print 'H0: that the two distributions are drawn from the same underlying distribution'\n",
    "for n in range(len(logbins)):\n",
    "    dsfr = data['h_alpha_eqw'][idsfr==n]*-1\n",
    "    fsfri = N.random.randint(0, len(field), len(dsfr))\n",
    "    fsfr = field\n",
    "    if len(dsfr)>0:\n",
    "        #P.figure()\n",
    "        #P.hist(dsfr, histtype='step', normed=True, range=(0,50), cumulative=True)\n",
    "        #P.hist(fsfr['h_alpha_eqw']*-1, histtype='step', normed=True, range=(0,50), cumulative=True)\n",
    "        D, p = ks_2samp(fsfr['h_alpha_eqw']*-1, dsfr)\n",
    "        idxca = N.searchsorted(alpha, p)\n",
    "#         print n, len(dsfr), D, p*100\n",
    "        ca = calpha[N.searchsorted(alpha, p)]\n",
    "#         print 'reject at ', (1-p)*100,'% confidence if D > ', ca*N.sqrt((len(fsfr['h_alpha_eqw']*-1)+len(dsfr))/float(len(fsfr['h_alpha_eqw']*-1)*len(dsfr)))\n",
    "        if p*100 <= 5:\n",
    "            pass\n",
    "        else:\n",
    "            print \"THEY'RE THE SAME!\", logbins[n], n, len(dsfr), D, p*100            "
   ]
  },
  {
   "cell_type": "code",
   "execution_count": 1801,
   "metadata": {
    "collapsed": false
   },
   "outputs": [
    {
     "name": "stdout",
     "output_type": "stream",
     "text": [
      "H0: that the two distributions are drawn from the same underlying distribution\n",
      "THEY'RE THE SAME! 1.81818181818 6 325 0.0574920093757 23.45015783\n",
      "THEY'RE THE SAME! 2.12121212121 7 303 0.0615227088445 20.2229725161\n",
      "THEY'RE THE SAME! 3.0303030303 10 224 0.0668710617637 26.6335785601\n",
      "THEY'RE THE SAME! 3.93939393939 13 143 0.0895966913972 19.4755588164\n",
      "THEY'RE THE SAME! 4.24242424242 14 144 0.0884488126524 20.343071133\n",
      "THEY'RE THE SAME! 4.54545454545 15 117 0.07798257452 46.3729263949\n",
      "THEY'RE THE SAME! 5.15151515152 17 89 0.0644403450513 84.384932332\n",
      "THEY'RE THE SAME! 5.45454545455 18 78 0.0842922082534 62.0312931259\n",
      "THEY'RE THE SAME! 5.75757575758 19 96 0.0829515590596 50.9474258541\n",
      "THEY'RE THE SAME! 6.06060606061 20 65 0.143500958875 12.6913569829\n",
      "THEY'RE THE SAME! 6.36363636364 21 54 0.173560306524 6.91610169145\n",
      "THEY'RE THE SAME! 7.27272727273 24 33 0.151139027178 40.8805019499\n",
      "THEY'RE THE SAME! 7.57575757576 25 31 0.187767642955 20.1648442119\n",
      "THEY'RE THE SAME! 7.87878787879 26 39 0.169827402514 19.1504800226\n",
      "THEY'RE THE SAME! 8.18181818182 27 27 0.176602662752 33.7496625827\n",
      "THEY'RE THE SAME! 8.48484848485 28 26 0.254048582996 5.80069574192\n",
      "THEY'RE THE SAME! 9.09090909091 30 13 0.324898785425 10.1928958126\n",
      "THEY'RE THE SAME! 9.39393939394 31 21 0.107675565432 95.8132276279\n",
      "THEY'RE THE SAME! 9.69696969697 32 18 0.261843880957 14.2881590765\n",
      "THEY'RE THE SAME! 10.0 33 17 0.176768278161 61.9706162666\n",
      "THEY'RE THE SAME! 10.303030303 34 14 0.26630848376 23.3532069422\n",
      "THEY'RE THE SAME! 10.9090909091 36 9 0.382324738973 10.8741470044\n",
      "THEY'RE THE SAME! 11.2121212121 37 13 0.238706584274 39.7858412543\n",
      "THEY'RE THE SAME! 11.5151515152 38 7 0.395779428328 16.9379055569\n",
      "THEY'RE THE SAME! 12.1212121212 40 7 0.291330553103 51.5601442086\n",
      "THEY'RE THE SAME! 12.4242424242 41 7 0.325766338924 37.3191693965\n",
      "THEY'RE THE SAME! 12.7272727273 42 6 0.355405213438 35.3910537733\n",
      "THEY'RE THE SAME! 13.0303030303 43 6 0.389356488387 25.1423294068\n",
      "THEY'RE THE SAME! 13.6363636364 45 6 0.434938560977 15.0691051483\n",
      "THEY'RE THE SAME! 13.9393939394 46 3 0.487374813552 34.812839001\n",
      "THEY'RE THE SAME! 14.2424242424 47 6 0.365171532069 32.191558382\n",
      "THEY'RE THE SAME! 14.5454545455 48 3 0.428297464309 51.1380640161\n",
      "THEY'RE THE SAME! 14.8484848485 49 6 0.44878897649 12.7501415802\n",
      "THEY'RE THE SAME! 15.1515151515 50 4 0.475282335393 23.5669665168\n",
      "THEY'RE THE SAME! 15.4545454545 51 9 0.358678409925 15.4117643233\n",
      "THEY'RE THE SAME! 15.7575757576 52 8 0.343623481781 24.2859407676\n",
      "THEY'RE THE SAME! 16.0606060606 53 2 0.464255273812 62.9954996347\n",
      "THEY'RE THE SAME! 16.3636363636 54 5 0.342851054762 50.4769930091\n",
      "THEY'RE THE SAME! 16.6666666667 55 2 0.568453015129 37.0617706069\n",
      "THEY'RE THE SAME! 16.9696969697 56 3 0.470576745507 39.0862617197\n",
      "THEY'RE THE SAME! 17.5757575758 58 2 0.507351374387 51.5453114254\n",
      "THEY'RE THE SAME! 17.8787878788 59 6 0.469653384473 9.81393047539\n",
      "THEY'RE THE SAME! 18.1818181818 60 7 0.245000152202 73.1640296563\n",
      "THEY'RE THE SAME! 19.0909090909 63 3 0.553892321898 21.0302860714\n",
      "THEY'RE THE SAME! 19.3939393939 64 4 0.599509908374 6.67547250061\n",
      "THEY'RE THE SAME! 19.696969697 65 3 0.49646636835 32.6327125493\n",
      "THEY'RE THE SAME! 20.0 66 4 0.527008310249 14.4499934189\n",
      "THEY'RE THE SAME! 20.6060606061 68 2 0.717078627743 13.8168251194\n",
      "THEY'RE THE SAME! 20.9090909091 69 1 0.786277434477 30.694433769\n",
      "THEY'RE THE SAME! 21.2121212121 70 2 0.606062220328 29.5558933211\n",
      "THEY'RE THE SAME! 21.8181818182 72 2 0.377690176859 85.2409510658\n",
      "THEY'RE THE SAME! 22.1212121212 73 1 0.547091412742 75.5729151272\n",
      "THEY'RE THE SAME! 22.4242424242 74 2 0.365704240358 87.7888791024\n",
      "THEY'RE THE SAME! 22.7272727273 75 1 0.895163008736 17.6916461173\n",
      "THEY'RE THE SAME! 23.3333333333 77 2 0.363093969742 88.3152870845\n",
      "THEY'RE THE SAME! 23.6363636364 78 1 0.647134029405 55.0730179383\n",
      "THEY'RE THE SAME! 24.2424242424 80 1 0.590240784147 66.7660021788\n",
      "THEY'RE THE SAME! 24.8484848485 82 1 0.920946089921 15.3582927364\n",
      "THEY'RE THE SAME! 25.7575757576 85 1 0.674195610484 49.7375371779\n",
      "THEY'RE THE SAME! 26.3636363636 87 2 0.615917323674 27.7784722493\n",
      "THEY'RE THE SAME! 27.2727272727 90 1 0.619646281696 60.6755222413\n",
      "THEY'RE THE SAME! 27.8787878788 92 3 0.484871084594 35.4297367433\n",
      "THEY'RE THE SAME! 29.0909090909 96 2 0.459567440869 64.2690804432\n",
      "THEY'RE THE SAME! 30.0 99 1 0.946622629448 13.2862008174\n"
     ]
    }
   ],
   "source": [
    "alpha = [0.01, 0.05, 0.1, 0.2, 1.0]\n",
    "calpha = [1.51, 1.36, 1.22, 1.07, 1.07]\n",
    "idsfr = N.digitize((discs['projected cluster centric radius'].to(u.Mpc))/discs['virial radius'], logbins)\n",
    "print 'H0: that the two distributions are drawn from the same underlying distribution'\n",
    "for n in range(len(logbins)):\n",
    "    dsfr = discs['h_alpha_eqw'][idsfr==n]*-1\n",
    "    fsfri = N.random.randint(0, len(fielddiscs), len(dsfr))\n",
    "    fsfr = fielddiscs\n",
    "    if len(dsfr)>0:\n",
    "        #P.figure()\n",
    "        #P.hist(dsfr, histtype='step', normed=True, range=(0,50), cumulative=True)\n",
    "        #P.hist(fsfr['h_alpha_eqw']*-1, histtype='step', normed=True, range=(0,50), cumulative=True)\n",
    "        D, p = ks_2samp(fsfr['h_alpha_eqw']*-1, dsfr)\n",
    "        idxca = N.searchsorted(alpha, p)\n",
    "        #print n, len(dsfr), D, p*100\n",
    "        ca = calpha[N.searchsorted(alpha, p)]\n",
    "        #print 'reject at ', (1-p)*100,'% confidence if D > ', ca*N.sqrt((len(fsfr['h_alpha_eqw']*-1)+len(dsfr))/float(len(fsfr['h_alpha_eqw']*-1)*len(dsfr)))\n",
    "        if p*100 <=5:\n",
    "            pass\n",
    "        else:\n",
    "            print \"THEY'RE THE SAME!\", logbins[n], n, len(dsfr), D, p*100            "
   ]
  },
  {
   "cell_type": "code",
   "execution_count": 1802,
   "metadata": {
    "collapsed": false
   },
   "outputs": [
    {
     "name": "stdout",
     "output_type": "stream",
     "text": [
      "H0: that the two distributions are drawn from the same underlying distribution\n",
      "THEY'RE THE SAME! 4.84848484848 16 34 0.214481653285 7.74861207257\n",
      "THEY'RE THE SAME! 5.15151515152 17 31 0.199388136266 15.3024126399\n",
      "THEY'RE THE SAME! 5.75757575758 19 23 0.206627103006 25.16852892\n",
      "THEY'RE THE SAME! 6.06060606061 20 19 0.265736387077 11.5487894824\n",
      "THEY'RE THE SAME! 6.36363636364 21 11 0.141472360493 96.9862515047\n",
      "THEY'RE THE SAME! 6.66666666667 22 10 0.299973801415 27.6699265181\n",
      "THEY'RE THE SAME! 6.9696969697 23 12 0.25596017815 36.0277632784\n",
      "THEY'RE THE SAME! 7.27272727273 24 18 0.218918289523 31.7079515702\n",
      "THEY'RE THE SAME! 7.57575757576 25 21 0.193495265541 37.6169093643\n",
      "THEY'RE THE SAME! 8.48484848485 28 10 0.353156929526 12.9390205723\n",
      "THEY'RE THE SAME! 9.09090909091 30 9 0.216662300236 73.9030804909\n",
      "THEY'RE THE SAME! 9.39393939394 31 5 0.267959130207 80.1046384392\n",
      "THEY'RE THE SAME! 9.69696969697 32 3 0.342415509562 78.3142782269\n",
      "THEY'RE THE SAME! 10.0 33 5 0.383337699764 36.3765454064\n",
      "THEY'RE THE SAME! 10.303030303 34 7 0.382985890191 19.8716057954\n",
      "THEY'RE THE SAME! 10.6060606061 35 5 0.314121037464 61.8598506275\n",
      "THEY'RE THE SAME! 10.9090909091 36 2 0.560649724915 38.7822462679\n",
      "THEY'RE THE SAME! 11.2121212121 37 2 0.672255698192 19.1015365774\n",
      "THEY'RE THE SAME! 11.5151515152 38 2 0.421535237097 74.5254508978\n",
      "THEY'RE THE SAME! 11.8181818182 39 2 0.383285302594 83.9986337803\n",
      "THEY'RE THE SAME! 12.1212121212 40 1 0.937123395337 14.0302677263\n",
      "THEY'RE THE SAME! 12.4242424242 41 4 0.282682735132 84.4454630377\n",
      "THEY'RE THE SAME! 12.7272727273 42 2 0.388787005502 82.7246777204\n",
      "THEY'RE THE SAME! 13.0303030303 43 2 0.720461095101 13.4849626532\n",
      "THEY'RE THE SAME! 13.3333333333 44 1 0.906733036416 16.618353919\n",
      "THEY'RE THE SAME! 13.9393939394 46 2 0.441446161907 69.2091740294\n",
      "THEY'RE THE SAME! 14.2424242424 47 2 0.432407649987 71.6409818642\n",
      "THEY'RE THE SAME! 14.5454545455 48 1 0.770238407126 33.0807537624\n",
      "THEY'RE THE SAME! 14.8484848485 49 2 0.754781241813 10.3680306086\n",
      "THEY'RE THE SAME! 15.4545454545 51 1 0.74403982185 37.224591566\n",
      "THEY'RE THE SAME! 16.3636363636 54 2 0.364553314121 88.035025083\n",
      "THEY'RE THE SAME! 16.6666666667 55 2 0.392716793293 81.7931994382\n",
      "THEY'RE THE SAME! 16.9696969697 56 1 0.967513754257 11.7781984753\n",
      "THEY'RE THE SAME! 17.2727272727 57 1 0.709719675138 43.125429856\n",
      "THEY'RE THE SAME! 17.5757575758 58 2 0.387215090385 83.0923531353\n",
      "THEY'RE THE SAME! 18.1818181818 60 3 0.65968037726 8.22168379994\n",
      "THEY'RE THE SAME! 18.4848484848 61 2 0.62274037202 26.6121809574\n",
      "THEY'RE THE SAME! 18.7878787879 62 3 0.403720199109 58.848505828\n",
      "THEY'RE THE SAME! 20.6060606061 68 1 0.895205658894 17.6940305746\n",
      "THEY'RE THE SAME! 20.9090909091 69 1 0.996594183914 9.90996426768\n",
      "THEY'RE THE SAME! 22.4242424242 74 3 0.647105056327 9.27443329344\n",
      "THEY'RE THE SAME! 23.6363636364 78 2 0.437123395337 70.3751731282\n",
      "THEY'RE THE SAME! 26.3636363636 87 1 0.730416557506 39.5044485098\n",
      "THEY'RE THE SAME! 27.5757575758 91 2 0.712863505371 14.2689925846\n",
      "THEY'RE THE SAME! 29.0909090909 96 1 0.552004191774 74.6011223932\n"
     ]
    }
   ],
   "source": [
    "alpha = [0.01, 0.05, 0.1, 0.2, 1.0]\n",
    "calpha = [1.51, 1.36, 1.22, 1.07, 1.07]\n",
    "idsfr = N.digitize((smooth['projected cluster centric radius'].to(u.Mpc))/smooth['virial radius'], logbins)\n",
    "print 'H0: that the two distributions are drawn from the same underlying distribution'\n",
    "for n in range(len(logbins)):\n",
    "    dsfr = smooth['h_alpha_eqw'][idsfr==n]*-1\n",
    "    fsfri = N.random.randint(0, len(fieldsmooth), len(dsfr))\n",
    "    fsfr = fieldsmooth\n",
    "    if len(dsfr)>0:\n",
    "        #P.figure()\n",
    "        #P.hist(dsfr, histtype='step', normed=True, range=(0,50), cumulative=True)\n",
    "        #P.hist(fsfr['h_alpha_eqw']*-1, histtype='step', normed=True, range=(0,50), cumulative=True)\n",
    "        D, p = ks_2samp(fsfr['h_alpha_eqw']*-1, dsfr)\n",
    "        idxca = N.searchsorted(alpha, p)\n",
    "        #print n, len(dsfr), D, p*100\n",
    "        ca = calpha[N.searchsorted(alpha, p)]\n",
    "        #print 'reject at ', (1-p)*100,'% confidence if D > ', ca*N.sqrt((len(fsfr['h_alpha_eqw']*-1)+len(dsfr))/float(len(fsfr['h_alpha_eqw']*-1)*len(dsfr)))\n",
    "        if p*100 <=5:\n",
    "            pass\n",
    "        else:\n",
    "            print \"THEY'RE THE SAME!\", logbins[n], n, len(dsfr), D, p*100            "
   ]
  },
  {
   "cell_type": "code",
   "execution_count": null,
   "metadata": {
    "collapsed": false
   },
   "outputs": [],
   "source": [
    "logbins[7:]"
   ]
  },
  {
   "cell_type": "code",
   "execution_count": null,
   "metadata": {
    "collapsed": false
   },
   "outputs": [],
   "source": [
    "Hc, Xc, Yc = N.histogram2d(cent['MU_MR'], cent['NUV_U'], bins=30, range=((0,4),(-0.5,5)))#, weights=centh['t01_smooth_or_features_a02_features_or_disk_debiased'])\n",
    "Hs, Xs, Ys = N.histogram2d(sat['MU_MR'], sat['NUV_U'], bins=30, range=((0,4),(-0.5,5)))#, weights=centm['t01_smooth_or_features_a02_features_or_disk_debiased'])\n",
    "Hf, Xf, Yf = N.histogram2d(field['MU_MR'], field['NUV_U'], bins=30, range=((0,4),(-0.5,5)))#, weights=centl['t01_smooth_or_features_a02_features_or_disk_debiased'])\n"
   ]
  },
  {
   "cell_type": "code",
   "execution_count": null,
   "metadata": {
    "collapsed": false
   },
   "outputs": [],
   "source": [
    "P.figure(figsize=(12,4))\n",
    "ax1 = P.subplot(131)\n",
    "ax1.contour(Xc[:-1], Yc[:-1], Hc.T, origin='lower', colors='k', label=r'$\\rm{centrals}$')\n",
    "ax2 = P.subplot(132)\n",
    "ax2.contour(Xs[:-1], Ys[:-1], Hs.T, origin='lower', colors='k', label=r'$\\rm{satellites}$')\n",
    "ax2.tick_params('y', labelleft='off')\n",
    "ax3 = P.subplot(133)\n",
    "ax3.contour(Xf[:-1], Yf[:-1], Hf.T, origin='lower', colors='k', label=r'$\\rm{field}$')\n",
    "ax3.tick_params('y', labelleft='off')\n",
    "ax1.set_xlabel(r'$u-r$ \\rm{colour}')\n",
    "ax2.set_xlabel(r'$u-r$ \\rm{colour}')\n",
    "ax3.set_xlabel(r'$u-r$ \\rm{colour}')\n",
    "ax1.minorticks_on()\n",
    "ax2.minorticks_on()\n",
    "ax3.minorticks_on()\n",
    "ax1.text(0.25, 4.25, r'$\\rm{centrals}$')\n",
    "ax2.text(0.25, 4.25, r'$\\rm{satellites}$')\n",
    "ax3.text(0.25, 4.25, r'$\\rm{field}$')\n",
    "ax1.set_ylabel(r'$NUV-u$ \\rm{colour}')\n",
    "# labels = ax4.get_xticklabels() \n",
    "# for label in labels: \n",
    "#     label.set_rotation(45) \n",
    "# labels = ax5.get_xticklabels() \n",
    "# for label in labels: \n",
    "#     label.set_rotation(45) \n",
    "# labels = ax6.get_xticklabels() \n",
    "# for label in labels: \n",
    "#     label.set_rotation(45) \n",
    "P.subplots_adjust(wspace=0.0, hspace=0.0)\n",
    "P.tight_layout()\n",
    "P.savefig('colour_colour_cent_sat_field_matched.pdf')"
   ]
  },
  {
   "cell_type": "code",
   "execution_count": null,
   "metadata": {
    "collapsed": false
   },
   "outputs": [],
   "source": [
    "Hc, Xc, Yc = N.histogram2d(cent['MU_MR'], cent['NUV_U'], bins=30, range=((0,4),(-0.5,5)), weights=cent['t01_smooth_or_features_a02_features_or_disk_debiased'])\n",
    "Hs, Xs, Ys = N.histogram2d(sat['MU_MR'], sat['NUV_U'], bins=30, range=((0,4),(-0.5,5)), weights=sat['t01_smooth_or_features_a02_features_or_disk_debiased'])\n",
    "Hf, Xf, Yf = N.histogram2d(field['MU_MR'], field['NUV_U'], bins=30, range=((0,4),(-0.5,5)), weights=field['t01_smooth_or_features_a02_features_or_disk_debiased'])\n"
   ]
  },
  {
   "cell_type": "code",
   "execution_count": null,
   "metadata": {
    "collapsed": false
   },
   "outputs": [],
   "source": [
    "P.figure(figsize=(12,4))\n",
    "ax1 = P.subplot(131)\n",
    "ax1.contour(Xc[:-1], Yc[:-1], Hc.T, origin='lower', colors='k', label=r'$\\rm{centrals}$')\n",
    "ax2 = P.subplot(132)\n",
    "ax2.contour(Xs[:-1], Ys[:-1], Hs.T, origin='lower', colors='k', label=r'$\\rm{satellites}$')\n",
    "ax2.tick_params('y', labelleft='off')\n",
    "ax3 = P.subplot(133)\n",
    "ax3.contour(Xf[:-1], Yf[:-1], Hf.T, origin='lower', colors='k', label=r'$\\rm{field}$')\n",
    "ax3.tick_params('y', labelleft='off')\n",
    "ax1.set_xlabel(r'$u-r$ \\rm{colour}')\n",
    "ax2.set_xlabel(r'$u-r$ \\rm{colour}')\n",
    "ax3.set_xlabel(r'$u-r$ \\rm{colour}')\n",
    "ax1.minorticks_on()\n",
    "ax2.minorticks_on()\n",
    "ax3.minorticks_on()\n",
    "ax1.text(0.25, 4.25, r'$\\rm{centrals}$')\n",
    "ax2.text(0.25, 4.25, r'$\\rm{satellites}$')\n",
    "ax3.text(0.25, 4.25, r'$\\rm{field}$')\n",
    "ax1.set_ylabel(r'$NUV-u$ \\rm{colour}')\n",
    "# labels = ax4.get_xticklabels() \n",
    "# for label in labels: \n",
    "#     label.set_rotation(45) \n",
    "# labels = ax5.get_xticklabels() \n",
    "# for label in labels: \n",
    "#     label.set_rotation(45) \n",
    "# labels = ax6.get_xticklabels() \n",
    "# for label in labels: \n",
    "#     label.set_rotation(45) \n",
    "P.subplots_adjust(wspace=0.0, hspace=0.0)\n",
    "P.tight_layout()\n",
    "P.savefig('colour_colour_cent_sat_field_matched_disk_debiased_weighted.pdf')"
   ]
  },
  {
   "cell_type": "code",
   "execution_count": null,
   "metadata": {
    "collapsed": true
   },
   "outputs": [],
   "source": [
    "Hc, Xc, Yc = N.histogram2d(cent['MU_MR'], cent['NUV_U'], bins=30, range=((0,4),(-0.5,5)), weights=cent['t01_smooth_or_features_a01_smooth_debiased'])\n",
    "Hs, Xs, Ys = N.histogram2d(sat['MU_MR'], sat['NUV_U'], bins=30, range=((0,4),(-0.5,5)), weights=sat['t01_smooth_or_features_a01_smooth_debiased'])\n",
    "Hf, Xf, Yf = N.histogram2d(field['MU_MR'], field['NUV_U'], bins=30, range=((0,4),(-0.5,5)), weights=field['t01_smooth_or_features_a01_smooth_debiased'])\n"
   ]
  },
  {
   "cell_type": "code",
   "execution_count": null,
   "metadata": {
    "collapsed": false
   },
   "outputs": [],
   "source": [
    "P.figure(figsize=(12,4))\n",
    "ax1 = P.subplot(131)\n",
    "ax1.contour(Xc[:-1], Yc[:-1], Hc.T, origin='lower', colors='k', label=r'$\\rm{centrals}$')\n",
    "ax2 = P.subplot(132)\n",
    "ax2.contour(Xs[:-1], Ys[:-1], Hs.T, origin='lower', colors='k', label=r'$\\rm{satellites}$')\n",
    "ax2.tick_params('y', labelleft='off')\n",
    "ax3 = P.subplot(133)\n",
    "ax3.contour(Xf[:-1], Yf[:-1], Hf.T, origin='lower', colors='k', label=r'$\\rm{field}$')\n",
    "ax3.tick_params('y', labelleft='off')\n",
    "ax1.set_xlabel(r'$u-r$ \\rm{colour}')\n",
    "ax2.set_xlabel(r'$u-r$ \\rm{colour}')\n",
    "ax3.set_xlabel(r'$u-r$ \\rm{colour}')\n",
    "ax1.minorticks_on()\n",
    "ax2.minorticks_on()\n",
    "ax3.minorticks_on()\n",
    "ax1.text(0.25, 4.25, r'$\\rm{centrals}$')\n",
    "ax2.text(0.25, 4.25, r'$\\rm{satellites}$')\n",
    "ax3.text(0.25, 4.25, r'$\\rm{field}$')\n",
    "ax1.set_ylabel(r'$NUV-u$ \\rm{colour}')\n",
    "# labels = ax4.get_xticklabels() \n",
    "# for label in labels: \n",
    "#     label.set_rotation(45) \n",
    "# labels = ax5.get_xticklabels() \n",
    "# for label in labels: \n",
    "#     label.set_rotation(45) \n",
    "# labels = ax6.get_xticklabels() \n",
    "# for label in labels: \n",
    "#     label.set_rotation(45) \n",
    "P.subplots_adjust(wspace=0.0, hspace=0.0)\n",
    "P.tight_layout()\n",
    "P.savefig('colour_colour_cent_sat_field_matched_smooth_debiased_weighted.pdf')"
   ]
  },
  {
   "cell_type": "code",
   "execution_count": null,
   "metadata": {
    "collapsed": false
   },
   "outputs": [],
   "source": [
    "cd = cent[cent['t01_smooth_or_features_a02_features_or_disk_debiased']>=0.8]"
   ]
  },
  {
   "cell_type": "code",
   "execution_count": null,
   "metadata": {
    "collapsed": false
   },
   "outputs": [],
   "source": [
    "P.hist(cent['number in cluster'], histtype='step', range=(0,15), normed=True, bins=15)\n",
    "P.hist(cd['number in cluster'], histtype='step', range=(0,15), normed=True, bins=15)"
   ]
  },
  {
   "cell_type": "code",
   "execution_count": null,
   "metadata": {
    "collapsed": false
   },
   "outputs": [],
   "source": [
    "ks_2samp(cd['number in cluster'], cent['number in cluster'])"
   ]
  },
  {
   "cell_type": "code",
   "execution_count": null,
   "metadata": {
    "collapsed": false
   },
   "outputs": [],
   "source": [
    "P.hist(cent['halo mass'], histtype='step', range=(11,15), normed=True, bins=15)\n",
    "P.hist(cd['halo mass'], histtype='step', range=(11,15), normed=True, bins=15)"
   ]
  },
  {
   "cell_type": "code",
   "execution_count": null,
   "metadata": {
    "collapsed": false
   },
   "outputs": [],
   "source": [
    "ks_2samp(cd['halo mass'],cent['halo mass'])"
   ]
  },
  {
   "cell_type": "code",
   "execution_count": null,
   "metadata": {
    "collapsed": false
   },
   "outputs": [],
   "source": []
  },
  {
   "cell_type": "code",
   "execution_count": null,
   "metadata": {
    "collapsed": false
   },
   "outputs": [],
   "source": []
  },
  {
   "cell_type": "code",
   "execution_count": null,
   "metadata": {
    "collapsed": true
   },
   "outputs": [],
   "source": []
  }
 ],
 "metadata": {
  "kernelspec": {
   "display_name": "Python 2",
   "language": "python",
   "name": "python2"
  },
  "language_info": {
   "codemirror_mode": {
    "name": "ipython",
    "version": 2
   },
   "file_extension": ".py",
   "mimetype": "text/x-python",
   "name": "python",
   "nbconvert_exporter": "python",
   "pygments_lexer": "ipython2",
   "version": "2.7.8"
  }
 },
 "nbformat": 4,
 "nbformat_minor": 0
}
