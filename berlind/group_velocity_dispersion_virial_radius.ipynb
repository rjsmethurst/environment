{
 "cells": [
  {
   "cell_type": "code",
   "execution_count": 789,
   "metadata": {
    "collapsed": true
   },
   "outputs": [],
   "source": [
    "%matplotlib inline\n",
    "import numpy as N\n",
    "import pylab as P\n",
    "from astropy.table import Table, vstack, Column\n",
    "from astropy import units as u"
   ]
  },
  {
   "cell_type": "code",
   "execution_count": 790,
   "metadata": {
    "collapsed": true
   },
   "outputs": [],
   "source": [
    "from astropy.cosmology import FlatLambdaCDM\n",
    "cosmo = FlatLambdaCDM(H0 = 71.0, Om0 = 0.26)\n",
    "c = 299792.458 * u.km/u.s"
   ]
  },
  {
   "cell_type": "code",
   "execution_count": 791,
   "metadata": {
    "collapsed": false
   },
   "outputs": [],
   "source": [
    "data = Table.read('mr181920_member_long_groupID_catalog_central_satellites_with_halo_mass.fits', format='fits')"
   ]
  },
  {
   "cell_type": "code",
   "execution_count": 792,
   "metadata": {
    "collapsed": true
   },
   "outputs": [],
   "source": [
    "veldisp = Column(name = 'velocity dispersion', data=N.zeros(len(data)), unit=u.km/u.s)\n",
    "R200 = Column(name='virial radius', data=N.zeros(len(data)), unit=u.Mpc)"
   ]
  },
  {
   "cell_type": "code",
   "execution_count": 793,
   "metadata": {
    "collapsed": false
   },
   "outputs": [
    {
     "ename": "KeyboardInterrupt",
     "evalue": "",
     "output_type": "error",
     "traceback": [
      "\u001b[0;31m---------------------------------------------------------------------------\u001b[0m",
      "\u001b[0;31mKeyboardInterrupt\u001b[0m                         Traceback (most recent call last)",
      "\u001b[0;32m<ipython-input-793-c586c9e9b008>\u001b[0m in \u001b[0;36m<module>\u001b[0;34m()\u001b[0m\n\u001b[1;32m      1\u001b[0m \u001b[0;32mfor\u001b[0m \u001b[0mn\u001b[0m \u001b[0;32min\u001b[0m \u001b[0;34m(\u001b[0m\u001b[0mN\u001b[0m\u001b[0;34m.\u001b[0m\u001b[0munique\u001b[0m\u001b[0;34m(\u001b[0m\u001b[0mdata\u001b[0m\u001b[0;34m[\u001b[0m\u001b[0;34m'groupID'\u001b[0m\u001b[0;34m]\u001b[0m\u001b[0;34m)\u001b[0m\u001b[0;34m)\u001b[0m\u001b[0;34m:\u001b[0m\u001b[0;34m\u001b[0m\u001b[0m\n\u001b[1;32m      2\u001b[0m     \u001b[0midx\u001b[0m \u001b[0;34m=\u001b[0m \u001b[0mN\u001b[0m\u001b[0;34m.\u001b[0m\u001b[0mwhere\u001b[0m\u001b[0;34m(\u001b[0m\u001b[0mdata\u001b[0m\u001b[0;34m[\u001b[0m\u001b[0;34m'groupID'\u001b[0m\u001b[0;34m]\u001b[0m \u001b[0;34m==\u001b[0m \u001b[0mn\u001b[0m\u001b[0;34m)\u001b[0m\u001b[0;34m\u001b[0m\u001b[0m\n\u001b[0;32m----> 3\u001b[0;31m     \u001b[0mgroup_data\u001b[0m \u001b[0;34m=\u001b[0m \u001b[0mdata\u001b[0m\u001b[0;34m[\u001b[0m\u001b[0midx\u001b[0m\u001b[0;34m]\u001b[0m\u001b[0;34m\u001b[0m\u001b[0m\n\u001b[0m\u001b[1;32m      4\u001b[0m     \u001b[0mcent_data\u001b[0m \u001b[0;34m=\u001b[0m \u001b[0mgroup_data\u001b[0m\u001b[0;34m[\u001b[0m\u001b[0mN\u001b[0m\u001b[0;34m.\u001b[0m\u001b[0mwhere\u001b[0m\u001b[0;34m(\u001b[0m\u001b[0mgroup_data\u001b[0m\u001b[0;34m[\u001b[0m\u001b[0;34m'central or satellite'\u001b[0m\u001b[0;34m]\u001b[0m \u001b[0;34m==\u001b[0m \u001b[0;36m1\u001b[0m\u001b[0;34m)\u001b[0m\u001b[0;34m]\u001b[0m\u001b[0;34m\u001b[0m\u001b[0m\n\u001b[1;32m      5\u001b[0m     \u001b[0;32mif\u001b[0m \u001b[0mlen\u001b[0m\u001b[0;34m(\u001b[0m\u001b[0mgroup_data\u001b[0m\u001b[0;34m)\u001b[0m \u001b[0;34m>\u001b[0m \u001b[0;36m0\u001b[0m \u001b[0;32mand\u001b[0m \u001b[0mlen\u001b[0m\u001b[0;34m(\u001b[0m\u001b[0mcent_data\u001b[0m\u001b[0;34m)\u001b[0m \u001b[0;34m==\u001b[0m \u001b[0;36m1\u001b[0m\u001b[0;34m:\u001b[0m\u001b[0;34m\u001b[0m\u001b[0m\n",
      "\u001b[0;32m/usr/local/Cellar/python/2.7.8_2/Frameworks/Python.framework/Versions/2.7/lib/python2.7/site-packages/astropy-1.0.1-py2.7-macosx-10.10-x86_64.egg/astropy/table/table.pyc\u001b[0m in \u001b[0;36m__getitem__\u001b[0;34m(self, item)\u001b[0m\n\u001b[1;32m    863\u001b[0m             \u001b[0;31m# is produced by np.where, as in t[np.where(t['a'] > 2)]\u001b[0m\u001b[0;34m\u001b[0m\u001b[0;34m\u001b[0m\u001b[0m\n\u001b[1;32m    864\u001b[0m             \u001b[0;31m# For all, a new table is constructed with slice of all columns\u001b[0m\u001b[0;34m\u001b[0m\u001b[0;34m\u001b[0m\u001b[0m\n\u001b[0;32m--> 865\u001b[0;31m             \u001b[0;32mreturn\u001b[0m \u001b[0mself\u001b[0m\u001b[0;34m.\u001b[0m\u001b[0m_new_from_slice\u001b[0m\u001b[0;34m(\u001b[0m\u001b[0mitem\u001b[0m\u001b[0;34m)\u001b[0m\u001b[0;34m\u001b[0m\u001b[0m\n\u001b[0m\u001b[1;32m    866\u001b[0m         \u001b[0;32melse\u001b[0m\u001b[0;34m:\u001b[0m\u001b[0;34m\u001b[0m\u001b[0m\n\u001b[1;32m    867\u001b[0m             raise ValueError('Illegal type {0} for table item access'\n",
      "\u001b[0;32m/usr/local/Cellar/python/2.7.8_2/Frameworks/Python.framework/Versions/2.7/lib/python2.7/site-packages/astropy-1.0.1-py2.7-macosx-10.10-x86_64.egg/astropy/table/table.pyc\u001b[0m in \u001b[0;36m_new_from_slice\u001b[0;34m(self, slice_)\u001b[0m\n\u001b[1;32m    542\u001b[0m         \u001b[0mcols\u001b[0m \u001b[0;34m=\u001b[0m \u001b[0mself\u001b[0m\u001b[0;34m.\u001b[0m\u001b[0mcolumns\u001b[0m\u001b[0;34m.\u001b[0m\u001b[0mvalues\u001b[0m\u001b[0;34m(\u001b[0m\u001b[0;34m)\u001b[0m\u001b[0;34m\u001b[0m\u001b[0m\n\u001b[1;32m    543\u001b[0m         \u001b[0mnames\u001b[0m \u001b[0;34m=\u001b[0m \u001b[0;34m[\u001b[0m\u001b[0mcol_getattr\u001b[0m\u001b[0;34m(\u001b[0m\u001b[0mcol\u001b[0m\u001b[0;34m,\u001b[0m \u001b[0;34m'name'\u001b[0m\u001b[0;34m)\u001b[0m \u001b[0;32mfor\u001b[0m \u001b[0mcol\u001b[0m \u001b[0;32min\u001b[0m \u001b[0mcols\u001b[0m\u001b[0;34m]\u001b[0m\u001b[0;34m\u001b[0m\u001b[0m\n\u001b[0;32m--> 544\u001b[0;31m         \u001b[0mnewcols\u001b[0m \u001b[0;34m=\u001b[0m \u001b[0;34m[\u001b[0m\u001b[0mcol\u001b[0m\u001b[0;34m[\u001b[0m\u001b[0mslice_\u001b[0m\u001b[0;34m]\u001b[0m \u001b[0;32mfor\u001b[0m \u001b[0mcol\u001b[0m \u001b[0;32min\u001b[0m \u001b[0mcols\u001b[0m\u001b[0;34m]\u001b[0m\u001b[0;34m\u001b[0m\u001b[0m\n\u001b[0m\u001b[1;32m    545\u001b[0m \u001b[0;34m\u001b[0m\u001b[0m\n\u001b[1;32m    546\u001b[0m         \u001b[0;31m# Mixin column classes are not responsible for copying column attributes\u001b[0m\u001b[0;34m\u001b[0m\u001b[0;34m\u001b[0m\u001b[0m\n",
      "\u001b[0;32m/usr/local/Cellar/python/2.7.8_2/Frameworks/Python.framework/Versions/2.7/lib/python2.7/site-packages/astropy-1.0.1-py2.7-macosx-10.10-x86_64.egg/astropy/table/column.pyc\u001b[0m in \u001b[0;36m__getitem__\u001b[0;34m(self, item)\u001b[0m\n\u001b[1;32m   1120\u001b[0m         \u001b[0;32mif\u001b[0m \u001b[0mout\u001b[0m\u001b[0;34m.\u001b[0m\u001b[0m__class__\u001b[0m \u001b[0;32mis\u001b[0m \u001b[0mself\u001b[0m\u001b[0;34m.\u001b[0m\u001b[0m__class__\u001b[0m\u001b[0;34m:\u001b[0m\u001b[0;34m\u001b[0m\u001b[0m\n\u001b[1;32m   1121\u001b[0m             \u001b[0mout\u001b[0m\u001b[0;34m.\u001b[0m\u001b[0mparent_table\u001b[0m \u001b[0;34m=\u001b[0m \u001b[0mNone\u001b[0m\u001b[0;34m\u001b[0m\u001b[0m\n\u001b[0;32m-> 1122\u001b[0;31m             \u001b[0mout\u001b[0m\u001b[0;34m.\u001b[0m\u001b[0m_copy_attrs\u001b[0m\u001b[0;34m(\u001b[0m\u001b[0mself\u001b[0m\u001b[0;34m)\u001b[0m\u001b[0;34m\u001b[0m\u001b[0m\n\u001b[0m\u001b[1;32m   1123\u001b[0m \u001b[0;34m\u001b[0m\u001b[0m\n\u001b[1;32m   1124\u001b[0m         \u001b[0;32mreturn\u001b[0m \u001b[0mout\u001b[0m\u001b[0;34m\u001b[0m\u001b[0m\n",
      "\u001b[0;32m/usr/local/Cellar/python/2.7.8_2/Frameworks/Python.framework/Versions/2.7/lib/python2.7/site-packages/astropy-1.0.1-py2.7-macosx-10.10-x86_64.egg/astropy/table/column.pyc\u001b[0m in \u001b[0;36m_copy_attrs\u001b[0;34m(self, obj)\u001b[0m\n\u001b[1;32m    694\u001b[0m         \u001b[0;32mfor\u001b[0m \u001b[0mattr\u001b[0m \u001b[0;32min\u001b[0m \u001b[0;34m(\u001b[0m\u001b[0;34m'name'\u001b[0m\u001b[0;34m,\u001b[0m \u001b[0;34m'unit'\u001b[0m\u001b[0;34m,\u001b[0m \u001b[0;34m'format'\u001b[0m\u001b[0;34m,\u001b[0m \u001b[0;34m'description'\u001b[0m\u001b[0;34m)\u001b[0m\u001b[0;34m:\u001b[0m\u001b[0;34m\u001b[0m\u001b[0m\n\u001b[1;32m    695\u001b[0m             \u001b[0mval\u001b[0m \u001b[0;34m=\u001b[0m \u001b[0mgetattr\u001b[0m\u001b[0;34m(\u001b[0m\u001b[0mobj\u001b[0m\u001b[0;34m,\u001b[0m \u001b[0mattr\u001b[0m\u001b[0;34m,\u001b[0m \u001b[0mNone\u001b[0m\u001b[0;34m)\u001b[0m\u001b[0;34m\u001b[0m\u001b[0m\n\u001b[0;32m--> 696\u001b[0;31m             \u001b[0msetattr\u001b[0m\u001b[0;34m(\u001b[0m\u001b[0mself\u001b[0m\u001b[0;34m,\u001b[0m \u001b[0mattr\u001b[0m\u001b[0;34m,\u001b[0m \u001b[0mval\u001b[0m\u001b[0;34m)\u001b[0m\u001b[0;34m\u001b[0m\u001b[0m\n\u001b[0m\u001b[1;32m    697\u001b[0m         \u001b[0mself\u001b[0m\u001b[0;34m.\u001b[0m\u001b[0mmeta\u001b[0m \u001b[0;34m=\u001b[0m \u001b[0mdeepcopy\u001b[0m\u001b[0;34m(\u001b[0m\u001b[0mgetattr\u001b[0m\u001b[0;34m(\u001b[0m\u001b[0mobj\u001b[0m\u001b[0;34m,\u001b[0m \u001b[0;34m'meta'\u001b[0m\u001b[0;34m,\u001b[0m \u001b[0;34m{\u001b[0m\u001b[0;34m}\u001b[0m\u001b[0;34m)\u001b[0m\u001b[0;34m)\u001b[0m\u001b[0;34m\u001b[0m\u001b[0m\n\u001b[1;32m    698\u001b[0m \u001b[0;34m\u001b[0m\u001b[0m\n",
      "\u001b[0;32m/usr/local/Cellar/python/2.7.8_2/Frameworks/Python.framework/Versions/2.7/lib/python2.7/site-packages/astropy-1.0.1-py2.7-macosx-10.10-x86_64.egg/astropy/table/column.pyc\u001b[0m in \u001b[0;36mname\u001b[0;34m(self, val)\u001b[0m\n\u001b[1;32m    387\u001b[0m         \u001b[0;32mreturn\u001b[0m \u001b[0mself\u001b[0m\u001b[0;34m.\u001b[0m\u001b[0m_name\u001b[0m\u001b[0;34m\u001b[0m\u001b[0m\n\u001b[1;32m    388\u001b[0m \u001b[0;34m\u001b[0m\u001b[0m\n\u001b[0;32m--> 389\u001b[0;31m     \u001b[0;34m@\u001b[0m\u001b[0mname\u001b[0m\u001b[0;34m.\u001b[0m\u001b[0msetter\u001b[0m\u001b[0;34m\u001b[0m\u001b[0m\n\u001b[0m\u001b[1;32m    390\u001b[0m     \u001b[0;32mdef\u001b[0m \u001b[0mname\u001b[0m\u001b[0;34m(\u001b[0m\u001b[0mself\u001b[0m\u001b[0;34m,\u001b[0m \u001b[0mval\u001b[0m\u001b[0;34m)\u001b[0m\u001b[0;34m:\u001b[0m\u001b[0;34m\u001b[0m\u001b[0m\n\u001b[1;32m    391\u001b[0m         \u001b[0mval\u001b[0m \u001b[0;34m=\u001b[0m \u001b[0mfix_column_name\u001b[0m\u001b[0;34m(\u001b[0m\u001b[0mval\u001b[0m\u001b[0;34m)\u001b[0m\u001b[0;34m\u001b[0m\u001b[0m\n",
      "\u001b[0;31mKeyboardInterrupt\u001b[0m: "
     ]
    }
   ],
   "source": [
    "for n in (N.unique(data['groupID'])):\n",
    "    idx = N.where(data['groupID'] == n)\n",
    "    group_data = data[idx]\n",
    "    cent_data = group_data[N.where(group_data['central or satellite'] == 1)]\n",
    "    if len(group_data) > 0 and len(cent_data) == 1:\n",
    "        vi = c * (group_data['z'] - N.mean(group_data['z']))/(1 + N.mean(group_data['z']))\n",
    "        vel_disp = N.std(((vi - vi[N.where(group_data['central or satellite'] == 1)])**2)**0.5)\n",
    "        veldisp[idx] = vel_disp\n",
    "        R200[idx] = 1.73 * (vel_disp/(1000*u.km/u.s)) * (1/(cosmo.Ode(cent_data['z']) + cosmo.Om0 * (1+cent_data['z'])**3)**0.5) * (1/(cosmo.H0/100)*(u.km/u.s))\n",
    "    else:\n",
    "        pass\n",
    "    if veldisp[idx].any() > 1000:\n",
    "        print 'WARNING! ACHTUNG! ', n, cent_data['number in cluster'].quantity, cent_data['halo mass'].quantity, group_data['RA', 'Dec', 'z'], vel_disp"
   ]
  },
  {
   "cell_type": "code",
   "execution_count": null,
   "metadata": {
    "collapsed": true
   },
   "outputs": [],
   "source": [
    "data.add_columns([veldisp, R200])"
   ]
  },
  {
   "cell_type": "code",
   "execution_count": null,
   "metadata": {
    "collapsed": false
   },
   "outputs": [],
   "source": [
    "kpca = cosmo.kpc_comoving_per_arcmin(data['z'])\n",
    "ka = Column(name='kpc per arcmin', data=kpca.value, dtype=float, unit=u.kpc/u.arcmin)\n",
    "data.add_column(ka)\n",
    "kd = Column(name='kpc per degree', data = data['kpc per arcmin'].to(u.kpc/u.degree), dtype=float)\n",
    "data.add_column(kd)\n",
    "from astropy.coordinates import SkyCoord"
   ]
  },
  {
   "cell_type": "code",
   "execution_count": null,
   "metadata": {
    "collapsed": false
   },
   "outputs": [],
   "source": [
    "ccr = Column(name='projected cluster centric radius', length=len(data), dtype=float, unit=u.kpc)\n",
    "for n in (N.unique(data['groupID'])):\n",
    "    idxs = N.where(N.logical_and(data['groupID']==n, data['central or satellite'] == 0))\n",
    "    idxc = N.where(N.logical_and(data['groupID']==n, data['central or satellite'] == 1))\n",
    "    gc = data[idxc]\n",
    "    gs = data[idxs]\n",
    "    if len(gc) > 0:\n",
    "        c1 = SkyCoord(ra=gc['RA'], dec=gc['Dec'], unit=u.degree)\n",
    "        c2 = SkyCoord(ra=gs['RA'], dec=gs['Dec'], unit=u.degree)\n",
    "        s = c1.separation(c2)*gs['kpc per degree']\n",
    "        ccr[idxs] = s\n",
    "        ccr[idxc] = 0.0\n",
    "    else:\n",
    "        pass"
   ]
  },
  {
   "cell_type": "code",
   "execution_count": null,
   "metadata": {
    "collapsed": true
   },
   "outputs": [],
   "source": [
    "data.add_column(ccr)"
   ]
  },
  {
   "cell_type": "code",
   "execution_count": null,
   "metadata": {
    "collapsed": true
   },
   "outputs": [],
   "source": [
    "data.write('mr181920_member_long_groupID_catalog_central_satellites_with_halo_mass_projected_clustercentric_radius_vel_disp_virial_radius.fits', format='fits')"
   ]
  },
  {
   "cell_type": "code",
   "execution_count": null,
   "metadata": {
    "collapsed": false
   },
   "outputs": [],
   "source": [
    "import os\n",
    "os.environ['PATH'] = os.environ['PATH'] + ':/usr/texbin'\n",
    "\n",
    "P.rc('figure', facecolor='none', edgecolor='none', autolayout=True)\n",
    "P.rc('path', simplify=True)\n",
    "P.rc('text', usetex=True)\n",
    "P.rc('font', family='serif')\n",
    "P.rc('axes', labelsize='large', facecolor='none', linewidth=0.7, color_cycle = ['k', 'r', 'g', 'b', 'c', 'm', 'y'])\n",
    "P.rc('xtick', labelsize='medium')\n",
    "P.rc('ytick', labelsize='medium')\n",
    "P.rc('lines', markersize=4, linewidth=1, markeredgewidth=0.2)\n",
    "P.rc('legend', numpoints=1, frameon=False, handletextpad=0.3, scatterpoints=1, handlelength=2, handleheight=0.1)\n",
    "P.rc('savefig', facecolor='none', edgecolor='none', frameon='False')\n",
    "\n",
    "params =   {'font.size' : 11,\n",
    "            'xtick.major.size': 8,\n",
    "            'ytick.major.size': 8,\n",
    "            'xtick.minor.size': 3,\n",
    "            'ytick.minor.size': 3,\n",
    "            }\n",
    "P.rcParams.update(params) "
   ]
  },
  {
   "cell_type": "code",
   "execution_count": null,
   "metadata": {
    "collapsed": true
   },
   "outputs": [],
   "source": [
    "data = data[N.where(data['number in cluster']>=2)]"
   ]
  },
  {
   "cell_type": "code",
   "execution_count": null,
   "metadata": {
    "collapsed": false
   },
   "outputs": [],
   "source": [
    "P.figure()\n",
    "P.hist(data['velocity dispersion'], histtype='step', color='k', normed='True', range=(0,1000))\n",
    "P.minorticks_on()\n",
    "P.xlabel(r'$\\sigma_{x} [\\rm{km} /\\rm{s}]$')\n",
    "P.ylabel(r'$\\rm{normalised }$ $\\rm{density}$')\n",
    "P.savefig('velocity_dispersion_distribution.png')"
   ]
  },
  {
   "cell_type": "code",
   "execution_count": null,
   "metadata": {
    "collapsed": true
   },
   "outputs": [],
   "source": [
    "sat = data[N.where(data['central or satellite']==0)]"
   ]
  },
  {
   "cell_type": "code",
   "execution_count": null,
   "metadata": {
    "collapsed": false
   },
   "outputs": [],
   "source": [
    "logbins = N.append(N.linspace(0, 1, 6),  N.linspace(2, 15, 8), axis=0)\n",
    "print logbins"
   ]
  },
  {
   "cell_type": "code",
   "execution_count": null,
   "metadata": {
    "collapsed": false
   },
   "outputs": [],
   "source": [
    "P.figure(figsize=(4,4))\n",
    "ax = P.subplot(111)\n",
    "ax.hist((sat['projected cluster centric radius'].to(u.Mpc))/sat['virial radius'], histtype='step', color='k', bins=logbins, normed=True)\n",
    "ax.set_xscale('log')\n",
    "ax.minorticks_on()\n",
    "ax.set_xlim(0, 15)\n",
    "ax.set_xlabel(r'$R/R_{200}$')\n",
    "ax.set_ylabel(r'$\\rm{normalised }$ $\\rm{density}$')\n",
    "ax.set_xticks([0.1, 1, 10])\n",
    "ax.set_xticklabels([0.1, 1, 10])\n",
    "P.savefig('pccr_virial_radius_normalised_distribution.pdf')\n"
   ]
  },
  {
   "cell_type": "code",
   "execution_count": null,
   "metadata": {
    "collapsed": false
   },
   "outputs": [],
   "source": [
    "(data['projected cluster centric radius'].to(u.Mpc))/data['virial radius']"
   ]
  },
  {
   "cell_type": "code",
   "execution_count": null,
   "metadata": {
    "collapsed": true
   },
   "outputs": [],
   "source": [
    "from scipy.stats import binned_statistic as b_s"
   ]
  },
  {
   "cell_type": "code",
   "execution_count": null,
   "metadata": {
    "collapsed": false
   },
   "outputs": [],
   "source": [
    "bsd = b_s((data['projected cluster centric radius'].to(u.Mpc))/data['virial radius'], data['t01_smooth_or_features_a02_features_or_disk_debiased'], statistic='mean', bins=logbins, range=(0,15))\n",
    "bsdstd = b_s((data['projected cluster centric radius'].to(u.Mpc))/data['virial radius'], data['t01_smooth_or_features_a02_features_or_disk_debiased'], statistic=N.std, bins=logbins, range=(0,15))\n",
    "y1d = bsd[0] + bsdstd[0]**2\n",
    "y2d = bsd[0] - bsdstd[0]**2"
   ]
  },
  {
   "cell_type": "code",
   "execution_count": null,
   "metadata": {
    "collapsed": false
   },
   "outputs": [],
   "source": [
    "bss = b_s((data['projected cluster centric radius'].to(u.Mpc))/data['virial radius'], data['t01_smooth_or_features_a01_smooth_debiased'], statistic='mean', bins=logbins, range=(0,15))\n",
    "bssstd = b_s((data['projected cluster centric radius'].to(u.Mpc))/data['virial radius'], data['t01_smooth_or_features_a01_smooth_debiased'], statistic=N.std, bins=logbins, range=(0,15))\n",
    "y1s = bss[0] + bssstd[0]**2\n",
    "y2s = bss[0] - bssstd[0]**2"
   ]
  },
  {
   "cell_type": "code",
   "execution_count": null,
   "metadata": {
    "collapsed": true
   },
   "outputs": [],
   "source": [
    "bsur = b_s((data['projected cluster centric radius'].to(u.Mpc))/data['virial radius'], data['MU_MR'], statistic='mean', bins=logbins, range=(0,15))\n",
    "bsurstd = b_s((data['projected cluster centric radius'].to(u.Mpc))/data['virial radius'], data['MU_MR'], statistic=N.std, bins=logbins, range=(0,15))\n",
    "y1ur = bsur[0] + bsurstd[0]**2\n",
    "y2ur = bsur[0] - bsurstd[0]**2"
   ]
  },
  {
   "cell_type": "code",
   "execution_count": null,
   "metadata": {
    "collapsed": false
   },
   "outputs": [],
   "source": [
    "P.figure(figsize=(4,4))\n",
    "ax = P.subplot(111)\n",
    "ax.scatter(bsur[1][:-1] + N.diff(bsur[1])[0]/2, bsur[0], marker='x', color='k')\n",
    "ax.fill_between(bsur[1][:-1] + N.diff(bsur[1])[0]/2, y1ur, y2ur, color='k', alpha=0.15, edgecolor='None')\n",
    "ax.set_xscale('log')\n",
    "ax.minorticks_on()\n",
    "ax.set_xlim(0.09, 15)\n",
    "ax.set_xlabel(r'$R/R_{200}$')\n",
    "ax.set_ylabel(r'$u-r$')\n",
    "ax.set_xticks([0.1, 1, 10])\n",
    "ax.set_xticklabels([0.1, 1, 10])\n",
    "P.savefig('u_r_trend_with_radius.pdf')"
   ]
  },
  {
   "cell_type": "code",
   "execution_count": null,
   "metadata": {
    "collapsed": false
   },
   "outputs": [],
   "source": [
    "dat = data[N.where(data['NUV_U']>-1)]"
   ]
  },
  {
   "cell_type": "code",
   "execution_count": null,
   "metadata": {
    "collapsed": false
   },
   "outputs": [],
   "source": [
    "bsnuv = b_s((dat['projected cluster centric radius'].to(u.Mpc))/dat['virial radius'], N.nan_to_num(dat['NUV_U']), statistic='mean', bins=logbins, range=(0,15))\n",
    "bsnuvstd = b_s((dat['projected cluster centric radius'].to(u.Mpc))/dat['virial radius'], N.nan_to_num(dat['NUV_U']), statistic=N.var, bins=logbins, range=(0,15))\n",
    "y1nuv = bsnuv[0] + bsnuvstd[0]**2\n",
    "y2nuv = bsnuv[0] - bsnuvstd[0]**2"
   ]
  },
  {
   "cell_type": "code",
   "execution_count": null,
   "metadata": {
    "collapsed": false
   },
   "outputs": [],
   "source": [
    "P.figure(figsize=(4,4))\n",
    "ax = P.subplot(111)\n",
    "ax.scatter(bsnuv[1][:-1] + N.diff(bsnuv[1])[0]/2, bsnuv[0], marker='x', color='k')\n",
    "ax.fill_between(bsnuv[1][:-1] + N.diff(bsnuv[1])[0]/2, y1nuv, y2nuv, color='k', alpha=0.15, edgecolor='None')\n",
    "ax.set_xscale('log')\n",
    "ax.minorticks_on()\n",
    "ax.set_xlim(0.09, 15)\n",
    "ax.set_xlabel(r'$R/R_{200}$')\n",
    "ax.set_ylabel(r'$NUV-u$')\n",
    "ax.set_xticks([0.1, 1, 10])\n",
    "ax.set_xticklabels([0.1, 1, 10])\n",
    "P.savefig('nuv_u_trend_with_radius.pdf')"
   ]
  },
  {
   "cell_type": "code",
   "execution_count": null,
   "metadata": {
    "collapsed": false
   },
   "outputs": [],
   "source": [
    "P.figure(figsize=(4,4))\n",
    "ax = P.subplot(111)\n",
    "ax.scatter(bsd[1][:-1] + N.diff(bsd[1])[0]/2, bsd[0], marker='x', color='k')\n",
    "ax.fill_between(bsd[1][:-1] + N.diff(bsd[1])[0]/2, y1d, y2d, color='k', alpha=0.15, edgecolor='None')\n",
    "ax.set_xscale('log')\n",
    "ax.minorticks_on()\n",
    "ax.set_xlim(0.09, 15)\n",
    "ax.set_xlabel(r'$R/R_{200}$')\n",
    "ax.set_ylabel(r'$p_{\\rm{disc}}$')\n",
    "ax.set_xticks([0.1, 1, 10])\n",
    "ax.set_xticklabels([0.1, 1, 10])\n",
    "P.savefig('p_disc_trend_with_log_radius.pdf')"
   ]
  },
  {
   "cell_type": "code",
   "execution_count": null,
   "metadata": {
    "collapsed": false
   },
   "outputs": [],
   "source": [
    "P.figure(figsize=(4,4))\n",
    "ax = P.subplot(111)\n",
    "ax.scatter(bss[1][:-1] + N.diff(bss[1])[0]/2, bss[0], marker='x', color='k')\n",
    "ax.fill_between(bss[1][:-1] + N.diff(bss[1])[0]/2, y1s, y2s, color='k', alpha=0.15, edgecolor='None')\n",
    "ax.set_xscale('log')\n",
    "ax.minorticks_on()\n",
    "ax.set_xlim(0.09, 15)\n",
    "ax.set_xlabel(r'$R/R_{200}$')\n",
    "ax.set_ylabel(r'$p_{\\rm{smooth}}$')\n",
    "ax.set_xticks([0.1, 1, 10])\n",
    "ax.set_xticklabels([0.1, 1, 10])\n",
    "P.savefig('p_smooth_trend_with_log_radius.pdf')"
   ]
  },
  {
   "cell_type": "code",
   "execution_count": null,
   "metadata": {
    "collapsed": true
   },
   "outputs": [],
   "source": [
    "bsb = b_s((sat['projected cluster centric radius'].to(u.Mpc))/sat['virial radius'], sat['t03_bar_a06_bar_debiased'], statistic='mean', bins=logbins, range=(0,15))\n",
    "bsbstd = b_s((sat['projected cluster centric radius'].to(u.Mpc))/sat['virial radius'], sat['t03_bar_a06_bar_debiased'], statistic=N.std, bins=logbins, range=(0,15))\n",
    "y1b = bsb[0] + bsbstd[0]**2\n",
    "y2b = bsb[0] - bsbstd[0]**2"
   ]
  },
  {
   "cell_type": "code",
   "execution_count": null,
   "metadata": {
    "collapsed": false
   },
   "outputs": [],
   "source": [
    "P.figure(figsize=(4,4))\n",
    "ax = P.subplot(111)\n",
    "ax.scatter(bsb[1][:-1] + N.diff(bsb[1])[0]/2, bsb[0], marker='x', color='k')\n",
    "ax.fill_between(bsb[1][:-1] + N.diff(bsb[1])[0]/2, y1b, y2b, color='k', alpha=0.15, edgecolor='None')\n",
    "ax.set_xscale('log')\n",
    "ax.minorticks_on()\n",
    "ax.set_xlim(0.09, 15)\n",
    "ax.set_xlabel(r'$R/R_{200}$')\n",
    "ax.set_ylabel(r'$p_{\\rm{bar}}$')\n",
    "ax.set_xticks([0.1, 1, 10])\n",
    "ax.set_xticklabels([0.1, 1, 10])\n",
    "P.savefig('p_bar_trend_with_log_radius.pdf')"
   ]
  },
  {
   "cell_type": "code",
   "execution_count": null,
   "metadata": {
    "collapsed": false
   },
   "outputs": [],
   "source": [
    "bso = b_s((sat['projected cluster centric radius'].to(u.Mpc))/sat['virial radius'], sat['t06_odd_a14_yes_debiased'], statistic='median', bins=logbins, range=(0,15))"
   ]
  },
  {
   "cell_type": "code",
   "execution_count": null,
   "metadata": {
    "collapsed": true
   },
   "outputs": [],
   "source": [
    "bsostd = b_s((sat['projected cluster centric radius'].to(u.Mpc))/sat['virial radius'], sat['t06_odd_a14_yes_debiased'], statistic=N.std, bins=logbins, range=(0,15))"
   ]
  },
  {
   "cell_type": "code",
   "execution_count": null,
   "metadata": {
    "collapsed": true
   },
   "outputs": [],
   "source": [
    "y1o = bso[0] + bsostd[0]**2\n",
    "y2o = bso[0] - bsostd[0]**2"
   ]
  },
  {
   "cell_type": "code",
   "execution_count": null,
   "metadata": {
    "collapsed": false
   },
   "outputs": [],
   "source": [
    "P.figure(figsize=(4,4))\n",
    "ax = P.subplot(111)\n",
    "ax.scatter(bso[1][:-1] + N.diff(bso[1])[0]/2, bso[0], marker='x', color='k')\n",
    "ax.fill_between(bso[1][:-1] + N.diff(bso[1])[0]/2, y1o, y2o, color='k', alpha=0.15, edgecolor='None')\n",
    "ax.set_xscale('log')\n",
    "ax.minorticks_on()\n",
    "ax.set_xlim(0.09, 15)\n",
    "ax.set_xlabel(r'$R/R_{200}$')\n",
    "ax.set_ylabel(r'$p_{\\rm{odd}}$')\n",
    "ax.set_xticks([0.1, 1, 10])\n",
    "ax.set_xticklabels([0.1, 1, 10])\n",
    "P.savefig('p_odd_trend_with_log_radius.pdf')"
   ]
  },
  {
   "cell_type": "code",
   "execution_count": null,
   "metadata": {
    "collapsed": false
   },
   "outputs": [],
   "source": [
    "idxrs = N.digitize((data['projected cluster centric radius'].to(u.Mpc))/data['virial radius'], logbins)\n",
    "frac_d = [len(data['t01_smooth_or_features_a02_features_or_disk_debiased'][idxrs==k][data['t01_smooth_or_features_a02_features_or_disk_debiased'][idxrs==k]>=0.7])/float(len(data[idxrs==k])+1) for k in range(len(logbins))]\n",
    "frac_s = [len(data['t01_smooth_or_features_a01_smooth_debiased'][idxrs==k][data['t01_smooth_or_features_a01_smooth_debiased'][idxrs==k]>=0.7])/float(len(data[idxrs==k])+1) for k in range(len(logbins))]\n",
    "num_d = [float(len(data['t01_smooth_or_features_a02_features_or_disk_debiased'][idxrs==k][data['t01_smooth_or_features_a02_features_or_disk_debiased'][idxrs==k]>=0.7])) for k in range(len(logbins))]\n",
    "num_s = [float(len(data['t01_smooth_or_features_a01_smooth_debiased'][idxrs==k][data['t01_smooth_or_features_a01_smooth_debiased'][idxrs==k]>=0.7])) for k in range(len(logbins))]\n",
    "num_t = [float(len(data[idxrs==k])+1) for k in range(len(logbins))]\n",
    "error_frac_d = N.nan_to_num(frac_d*N.sqrt((1/N.array(num_d))+(1/N.array(num_t))))\n",
    "error_frac_s = N.nan_to_num(frac_s*N.sqrt((1/N.array(num_s))+(1/N.array(num_t))))\n",
    "\n"
   ]
  },
  {
   "cell_type": "code",
   "execution_count": null,
   "metadata": {
    "collapsed": false
   },
   "outputs": [],
   "source": [
    "len(frac_d)"
   ]
  },
  {
   "cell_type": "code",
   "execution_count": null,
   "metadata": {
    "collapsed": false
   },
   "outputs": [],
   "source": [
    "y1ed = frac_d + error_frac_d\n",
    "y2ed = frac_d - error_frac_d\n",
    "y1es = frac_s + error_frac_s\n",
    "y2es = frac_s - error_frac_s\n",
    "print N.shape(y1ed)\n",
    "print N.shape(bso[1][:-1] + N.diff(bso[1])[0]/2)\n",
    "print error_frac_d"
   ]
  },
  {
   "cell_type": "code",
   "execution_count": null,
   "metadata": {
    "collapsed": false
   },
   "outputs": [],
   "source": [
    "P.figure(figsize=(4,4))\n",
    "ax = P.subplot(111)\n",
    "ax.scatter(bso[1][:-1] + N.diff(bso[1])[0]/2, frac_d[1:], marker='x', color='k')\n",
    "ax.fill_between(bso[1][:-1] + N.diff(bso[1])[0]/2, y1ed[1:], y2ed[1:], color='k', alpha=0.15, edgecolor='None')\n",
    "ax.scatter(bso[1][:-1] + N.diff(bso[1])[0]/2, frac_s[1:], marker='o', color='r')\n",
    "ax.fill_between(bso[1][:-1] + N.diff(bso[1])[0]/2, y1es[1:], y2es[1:], color='r', alpha=0.15, edgecolor='None')\n",
    "ax.set_xscale('log')\n",
    "ax.minorticks_on()\n",
    "ax.set_xlim(0.09, 15)\n",
    "ax.set_xlabel(r'$R/R_{200}$')\n",
    "ax.set_ylabel(r'$\\rm{fraction}$')\n",
    "ax.set_xticks([0.1, 1, 10])\n",
    "ax.set_xticklabels([0.1, 1, 10])\n",
    "P.tight_layout()\n",
    "P.savefig('disc_and_smooth_fraction_trend_with_log_radius.pdf')"
   ]
  },
  {
   "cell_type": "code",
   "execution_count": null,
   "metadata": {
    "collapsed": false
   },
   "outputs": [],
   "source": [
    "idxrs = N.digitize((data['projected cluster centric radius'].to(u.Mpc))/data['virial radius'], logbins)\n",
    "frac_odd = [len(data[data['t06_odd_a14_yes_debiased'][idxrs==k]>=0.4])/float(len(data[idxrs==k])+1) for k in range(len(logbins))]\n",
    "num_odd = [float(len(data[data['t06_odd_a14_yes_debiased'][idxrs==k]>=0.4])) for k in range(len(logbins))]\n",
    "num_t = [float(len(data[idxrs==k])+1) for k in range(len(logbins))]\n",
    "error_frac_odd = N.nan_to_num(frac_odd*N.sqrt((1/N.array(num_odd))+(1/N.array(num_t))))\n",
    "y1eodd = frac_odd + error_frac_odd\n",
    "y2eodd = frac_odd - error_frac_odd"
   ]
  },
  {
   "cell_type": "code",
   "execution_count": null,
   "metadata": {
    "collapsed": false
   },
   "outputs": [],
   "source": [
    "P.figure(figsize=(4,4))\n",
    "ax = P.subplot(111)\n",
    "ax.scatter(bso[1][:-1] + N.diff(bso[1])[0]/2, frac_odd[1:], marker='x', color='k')\n",
    "ax.fill_between(bso[1][:-1] + N.diff(bso[1])[0]/2, y1eodd[1:], y2eodd[1:], color='k', alpha=0.15, edgecolor='None')\n",
    "ax.set_xscale('log')\n",
    "ax.minorticks_on()\n",
    "ax.set_xlim(0.09, 15)\n",
    "ax.set_xlabel(r'$R/R_{200}$')\n",
    "ax.set_ylabel(r'$\\rm{fraction}$')\n",
    "ax.set_xticks([0.1, 1, 10])\n",
    "ax.set_xticklabels([0.1, 1, 10])\n",
    "P.tight_layout()\n",
    "P.savefig('odd_fraction_trend_with_log_radius.pdf')"
   ]
  },
  {
   "cell_type": "code",
   "execution_count": null,
   "metadata": {
    "collapsed": false
   },
   "outputs": [],
   "source": [
    "idxrs = N.digitize((data['projected cluster centric radius'].to(u.Mpc))/data['virial radius'], logbins)\n",
    "frac_m = [len(data[data['t08_odd_feature_a24_merger_debiased'][idxrs==k]>=0.3])/float(len(data[idxrs==k])+1) for k in range(len(logbins))]\n",
    "num_m = [float(len(data[data['t08_odd_feature_a24_merger_debiased'][idxrs==k]>=0.3])) for k in range(len(logbins))]\n",
    "num_t = [float(len(data[idxrs==k])+1) for k in range(len(logbins))]\n",
    "error_frac_m = N.nan_to_num(frac_m*N.sqrt((1/N.array(num_m))+(1/N.array(num_t))))\n",
    "y1em = frac_m + error_frac_m\n",
    "y2em = frac_m - error_frac_m"
   ]
  },
  {
   "cell_type": "code",
   "execution_count": null,
   "metadata": {
    "collapsed": false
   },
   "outputs": [],
   "source": [
    "P.figure(figsize=(4,4))\n",
    "ax = P.subplot(111)\n",
    "ax.scatter(bso[1][:-1] + N.diff(bso[1])[0]/2, frac_m[1:], marker='x', color='k')\n",
    "ax.fill_between(bso[1][:-1] + N.diff(bso[1])[0]/2, y1em[1:], y2em[1:], color='k', alpha=0.15, edgecolor='None')\n",
    "ax.set_xscale('log')\n",
    "ax.minorticks_on()\n",
    "ax.set_xlim(0.09, 15)\n",
    "#ax.set_ylim(0, 0.05)\n",
    "ax.set_xlabel(r'$R/R_{200}$')\n",
    "ax.set_ylabel(r'$\\rm{fraction}$')\n",
    "ax.set_xticks([0.1, 1, 10])\n",
    "ax.set_xticklabels([0.1, 1, 10])\n",
    "P.tight_layout()\n",
    "P.savefig('merger_fraction_trend_with_log_radius.pdf')"
   ]
  },
  {
   "cell_type": "code",
   "execution_count": null,
   "metadata": {
    "collapsed": false
   },
   "outputs": [],
   "source": [
    "idxrs = N.digitize((data['projected cluster centric radius'].to(u.Mpc))/data['virial radius'], logbins)\n",
    "frac_d = [len(data[data['t08_odd_feature_a21_disturbed_debiased'][idxrs==k]>=0.4])/float(len(data[idxrs==k])+1) for k in range(len(logbins))]\n",
    "num_d = [float(len(data[data['t08_odd_feature_a21_disturbed_debiased'][idxrs==k]>=0.4])) for k in range(len(logbins))]\n",
    "num_t = [float(len(data[idxrs==k])+1) for k in range(len(logbins))]\n",
    "error_frac_d = N.nan_to_num(frac_d*N.sqrt((1/N.array(num_d))+(1/N.array(num_t))))\n",
    "y1ed = frac_d + error_frac_d\n",
    "y2ed = frac_d - error_frac_d"
   ]
  },
  {
   "cell_type": "code",
   "execution_count": null,
   "metadata": {
    "collapsed": false
   },
   "outputs": [],
   "source": [
    "P.figure(figsize=(4,4))\n",
    "ax = P.subplot(111)\n",
    "ax.scatter(bso[1][:-1] + N.diff(bso[1])[0]/2, frac_d[1:], marker='x', color='k')\n",
    "ax.fill_between(bso[1][:-1] + N.diff(bso[1])[0]/2, y1ed[1:], y2ed[1:], color='k', alpha=0.15, edgecolor='None')\n",
    "ax.set_xscale('log')\n",
    "ax.minorticks_on()\n",
    "ax.set_xlim(0.09, 15)\n",
    "#ax.set_ylim(0, 0.05)\n",
    "ax.set_xlabel(r'$R/R_{200}$')\n",
    "ax.set_ylabel(r'$\\rm{fraction}$')\n",
    "ax.set_xticks([0.1, 1, 10])\n",
    "ax.set_xticklabels([0.1, 1, 10])\n",
    "P.tight_layout()\n",
    "P.savefig('disturbed_fraction_trend_with_log_radius.pdf')"
   ]
  },
  {
   "cell_type": "code",
   "execution_count": null,
   "metadata": {
    "collapsed": true
   },
   "outputs": [],
   "source": [
    "discs = data[N.where(N.logical_and(data['t01_smooth_or_features_a02_features_or_disk_debiased'] > 0.430, data['t02_edgeon_a05_no_debiased']>0.715, data['t02_edgeon_a05_no_count']>=20))]"
   ]
  },
  {
   "cell_type": "code",
   "execution_count": null,
   "metadata": {
    "collapsed": false
   },
   "outputs": [],
   "source": [
    "idxrs = N.digitize((data['projected cluster centric radius'].to(u.Mpc))/data['virial radius'], logbins)\n",
    "idxds = N.digitize((discs['projected cluster centric radius'].to(u.Mpc))/discs['virial radius'], logbins)\n",
    "frac_b = [len(discs[discs['t03_bar_a06_bar_debiased'][idxds==k]>=0.6])/float(len(discs[idxds==k])+1) for k in range(len(logbins))]\n",
    "num_b = [float(len(discs[data['t03_bar_a06_bar_debiased'][idxds==k]>=0.6])) for k in range(len(logbins))]\n",
    "num_t = [float(len(discs[idxds==k])+1) for k in range(len(logbins))]\n",
    "error_frac_b = N.nan_to_num(frac_b*N.sqrt((1/N.array(num_b))+(1/N.array(num_t))))\n",
    "y1eb = frac_b + error_frac_b\n",
    "y2eb = frac_b - error_frac_b"
   ]
  },
  {
   "cell_type": "code",
   "execution_count": null,
   "metadata": {
    "collapsed": false
   },
   "outputs": [],
   "source": [
    "P.figure(figsize=(4,4))\n",
    "ax = P.subplot(111)\n",
    "ax.scatter(bso[1][:-1] + N.diff(bso[1])[0]/2, frac_b[1:], marker='x', color='k')\n",
    "ax.fill_between(bso[1][:-1] + N.diff(bso[1])[0]/2, y1eb[1:], y2eb[1:], color='k', alpha=0.15, edgecolor='None')\n",
    "ax.set_xscale('log')\n",
    "ax.minorticks_on()\n",
    "ax.set_xlim(0.09, 15)\n",
    "#ax.set_ylim(0, 0.05)\n",
    "ax.set_xlabel(r'$R/R_{200}$')\n",
    "ax.set_ylabel(r'$\\rm{fraction}$')\n",
    "ax.set_xticks([0.1, 1, 10])\n",
    "ax.set_xticklabels([0.1, 1, 10])\n",
    "P.tight_layout()\n",
    "P.savefig('bar_fraction_over_disc_trend_with_log_radius.pdf')"
   ]
  },
  {
   "cell_type": "code",
   "execution_count": null,
   "metadata": {
    "collapsed": true
   },
   "outputs": [],
   "source": [
    "red = data[N.where(data['MU_MR']> data['upper_GV'])]\n",
    "green = data[N.where(N.logical_and(data['MU_MR'] < data['upper_GV'], data['MU_MR'] > data['lower_GV']))]\n",
    "blue = data[N.where(data['MU_MR']< data['lower_GV'])]"
   ]
  },
  {
   "cell_type": "code",
   "execution_count": null,
   "metadata": {
    "collapsed": false
   },
   "outputs": [],
   "source": [
    "print len(red), len(green), len(blue)"
   ]
  },
  {
   "cell_type": "code",
   "execution_count": 896,
   "metadata": {
    "collapsed": false
   },
   "outputs": [
    {
     "name": "stderr",
     "output_type": "stream",
     "text": [
      "/usr/local/lib/python2.7/site-packages/IPython/kernel/__main__.py:8: RuntimeWarning: divide by zero encountered in divide\n",
      "/usr/local/lib/python2.7/site-packages/IPython/kernel/__main__.py:8: RuntimeWarning: invalid value encountered in multiply\n",
      "/usr/local/lib/python2.7/site-packages/IPython/kernel/__main__.py:9: RuntimeWarning: divide by zero encountered in divide\n",
      "/usr/local/lib/python2.7/site-packages/IPython/kernel/__main__.py:9: RuntimeWarning: invalid value encountered in multiply\n"
     ]
    }
   ],
   "source": [
    "idxrs = N.digitize((red['projected cluster centric radius'].to(u.Mpc))/red['virial radius'], logbins)\n",
    "idxs = N.digitize((data['projected cluster centric radius'].to(u.Mpc))/data['virial radius'], logbins)\n",
    "frac_dr = [len(red['t01_smooth_or_features_a02_features_or_disk_debiased'][idxrs==k][red['t01_smooth_or_features_a02_features_or_disk_debiased'][idxrs==k]>=0.7])/float(len(data[idxs==k])+1) for k in range(len(logbins))]\n",
    "frac_sr = [len(red['t01_smooth_or_features_a01_smooth_debiased'][idxrs==k][red['t01_smooth_or_features_a01_smooth_debiased'][idxrs==k]>=0.7])/float(len(data[idxs==k])+1) for k in range(len(logbins))]\n",
    "num_dr = [float(len(red['t01_smooth_or_features_a02_features_or_disk_debiased'][idxrs==k][red['t01_smooth_or_features_a02_features_or_disk_debiased'][idxrs==k]>=0.7])) for k in range(len(logbins))]\n",
    "num_sr = [float(len(red['t01_smooth_or_features_a01_smooth_debiased'][idxrs==k][red['t01_smooth_or_features_a01_smooth_debiased'][idxrs==k]>=0.7])) for k in range(len(logbins))]\n",
    "num_tr = [float(len(data[idxs==k])+1) for k in range(len(logbins))]\n",
    "error_frac_dr = N.nan_to_num(frac_dr*N.sqrt((1/N.array(num_dr))+(1/N.array(num_tr))))\n",
    "error_frac_sr = N.nan_to_num(frac_sr*N.sqrt((1/N.array(num_sr))+(1/N.array(num_tr))))\n",
    "y1edr = frac_dr + error_frac_dr\n",
    "y2edr = frac_dr - error_frac_dr\n",
    "y1esr = frac_sr + error_frac_sr\n",
    "y2esr = frac_sr - error_frac_sr"
   ]
  },
  {
   "cell_type": "code",
   "execution_count": 897,
   "metadata": {
    "collapsed": false
   },
   "outputs": [
    {
     "name": "stderr",
     "output_type": "stream",
     "text": [
      "/usr/local/lib/python2.7/site-packages/IPython/kernel/__main__.py:8: RuntimeWarning: divide by zero encountered in divide\n",
      "/usr/local/lib/python2.7/site-packages/IPython/kernel/__main__.py:8: RuntimeWarning: invalid value encountered in multiply\n",
      "/usr/local/lib/python2.7/site-packages/IPython/kernel/__main__.py:9: RuntimeWarning: divide by zero encountered in divide\n",
      "/usr/local/lib/python2.7/site-packages/IPython/kernel/__main__.py:9: RuntimeWarning: invalid value encountered in multiply\n"
     ]
    }
   ],
   "source": [
    "idxrs = N.digitize((green['projected cluster centric radius'].to(u.Mpc))/green['virial radius'], logbins)\n",
    "idxs = N.digitize((data['projected cluster centric radius'].to(u.Mpc))/data['virial radius'], logbins)\n",
    "frac_dg = [len(green['t01_smooth_or_features_a02_features_or_disk_debiased'][idxrs==k][green['t01_smooth_or_features_a02_features_or_disk_debiased'][idxrs==k]>=0.7])/float(len(data[idxs==k])+1) for k in range(len(logbins))]\n",
    "frac_sg = [len(green['t01_smooth_or_features_a01_smooth_debiased'][idxrs==k][green['t01_smooth_or_features_a01_smooth_debiased'][idxrs==k]>=0.7])/float(len(data[idxs==k])+1) for k in range(len(logbins))]\n",
    "num_dg = [float(len(green['t01_smooth_or_features_a02_features_or_disk_debiased'][idxrs==k][green['t01_smooth_or_features_a02_features_or_disk_debiased'][idxrs==k]>=0.7])) for k in range(len(logbins))]\n",
    "num_sg = [float(len(green['t01_smooth_or_features_a01_smooth_debiased'][idxrs==k][green['t01_smooth_or_features_a01_smooth_debiased'][idxrs==k]>=0.7])) for k in range(len(logbins))]\n",
    "num_tg = [float(len(data[idxs==k])+1) for k in range(len(logbins))]\n",
    "error_frac_dg = N.nan_to_num(frac_dg*N.sqrt((1/N.array(num_dg))+(1/N.array(num_tg))))\n",
    "error_frac_sg = N.nan_to_num(frac_sg*N.sqrt((1/N.array(num_sg))+(1/N.array(num_tg))))\n",
    "y1edg = frac_dg + error_frac_dg\n",
    "y2edg = frac_dg - error_frac_dg\n",
    "y1esg = frac_sg + error_frac_sg\n",
    "y2esg = frac_sg - error_frac_sg"
   ]
  },
  {
   "cell_type": "code",
   "execution_count": 898,
   "metadata": {
    "collapsed": false
   },
   "outputs": [
    {
     "name": "stderr",
     "output_type": "stream",
     "text": [
      "/usr/local/lib/python2.7/site-packages/IPython/kernel/__main__.py:8: RuntimeWarning: divide by zero encountered in divide\n",
      "/usr/local/lib/python2.7/site-packages/IPython/kernel/__main__.py:8: RuntimeWarning: invalid value encountered in multiply\n",
      "/usr/local/lib/python2.7/site-packages/IPython/kernel/__main__.py:9: RuntimeWarning: divide by zero encountered in divide\n",
      "/usr/local/lib/python2.7/site-packages/IPython/kernel/__main__.py:9: RuntimeWarning: invalid value encountered in multiply\n"
     ]
    }
   ],
   "source": [
    "idxrs = N.digitize((blue['projected cluster centric radius'].to(u.Mpc))/blue['virial radius'], logbins)\n",
    "idxs = N.digitize((data['projected cluster centric radius'].to(u.Mpc))/data['virial radius'], logbins)\n",
    "frac_db = [len(blue['t01_smooth_or_features_a02_features_or_disk_debiased'][idxrs==k][blue['t01_smooth_or_features_a02_features_or_disk_debiased'][idxrs==k]>=0.7])/float(len(data[idxs==k])+1) for k in range(len(logbins))]\n",
    "frac_sb = [len(blue['t01_smooth_or_features_a01_smooth_debiased'][idxrs==k][blue['t01_smooth_or_features_a01_smooth_debiased'][idxrs==k]>=0.7])/float(len(data[idxs==k])+1) for k in range(len(logbins))]\n",
    "num_db = [float(len(blue['t01_smooth_or_features_a02_features_or_disk_debiased'][idxrs==k][blue['t01_smooth_or_features_a02_features_or_disk_debiased'][idxrs==k]>=0.7])) for k in range(len(logbins))]\n",
    "num_sb = [float(len(blue['t01_smooth_or_features_a01_smooth_debiased'][idxrs==k][blue['t01_smooth_or_features_a01_smooth_debiased'][idxrs==k]>=0.7])) for k in range(len(logbins))]\n",
    "num_tb = [float(len(data[idxs==k])+1) for k in range(len(logbins))]\n",
    "error_frac_db = N.nan_to_num(frac_db*N.sqrt((1/N.array(num_db))+(1/N.array(num_tb))))\n",
    "error_frac_sb = N.nan_to_num(frac_sb*N.sqrt((1/N.array(num_sb))+(1/N.array(num_tb))))\n",
    "y1edb = frac_db + error_frac_db\n",
    "y2edb = frac_db - error_frac_db\n",
    "y1esb = frac_sb + error_frac_sb\n",
    "y2esb = frac_sb - error_frac_sb"
   ]
  },
  {
   "cell_type": "code",
   "execution_count": 899,
   "metadata": {
    "collapsed": false
   },
   "outputs": [
    {
     "data": {
      "image/png": "[encoded data removed]",
      "text/plain": [
       "<matplotlib.figure.Figure at 0x11e2a6e90>"
      ]
     },
     "metadata": {},
     "output_type": "display_data"
    }
   ],
   "source": [
    "P.figure(figsize=(12,4))\n",
    "ax = P.subplot(131)\n",
    "ax.scatter(bso[1][:-1] + N.diff(bso[1])[0]/2, frac_dr[1:], marker='x', color='k')\n",
    "ax.fill_between(bso[1][:-1] + N.diff(bso[1])[0]/2, y1edr[1:], y2edr[1:], color='k', alpha=0.15, edgecolor='None')\n",
    "ax.scatter(bso[1][:-1] + N.diff(bso[1])[0]/2, frac_sr[1:], marker='o', color='r')\n",
    "ax.fill_between(bso[1][:-1] + N.diff(bso[1])[0]/2, y1esr[1:], y2esr[1:], color='r', alpha=0.15, edgecolor='None')\n",
    "ax.set_xscale('log')\n",
    "ax.minorticks_on()\n",
    "ax.set_xlim(0.09, 15)\n",
    "ax.set_ylim(0)\n",
    "ax.set_xlabel(r'$R/R_{200}$ $[\\rm{Mpc}]$')\n",
    "ax.set_ylabel(r'$\\rm{fraction}$')\n",
    "ax.set_xticks([0.1, 1, 10])\n",
    "ax.set_xticklabels([0.1, 1, 10])\n",
    "ax = P.subplot(132)\n",
    "ax.scatter(bso[1][:-1] + N.diff(bso[1])[0]/2, frac_dg[1:], marker='x', color='k')\n",
    "ax.fill_between(bso[1][:-1] + N.diff(bso[1])[0]/2, y1edg[1:], y2edg[1:], color='k', alpha=0.15, edgecolor='None')\n",
    "ax.scatter(bso[1][:-1] + N.diff(bso[1])[0]/2, frac_sg[1:], marker='o', color='g')\n",
    "ax.fill_between(bso[1][:-1] + N.diff(bso[1])[0]/2, y1esg[1:], y2esg[1:], color='g', alpha=0.15, edgecolor='None')\n",
    "ax.set_xscale('log')\n",
    "ax.minorticks_on()\n",
    "ax.set_xlim(0.09, 15)\n",
    "ax.set_ylim(0)\n",
    "ax.set_xlabel(r'$R/R_{200}$ $[\\rm{Mpc}]$')\n",
    "ax.set_xticks([0.1, 1, 10])\n",
    "ax.set_xticklabels([0.1, 1, 10])\n",
    "ax = P.subplot(133)\n",
    "ax.scatter(bso[1][:-1] + N.diff(bso[1])[0]/2, frac_db[1:], marker='x', color='k')\n",
    "ax.fill_between(bso[1][:-1] + N.diff(bso[1])[0]/2, y1edb[1:], y2edb[1:], color='k', alpha=0.15, edgecolor='None')\n",
    "ax.scatter(bso[1][:-1] + N.diff(bso[1])[0]/2, frac_sb[1:], marker='o', color='b')\n",
    "ax.fill_between(bso[1][:-1] + N.diff(bso[1])[0]/2, y1esb[1:], y2esb[1:], color='b', alpha=0.15, edgecolor='None')\n",
    "ax.set_xscale('log')\n",
    "ax.minorticks_on()\n",
    "ax.set_xlim(0.09, 15)\n",
    "ax.set_ylim(0)\n",
    "ax.set_xlabel(r'$R/R_{200}$ $[\\rm{Mpc}]$')\n",
    "ax.set_xticks([0.1, 1, 10])\n",
    "ax.set_xticklabels([0.1, 1, 10])\n",
    "P.tight_layout()\n",
    "P.savefig('RGB_disc_and_smooth_fraction_over_data_trend_with_log_radius.pdf')"
   ]
  },
  {
   "cell_type": "code",
   "execution_count": 800,
   "metadata": {
    "collapsed": true
   },
   "outputs": [],
   "source": [
    "data = Table.read('mr181920_member_long_groupID_catalog_central_satellites_with_halo_mass_projected_clustercentric_radius_vel_disp_virial_radius.fits', format='fits')"
   ]
  },
  {
   "cell_type": "code",
   "execution_count": 801,
   "metadata": {
    "collapsed": true
   },
   "outputs": [],
   "source": [
    "data = data[N.where(data['number in cluster']>=2)]"
   ]
  },
  {
   "cell_type": "code",
   "execution_count": 802,
   "metadata": {
    "collapsed": true
   },
   "outputs": [],
   "source": [
    "red = data[N.where(data['MU_MR']> data['upper_GV'])]\n",
    "green = data[N.where(N.logical_and(data['MU_MR'] < data['upper_GV'], data['MU_MR'] > data['lower_GV']))]\n",
    "blue = data[N.where(data['MU_MR']< data['lower_GV'])]"
   ]
  },
  {
   "cell_type": "code",
   "execution_count": 900,
   "metadata": {
    "collapsed": false
   },
   "outputs": [
    {
     "name": "stderr",
     "output_type": "stream",
     "text": [
      "/usr/local/lib/python2.7/site-packages/IPython/kernel/__main__.py:6: RuntimeWarning: divide by zero encountered in divide\n",
      "/usr/local/lib/python2.7/site-packages/IPython/kernel/__main__.py:6: RuntimeWarning: invalid value encountered in multiply\n"
     ]
    }
   ],
   "source": [
    "idxrs = N.digitize((red['projected cluster centric radius'].to(u.Mpc))/red['virial radius'], logbins)\n",
    "idxs = N.digitize((data['projected cluster centric radius'].to(u.Mpc))/data['virial radius'], logbins)\n",
    "frac_oddr = [len(red[red['t06_odd_a14_yes_debiased'][idxrs==k]>=0.4])/float(len(data[idxs==k])+1) for k in range(len(logbins))]\n",
    "num_oddr = [float(len(red[red['t06_odd_a14_yes_debiased'][idxrs==k]>=0.4])) for k in range(len(logbins))]\n",
    "num_tr = [float(len(data[idxs==k])+1) for k in range(len(logbins))]\n",
    "error_frac_oddr = N.nan_to_num(frac_oddr*N.sqrt((1/N.array(num_oddr))+(1/N.array(num_tr))))\n",
    "y1eoddr = frac_oddr + error_frac_oddr\n",
    "y2eoddr = frac_oddr - error_frac_oddr"
   ]
  },
  {
   "cell_type": "code",
   "execution_count": 901,
   "metadata": {
    "collapsed": false
   },
   "outputs": [
    {
     "name": "stderr",
     "output_type": "stream",
     "text": [
      "/usr/local/lib/python2.7/site-packages/IPython/kernel/__main__.py:6: RuntimeWarning: divide by zero encountered in divide\n",
      "/usr/local/lib/python2.7/site-packages/IPython/kernel/__main__.py:6: RuntimeWarning: invalid value encountered in multiply\n"
     ]
    }
   ],
   "source": [
    "idxrs = N.digitize((green['projected cluster centric radius'].to(u.Mpc))/green['virial radius'], logbins)\n",
    "idxs = N.digitize((data['projected cluster centric radius'].to(u.Mpc))/data['virial radius'], logbins)\n",
    "frac_oddg = [len(green[green['t06_odd_a14_yes_debiased'][idxrs==k]>=0.4])/float(len(data[idxs==k])+1) for k in range(len(logbins))]\n",
    "num_oddg = [float(len(green[green['t06_odd_a14_yes_debiased'][idxrs==k]>=0.4])) for k in range(len(logbins))]\n",
    "num_tg = [float(len(data[idxs==k])+1) for k in range(len(logbins))]\n",
    "error_frac_oddg = N.nan_to_num(frac_oddg*N.sqrt((1/N.array(num_oddg))+(1/N.array(num_tg))))\n",
    "y1eoddg = frac_oddg + error_frac_oddg\n",
    "y2eoddg = frac_oddg - error_frac_oddg"
   ]
  },
  {
   "cell_type": "code",
   "execution_count": 902,
   "metadata": {
    "collapsed": false
   },
   "outputs": [
    {
     "name": "stderr",
     "output_type": "stream",
     "text": [
      "/usr/local/lib/python2.7/site-packages/IPython/kernel/__main__.py:6: RuntimeWarning: divide by zero encountered in divide\n",
      "/usr/local/lib/python2.7/site-packages/IPython/kernel/__main__.py:6: RuntimeWarning: invalid value encountered in multiply\n"
     ]
    }
   ],
   "source": [
    "idxrs = N.digitize((blue['projected cluster centric radius'].to(u.Mpc))/blue['virial radius'], logbins)\n",
    "idxs = N.digitize((data['projected cluster centric radius'].to(u.Mpc))/data['virial radius'], logbins)\n",
    "frac_oddb = [len(blue[blue['t06_odd_a14_yes_debiased'][idxrs==k]>=0.4])/float(len(data[idxs==k])+1) for k in range(len(logbins))]\n",
    "num_oddb = [float(len(blue[blue['t06_odd_a14_yes_debiased'][idxrs==k]>=0.4])) for k in range(len(logbins))]\n",
    "num_tb = [float(len(data[idxs==k])+1) for k in range(len(logbins))]\n",
    "error_frac_oddb = N.nan_to_num(frac_oddb*N.sqrt((1/N.array(num_oddb))+(1/N.array(num_tb))))\n",
    "y1eoddb = frac_oddb+ error_frac_oddb\n",
    "y2eoddb = frac_oddb - error_frac_oddb"
   ]
  },
  {
   "cell_type": "code",
   "execution_count": 903,
   "metadata": {
    "collapsed": false
   },
   "outputs": [
    {
     "data": {
      "image/png": "[encoded data removed]",
      "text/plain": [
       "<matplotlib.figure.Figure at 0x118f5c890>"
      ]
     },
     "metadata": {},
     "output_type": "display_data"
    }
   ],
   "source": [
    "P.figure(figsize=(12,4))\n",
    "ax = P.subplot(131)\n",
    "ax.scatter(bso[1][:-1] + N.diff(bso[1])[0]/2, frac_oddr[1:], marker='x', color='k')\n",
    "ax.fill_between(bso[1][:-1] + N.diff(bso[1])[0]/2, y1eoddr[1:], y2eoddr[1:], color='k', alpha=0.15, edgecolor='None')\n",
    "ax.set_xscale('log')\n",
    "ax.minorticks_on()\n",
    "ax.set_xlim(0.09, 15)\n",
    "ax.set_ylim(0)\n",
    "ax.set_xlabel(r'$R/R_{200}$')\n",
    "ax.set_ylabel(r'$\\rm{fraction}$')\n",
    "ax.set_xticks([0.1, 1, 10])\n",
    "ax.set_xticklabels([0.1, 1, 10])\n",
    "ax = P.subplot(132)\n",
    "ax.scatter(bso[1][:-1] + N.diff(bso[1])[0]/2, frac_oddg[1:], marker='x', color='k')\n",
    "ax.fill_between(bso[1][:-1] + N.diff(bso[1])[0]/2, y1eoddg[1:], y2eoddg[1:], color='k', alpha=0.15, edgecolor='None')\n",
    "ax.set_xscale('log')\n",
    "ax.minorticks_on()\n",
    "ax.set_xlim(0.09, 15)\n",
    "ax.set_ylim(0)\n",
    "ax.set_xlabel(r'$R/R_{200}$')\n",
    "ax.set_xticks([0.1, 1, 10])\n",
    "ax.set_xticklabels([0.1, 1, 10])\n",
    "ax = P.subplot(133)\n",
    "ax.scatter(bso[1][:-1] + N.diff(bso[1])[0]/2, frac_oddb[1:], marker='x', color='k')\n",
    "ax.fill_between(bso[1][:-1] + N.diff(bso[1])[0]/2, y1eoddb[1:], y2eoddb[1:], color='k', alpha=0.15, edgecolor='None')\n",
    "ax.set_xscale('log')\n",
    "ax.minorticks_on()\n",
    "ax.set_xlim(0.09, 15)\n",
    "ax.set_ylim(0)\n",
    "ax.set_xlabel(r'$R/R_{200}$')\n",
    "ax.set_xticks([0.1, 1, 10])\n",
    "ax.set_xticklabels([0.1, 1, 10])\n",
    "P.tight_layout()\n",
    "P.savefig('RGB_odd_fraction_over_data_trend_with_log_radius.pdf')"
   ]
  },
  {
   "cell_type": "code",
   "execution_count": null,
   "metadata": {
    "collapsed": false
   },
   "outputs": [],
   "source": [
    "N.percentile(data['halo mass'], [33, 66])"
   ]
  },
  {
   "cell_type": "code",
   "execution_count": null,
   "metadata": {
    "collapsed": true
   },
   "outputs": [],
   "source": [
    "high = data[N.where(data['halo mass']> 13)]\n",
    "med = data[N.where(N.logical_and(data['halo mass'] < 13, data['halo mass'] > 12.3))]\n",
    "low = data[N.where(data['halo mass']< 12.3)]"
   ]
  },
  {
   "cell_type": "code",
   "execution_count": null,
   "metadata": {
    "collapsed": false
   },
   "outputs": [],
   "source": [
    "print len(high), len(med), len(low)"
   ]
  },
  {
   "cell_type": "code",
   "execution_count": null,
   "metadata": {
    "collapsed": false
   },
   "outputs": [],
   "source": [
    "N.percentile((sat['projected cluster centric radius'].to(u.Mpc))/sat['virial radius'], [3, 50, 84])"
   ]
  },
  {
   "cell_type": "code",
   "execution_count": null,
   "metadata": {
    "collapsed": false
   },
   "outputs": [],
   "source": [
    "len(sat[N.where((sat['projected cluster centric radius'].to(u.Mpc))/sat['virial radius'] < 1)])/float(len(sat))*100"
   ]
  },
  {
   "cell_type": "code",
   "execution_count": 824,
   "metadata": {
    "collapsed": false
   },
   "outputs": [
    {
     "data": {
      "image/png": "[encoded data removed]",
      "text/plain": [
       "<matplotlib.figure.Figure at 0x11f40f610>"
      ]
     },
     "metadata": {},
     "output_type": "display_data"
    }
   ],
   "source": [
    "P.figure(figsize=(4,4))\n",
    "ax = P.subplot(111)\n",
    "ax.scatter(10**data['halo mass'], data['velocity dispersion'], color='k', marker='x')\n",
    "ax.set_xlabel(r'$M_{\\rm{halo}}$')\n",
    "ax.set_ylabel(r'$\\sigma_{\\rm{x}}$ $[km/s]$')\n",
    "ax.set_xlim(1E11,2E15)\n",
    "ax.set_ylim(10,1000)\n",
    "ax.minorticks_on()\n",
    "ax.set_xscale('log')\n",
    "ax.set_yscale('log')\n",
    "P.tight_layout()\n",
    "P.savefig('halo_mass_versus_sigma.pdf')"
   ]
  },
  {
   "cell_type": "code",
   "execution_count": 833,
   "metadata": {
    "collapsed": true
   },
   "outputs": [],
   "source": [
    "sat = data[N.where(data['central or satellite']==0)]"
   ]
  },
  {
   "cell_type": "code",
   "execution_count": 850,
   "metadata": {
    "collapsed": false
   },
   "outputs": [
    {
     "data": {
      "image/png": "[encoded data removed]",
      "text/plain": [
       "<matplotlib.figure.Figure at 0x11e2dc210>"
      ]
     },
     "metadata": {},
     "output_type": "display_data"
    }
   ],
   "source": [
    "P.figure(figsize=(4,4))\n",
    "ax = P.subplot(111)\n",
    "ax.hist(data['virial radius'], color='k', histtype='step', bins=20)\n",
    "ax.set_xlabel(r'$R_{200}$ $[\\rm{Mpc}]$')\n",
    "ax.set_ylabel(r'$N$')\n",
    "ax.minorticks_on()\n",
    "P.tight_layout()\n",
    "P.savefig('virial_radius_distribution.pdf')"
   ]
  },
  {
   "cell_type": "code",
   "execution_count": 851,
   "metadata": {
    "collapsed": false
   },
   "outputs": [
    {
     "name": "stdout",
     "output_type": "stream",
     "text": [
      "7107 3476 6332\n"
     ]
    }
   ],
   "source": [
    "print len(red), len(green), len(blue)"
   ]
  },
  {
   "cell_type": "code",
   "execution_count": 852,
   "metadata": {
    "collapsed": true
   },
   "outputs": [],
   "source": [
    "rsat = red[N.where(red['central or satellite']==0)]\n",
    "gsat = green[N.where(green['central or satellite']==0)]\n",
    "bsat = blue[N.where(blue['central or satellite']==0)]"
   ]
  },
  {
   "cell_type": "code",
   "execution_count": 853,
   "metadata": {
    "collapsed": false
   },
   "outputs": [
    {
     "name": "stdout",
     "output_type": "stream",
     "text": [
      "4641 2530 5414\n"
     ]
    }
   ],
   "source": [
    "print len(rsat), len(gsat), len(bsat)"
   ]
  },
  {
   "cell_type": "code",
   "execution_count": 854,
   "metadata": {
    "collapsed": false
   },
   "outputs": [
    {
     "data": {
      "image/png": "[encoded data removed]",
      "text/plain": [
       "<matplotlib.figure.Figure at 0x119453990>"
      ]
     },
     "metadata": {},
     "output_type": "display_data"
    }
   ],
   "source": [
    "P.figure(figsize=(4,4))\n",
    "ax = P.subplot(111)\n",
    "ax.hist((rsat['projected cluster centric radius'].to(u.Mpc))/rsat['virial radius'], histtype='step', color='r', bins=logbins, normed=True)\n",
    "ax.hist((gsat['projected cluster centric radius'].to(u.Mpc))/gsat['virial radius'], histtype='step', color='g', bins=logbins, normed=True)\n",
    "ax.hist((bsat['projected cluster centric radius'].to(u.Mpc))/bsat['virial radius'], histtype='step', color='b', bins=logbins, normed=True)\n",
    "ax.set_xscale('log')\n",
    "ax.minorticks_on()\n",
    "ax.set_xlim(0, 15)\n",
    "ax.set_xlabel(r'$R/R_{200}$')\n",
    "ax.set_ylabel(r'$\\rm{normalised }$ $\\rm{density}$')\n",
    "ax.set_xticks([0.1, 1, 10])\n",
    "ax.set_xticklabels([0.1, 1, 10])\n",
    "P.savefig('RGB_pccr_virial_radius_normalised_distribution.pdf')\n"
   ]
  },
  {
   "cell_type": "code",
   "execution_count": 855,
   "metadata": {
    "collapsed": true
   },
   "outputs": [],
   "source": [
    "rcl = red[N.where(red['central or satellite']==1)]\n",
    "gcl = green[N.where(green['central or satellite']==1)]\n",
    "bcl = blue[N.where(blue['central or satellite']==1)]"
   ]
  },
  {
   "cell_type": "code",
   "execution_count": 862,
   "metadata": {
    "collapsed": false
   },
   "outputs": [
    {
     "name": "stdout",
     "output_type": "stream",
     "text": [
      "2466 946 918\n"
     ]
    }
   ],
   "source": [
    "print len(rcl), len(gcl), len(bcl)"
   ]
  },
  {
   "cell_type": "code",
   "execution_count": 871,
   "metadata": {
    "collapsed": false
   },
   "outputs": [
    {
     "data": {
      "image/png": "[encoded data removed]",
      "text/plain": [
       "<matplotlib.figure.Figure at 0x11c456f90>"
      ]
     },
     "metadata": {},
     "output_type": "display_data"
    }
   ],
   "source": [
    "P.figure(figsize=(4,4))\n",
    "ax = P.subplot(111)\n",
    "ax.hist((rcl['velocity dispersion']), histtype='step', color='r', bins=15, range=(0,400))\n",
    "ax.hist((gcl['velocity dispersion']), histtype='step', color='g', bins=15, range=(0,400))\n",
    "ax.hist((bcl['velocity dispersion']), histtype='step', color='b', bins=15, range=(0,400))\n",
    "ax.minorticks_on()\n",
    "ax.set_xlabel(r'$\\sigma$ $[\\rm{km}$ $\\rm{s}^{-1}]$')\n",
    "ax.set_ylabel(r'$\\rm{normalised }$ $\\rm{density}$')\n",
    "P.savefig('RGB_vel_disp_normalised_distribution.pdf')\n"
   ]
  },
  {
   "cell_type": "code",
   "execution_count": 872,
   "metadata": {
    "collapsed": false
   },
   "outputs": [
    {
     "data": {
      "image/png": "[encoded data removed]",
      "text/plain": [
       "<matplotlib.figure.Figure at 0x1170fff50>"
      ]
     },
     "metadata": {},
     "output_type": "display_data"
    }
   ],
   "source": [
    "P.figure(figsize=(4,4))\n",
    "ax = P.subplot(111)\n",
    "ax.hist((rcl['number in cluster']), histtype='step', color='r', bins=15, range=(0, 15), normed=True)\n",
    "ax.hist((gcl['number in cluster']), histtype='step', color='g', bins=15, range=(0, 15), normed=True)\n",
    "ax.hist((bcl['number in cluster']), histtype='step', color='b', bins=15, range=(0, 15), normed=True)\n",
    "ax.minorticks_on()\n",
    "ax.set_xlabel(r'$N_{\\rm{cluster}}$')\n",
    "ax.set_ylabel(r'$\\rm{normalised }$ $\\rm{density}$')\n",
    "P.savefig('RGB_N_cluster_normalised_distribution.pdf')\n"
   ]
  },
  {
   "cell_type": "code",
   "execution_count": 1007,
   "metadata": {
    "collapsed": false
   },
   "outputs": [
    {
     "name": "stderr",
     "output_type": "stream",
     "text": [
      "/usr/local/lib/python2.7/site-packages/IPython/kernel/__main__.py:6: RuntimeWarning: divide by zero encountered in divide\n",
      "/usr/local/lib/python2.7/site-packages/IPython/kernel/__main__.py:6: RuntimeWarning: invalid value encountered in multiply\n"
     ]
    }
   ],
   "source": [
    "idxrs = N.digitize((red['projected cluster centric radius'].to(u.Mpc))/red['virial radius'], logbins)\n",
    "idxs = N.digitize((data['projected cluster centric radius'].to(u.Mpc))/data['virial radius'], logbins)\n",
    "frac_mr = [len(red[red['t08_odd_feature_a24_merger_debiased'][idxrs==k]>=0.4])/float(len(data[idxs==k])+1) for k in range(len(logbins))]\n",
    "num_mr = [float(len(red[red['t08_odd_feature_a24_merger_debiased'][idxrs==k]>=0.4])) for k in range(len(logbins))]\n",
    "num_tr = [float(len(data[idxs==k])+1) for k in range(len(logbins))]\n",
    "error_frac_mr = N.nan_to_num(frac_mr*N.sqrt((1/N.array(num_mr))+(1/N.array(num_tr))))\n",
    "y1emr = frac_mr + error_frac_mr\n",
    "y2emr = frac_mr - error_frac_mr\n",
    "l_frac_mr = map(lambda x,y: str(int(x))+'/'+str(int(y)), num_mr,num_tr) "
   ]
  },
  {
   "cell_type": "code",
   "execution_count": 1008,
   "metadata": {
    "collapsed": false
   },
   "outputs": [
    {
     "name": "stderr",
     "output_type": "stream",
     "text": [
      "/usr/local/lib/python2.7/site-packages/IPython/kernel/__main__.py:6: RuntimeWarning: divide by zero encountered in divide\n",
      "/usr/local/lib/python2.7/site-packages/IPython/kernel/__main__.py:6: RuntimeWarning: invalid value encountered in multiply\n"
     ]
    }
   ],
   "source": [
    "idxrs = N.digitize((green['projected cluster centric radius'].to(u.Mpc))/green['virial radius'], logbins)\n",
    "idxs = N.digitize((data['projected cluster centric radius'].to(u.Mpc))/data['virial radius'], logbins)\n",
    "frac_mg = [len(green[green['t08_odd_feature_a24_merger_debiased'][idxrs==k]>=0.4])/float(len(data[idxs==k])+1) for k in range(len(logbins))]\n",
    "num_mg = [float(len(green[green['t08_odd_feature_a24_merger_debiased'][idxrs==k]>=0.4])) for k in range(len(logbins))]\n",
    "num_tg = [float(len(data[idxs==k])+1) for k in range(len(logbins))]\n",
    "error_frac_mg = N.nan_to_num(frac_mg*N.sqrt((1/N.array(num_mg))+(1/N.array(num_tg))))\n",
    "y1emg = frac_mg + error_frac_mg\n",
    "y2emg = frac_mg - error_frac_mg\n",
    "l_frac_mg = map(lambda x,y: str(int(x))+'/'+str(int(y)), num_mg,num_tg) \n"
   ]
  },
  {
   "cell_type": "code",
   "execution_count": 1009,
   "metadata": {
    "collapsed": false
   },
   "outputs": [
    {
     "name": "stderr",
     "output_type": "stream",
     "text": [
      "/usr/local/lib/python2.7/site-packages/IPython/kernel/__main__.py:6: RuntimeWarning: divide by zero encountered in divide\n",
      "/usr/local/lib/python2.7/site-packages/IPython/kernel/__main__.py:6: RuntimeWarning: invalid value encountered in multiply\n"
     ]
    }
   ],
   "source": [
    "idxrs = N.digitize((blue['projected cluster centric radius'].to(u.Mpc))/blue['virial radius'], logbins)\n",
    "idxs = N.digitize((data['projected cluster centric radius'].to(u.Mpc))/data['virial radius'], logbins)\n",
    "frac_mb = [len(blue[blue['t08_odd_feature_a24_merger_debiased'][idxrs==k]>=0.4])/float(len(data[idxs==k])+1) for k in range(len(logbins))]\n",
    "num_mb = [float(len(blue[blue['t08_odd_feature_a24_merger_debiased'][idxrs==k]>=0.4])) for k in range(len(logbins))]\n",
    "num_tb = [float(len(data[idxs==k])+1) for k in range(len(logbins))]\n",
    "error_frac_mb = N.nan_to_num(frac_mb*N.sqrt((1/N.array(num_mb))+(1/N.array(num_tb))))\n",
    "y1emb = frac_mb + error_frac_mb\n",
    "y2emb = frac_mb - error_frac_mb\n",
    "l_frac_mb = map(lambda x,y: str(int(x))+'/'+str(int(y)), num_mb,num_tb) "
   ]
  },
  {
   "cell_type": "code",
   "execution_count": 1010,
   "metadata": {
    "collapsed": false
   },
   "outputs": [
    {
     "data": {
      "image/png": "[encoded data removed]",
      "text/plain": [
       "<matplotlib.figure.Figure at 0x117cce790>"
      ]
     },
     "metadata": {},
     "output_type": "display_data"
    }
   ],
   "source": [
    "P.figure(figsize=(12,4))\n",
    "ax = P.subplot(131)\n",
    "ax.scatter(bso[1][:-1] + N.diff(bso[1])[0]/2, frac_mr[1:], marker='x', color='k')\n",
    "ax.fill_between(bso[1][:-1] + N.diff(bso[1])[0]/2, y1emr[1:], y2emr[1:], color='k', alpha=0.15, edgecolor='None')\n",
    "for i, txt in enumerate(l_frac_mr[1:]):\n",
    "    ax.annotate(txt, ((bso[1][:-1] + N.diff(bso[1])[0]/2)[i],frac_mr[1:][i]-0.01), fontsize=10)\n",
    "ax.set_xscale('log')\n",
    "ax.minorticks_on()\n",
    "ax.set_xlim(0.09, 15)\n",
    "ax.set_ylim(0)\n",
    "ax.set_xlabel(r'$R/R_{200}$')\n",
    "ax.set_ylabel(r'$\\rm{fraction}$')\n",
    "ax.set_xticks([0.1, 1, 10])\n",
    "ax.set_xticklabels([0.1, 1, 10])\n",
    "ax = P.subplot(132)\n",
    "ax.scatter(bso[1][:-1] + N.diff(bso[1])[0]/2, frac_mg[1:], marker='x', color='k')\n",
    "ax.fill_between(bso[1][:-1] + N.diff(bso[1])[0]/2, y1emg[1:], y2emg[1:], color='k', alpha=0.15, edgecolor='None')\n",
    "for i, txt in enumerate(l_frac_mg[1:]):\n",
    "    ax.annotate(txt, ((bso[1][:-1] + N.diff(bso[1])[0]/2)[i],frac_mg[1:][i]-0.005), fontsize=10)\n",
    "ax.set_xscale('log')\n",
    "ax.minorticks_on()\n",
    "ax.set_xlim(0.09, 15)\n",
    "ax.set_ylim(0)\n",
    "ax.set_xlabel(r'$R/R_{200}$')\n",
    "ax.set_xticks([0.1, 1, 10])\n",
    "ax.set_xticklabels([0.1, 1, 10])\n",
    "ax = P.subplot(133)\n",
    "ax.scatter(bso[1][:-1] + N.diff(bso[1])[0]/2, frac_mb[1:], marker='x', color='k')\n",
    "ax.fill_between(bso[1][:-1] + N.diff(bso[1])[0]/2, y1emb[1:], y2emb[1:], color='k', alpha=0.15, edgecolor='None')\n",
    "for i, txt in enumerate(l_frac_mb[1:]):\n",
    "    ax.annotate(txt, ((bso[1][:-1] + N.diff(bso[1])[0]/2)[i],frac_mb[1:][i]-0.005), fontsize=10)\n",
    "ax.set_xscale('log')\n",
    "ax.minorticks_on()\n",
    "ax.set_xlim(0.09, 15)\n",
    "ax.set_ylim(0)\n",
    "ax.set_xlabel(r'$R/R_{200}$')\n",
    "ax.set_xticks([0.1, 1, 10])\n",
    "ax.set_xticklabels([0.1, 1, 10])\n",
    "P.tight_layout()\n",
    "P.savefig('RGB_merger_fraction_over_data_trend_with_log_radius.pdf')"
   ]
  },
  {
   "cell_type": "code",
   "execution_count": 917,
   "metadata": {
    "collapsed": false
   },
   "outputs": [],
   "source": [
    "discs = data[N.where(N.logical_and(data['t01_smooth_or_features_a02_features_or_disk_debiased'] > 0.430, data['t02_edgeon_a05_no_debiased']>0.715, data['t02_edgeon_a05_no_count']>=20))]\n",
    "redd = discs[N.where(discs['MU_MR']> discs['upper_GV'])]\n",
    "greend = discs[N.where(N.logical_and(discs['MU_MR'] < discs['upper_GV'], discs['MU_MR'] > discs['lower_GV']))]\n",
    "blued = discs[N.where(discs['MU_MR']< discs['lower_GV'])]"
   ]
  },
  {
   "cell_type": "code",
   "execution_count": 1002,
   "metadata": {
    "collapsed": false
   },
   "outputs": [
    {
     "name": "stderr",
     "output_type": "stream",
     "text": [
      "/usr/local/lib/python2.7/site-packages/IPython/kernel/__main__.py:6: RuntimeWarning: divide by zero encountered in divide\n",
      "/usr/local/lib/python2.7/site-packages/IPython/kernel/__main__.py:6: RuntimeWarning: invalid value encountered in multiply\n"
     ]
    }
   ],
   "source": [
    "idxrs = N.digitize((redd['projected cluster centric radius'].to(u.Mpc))/redd['virial radius'], logbins)\n",
    "idxs = N.digitize((discs['projected cluster centric radius'].to(u.Mpc))/discs['virial radius'], logbins)\n",
    "frac_mr = [len(redd[redd['t03_bar_a06_bar_debiased'][idxrs==k]>=0.4])/float(len(discs[idxs==k])+1) for k in range(len(logbins))]\n",
    "num_mr = [float(len(redd[redd['t03_bar_a06_bar_debiased'][idxrs==k]>=0.4])) for k in range(len(logbins))]\n",
    "num_tr = [float(len(discs[idxs==k])+1) for k in range(len(logbins))]\n",
    "error_frac_mr = N.nan_to_num(frac_mr*N.sqrt((1/N.array(num_mr))+(1/N.array(num_tr))))\n",
    "y1emr = frac_mr + error_frac_mr\n",
    "y2emr = frac_mr - error_frac_mr\n",
    "l_frac_mr = map(lambda x,y: str(int(x))+'/'+str(int(y)), num_mr,num_tr) \n"
   ]
  },
  {
   "cell_type": "code",
   "execution_count": 1003,
   "metadata": {
    "collapsed": false
   },
   "outputs": [
    {
     "name": "stderr",
     "output_type": "stream",
     "text": [
      "/usr/local/lib/python2.7/site-packages/IPython/kernel/__main__.py:6: RuntimeWarning: divide by zero encountered in divide\n",
      "/usr/local/lib/python2.7/site-packages/IPython/kernel/__main__.py:6: RuntimeWarning: invalid value encountered in multiply\n"
     ]
    }
   ],
   "source": [
    "idxrs = N.digitize((greend['projected cluster centric radius'].to(u.Mpc))/greend['virial radius'], logbins)\n",
    "idxs = N.digitize((discs['projected cluster centric radius'].to(u.Mpc))/discs['virial radius'], logbins)\n",
    "frac_mg = [len(greend[greend['t03_bar_a06_bar_debiased'][idxrs==k]>=0.4])/float(len(data[idxs==k])+1) for k in range(len(logbins))]\n",
    "num_mg = [float(len(greend[greend['t03_bar_a06_bar_debiased'][idxrs==k]>=0.4])) for k in range(len(logbins))]\n",
    "num_tg = [float(len(discs[idxs==k])+1) for k in range(len(logbins))]\n",
    "error_frac_mg = N.nan_to_num(frac_mg*N.sqrt((1/N.array(num_mg))+(1/N.array(num_tg))))\n",
    "y1emg = frac_mg + error_frac_mg\n",
    "y2emg = frac_mg - error_frac_mg\n",
    "l_frac_mg = map(lambda x,y: str(int(x))+'/'+str(int(y)), num_mg,num_tg) \n"
   ]
  },
  {
   "cell_type": "code",
   "execution_count": 1004,
   "metadata": {
    "collapsed": false
   },
   "outputs": [
    {
     "name": "stderr",
     "output_type": "stream",
     "text": [
      "/usr/local/lib/python2.7/site-packages/IPython/kernel/__main__.py:6: RuntimeWarning: divide by zero encountered in divide\n",
      "/usr/local/lib/python2.7/site-packages/IPython/kernel/__main__.py:6: RuntimeWarning: invalid value encountered in multiply\n"
     ]
    }
   ],
   "source": [
    "idxrs = N.digitize((blued['projected cluster centric radius'].to(u.Mpc))/blued['virial radius'], logbins)\n",
    "idxs = N.digitize((discs['projected cluster centric radius'].to(u.Mpc))/discs['virial radius'], logbins)\n",
    "frac_mb = [len(blued[blued['t03_bar_a06_bar_debiased'][idxrs==k]>=0.4])/float(len(data[idxs==k])+1) for k in range(len(logbins))]\n",
    "num_mb = [float(len(blued[blued['t03_bar_a06_bar_debiased'][idxrs==k]>=0.4])) for k in range(len(logbins))]\n",
    "num_tb = [float(len(discs[idxs==k])+1) for k in range(len(logbins))]\n",
    "error_frac_mb = N.nan_to_num(frac_mb*N.sqrt((1/N.array(num_mb))+(1/N.array(num_tb))))\n",
    "y1emb = frac_mb + error_frac_mb\n",
    "y2emb = frac_mb - error_frac_mb\n",
    "l_frac_mb = map(lambda x,y: str(int(x))+'/'+str(int(y)), num_mb,num_tb) \n"
   ]
  },
  {
   "cell_type": "code",
   "execution_count": 1005,
   "metadata": {
    "collapsed": false
   },
   "outputs": [
    {
     "data": {
      "image/png": "[encoded data removed]",
      "text/plain": [
       "<matplotlib.figure.Figure at 0x117545d50>"
      ]
     },
     "metadata": {},
     "output_type": "display_data"
    }
   ],
   "source": [
    "P.figure(figsize=(12,4))\n",
    "ax = P.subplot(131)\n",
    "ax.scatter(bso[1][:-1] + N.diff(bso[1])[0]/2, frac_mr[1:], marker='x', color='k')\n",
    "ax.fill_between(bso[1][:-1] + N.diff(bso[1])[0]/2, y1emr[1:], y2emr[1:], color='k', alpha=0.15, edgecolor='None')\n",
    "for i, txt in enumerate(l_frac_mr[1:]):\n",
    "    ax.annotate(txt, ((bso[1][:-1] + N.diff(bso[1])[0]/2)[i],frac_mr[1:][i]-0.01), fontsize=10)\n",
    "ax.set_xscale('log')\n",
    "ax.minorticks_on()\n",
    "ax.set_xlim(0.09, 15)\n",
    "ax.set_ylim(0)\n",
    "ax.set_xlabel(r'$R/R_{200}$')\n",
    "ax.set_ylabel(r'$\\rm{fraction}$')\n",
    "ax.set_xticks([0.1, 1, 10])\n",
    "ax.set_xticklabels([0.1, 1, 10])\n",
    "ax = P.subplot(132)\n",
    "ax.scatter(bso[1][:-1] + N.diff(bso[1])[0]/2, frac_mg[1:], marker='x', color='k')\n",
    "ax.fill_between(bso[1][:-1] + N.diff(bso[1])[0]/2, y1emg[1:], y2emg[1:], color='k', alpha=0.15, edgecolor='None')\n",
    "for i, txt in enumerate(l_frac_mg[1:]):\n",
    "    ax.annotate(txt, ((bso[1][:-1] + N.diff(bso[1])[0]/2)[i],frac_mg[1:][i]-0.01), fontsize=10)\n",
    "ax.set_xscale('log')\n",
    "ax.minorticks_on()\n",
    "ax.set_xlim(0.09, 15)\n",
    "ax.set_ylim(0)\n",
    "ax.set_xlabel(r'$R/R_{200}$')\n",
    "ax.set_xticks([0.1, 1, 10])\n",
    "ax.set_xticklabels([0.1, 1, 10])\n",
    "ax = P.subplot(133)\n",
    "ax.scatter(bso[1][:-1] + N.diff(bso[1])[0]/2, frac_mb[1:], marker='x', color='k')\n",
    "ax.fill_between(bso[1][:-1] + N.diff(bso[1])[0]/2, y1emb[1:], y2emb[1:], color='k', alpha=0.15, edgecolor='None')\n",
    "for i, txt in enumerate(l_frac_mb[1:]):\n",
    "    ax.annotate(txt, ((bso[1][:-1] + N.diff(bso[1])[0]/2)[i],frac_mb[1:][i]-0.02), fontsize=10)\n",
    "ax.set_xscale('log')\n",
    "ax.minorticks_on()\n",
    "ax.set_xlim(0.09, 15)\n",
    "ax.set_ylim(0)\n",
    "ax.set_xlabel(r'$R/R_{200}$')\n",
    "ax.set_xticks([0.1, 1, 10])\n",
    "ax.set_xticklabels([0.1, 1, 10])\n",
    "P.tight_layout()\n",
    "P.savefig('RGB_bar_fraction_over_discs_trend_with_log_radius.pdf')"
   ]
  },
  {
   "cell_type": "code",
   "execution_count": 922,
   "metadata": {
    "collapsed": false
   },
   "outputs": [
    {
     "data": {
      "text/plain": [
       "(array([  543.,  2309.,  2278.,  2675.,  1729.,  2299.,  1548.,  1457.,\n",
       "         1273.,   804.]),\n",
       " array([ 0.01513,  0.02339,  0.03164,  0.0399 ,  0.04815,  0.05641,\n",
       "         0.06466,  0.07292,  0.08117,  0.08943,  0.09768]),\n",
       " <a list of 1 Patch objects>)"
      ]
     },
     "execution_count": 922,
     "metadata": {},
     "output_type": "execute_result"
    },
    {
     "data": {
      "image/png": "[encoded data removed]",
      "text/plain": [
       "<matplotlib.figure.Figure at 0x11bfe9150>"
      ]
     },
     "metadata": {},
     "output_type": "display_data"
    }
   ],
   "source": [
    "P.figure()\n",
    "P.hist(data['z'], histtype='step', color='k')"
   ]
  },
  {
   "cell_type": "code",
   "execution_count": 923,
   "metadata": {
    "collapsed": false
   },
   "outputs": [
    {
     "data": {
      "text/latex": [
       "$12.548271 \\; \\mathrm{Gyr}$"
      ],
      "text/plain": [
       "<Quantity 12.54827099703802 Gyr>"
      ]
     },
     "execution_count": 923,
     "metadata": {},
     "output_type": "execute_result"
    }
   ],
   "source": [
    "cosmo.age(N.max(data['z']))"
   ]
  },
  {
   "cell_type": "code",
   "execution_count": 924,
   "metadata": {
    "collapsed": false
   },
   "outputs": [
    {
     "data": {
      "text/latex": [
       "$13.600914 \\; \\mathrm{Gyr}$"
      ],
      "text/plain": [
       "<Quantity 13.600914123744644 Gyr>"
      ]
     },
     "execution_count": 924,
     "metadata": {},
     "output_type": "execute_result"
    }
   ],
   "source": [
    "cosmo.age(N.min(data['z']))"
   ]
  },
  {
   "cell_type": "code",
   "execution_count": 925,
   "metadata": {
    "collapsed": false
   },
   "outputs": [
    {
     "data": {
      "text/plain": [
       "2.3373805915939214"
      ]
     },
     "execution_count": 925,
     "metadata": {},
     "output_type": "execute_result"
    }
   ],
   "source": [
    "N.mean(data['upper_GV'])"
   ]
  },
  {
   "cell_type": "code",
   "execution_count": 926,
   "metadata": {
    "collapsed": false
   },
   "outputs": [
    {
     "data": {
      "text/plain": [
       "2.0813805915939212"
      ]
     },
     "execution_count": 926,
     "metadata": {},
     "output_type": "execute_result"
    }
   ],
   "source": [
    "N.mean(data['lower_GV'])"
   ]
  },
  {
   "cell_type": "code",
   "execution_count": 982,
   "metadata": {
    "collapsed": false
   },
   "outputs": [
    {
     "name": "stderr",
     "output_type": "stream",
     "text": [
      "/usr/local/lib/python2.7/site-packages/IPython/kernel/__main__.py:6: RuntimeWarning: divide by zero encountered in divide\n",
      "/usr/local/lib/python2.7/site-packages/IPython/kernel/__main__.py:6: RuntimeWarning: invalid value encountered in multiply\n",
      "/usr/local/lib/python2.7/site-packages/IPython/kernel/__main__.py:11: RuntimeWarning: divide by zero encountered in divide\n",
      "/usr/local/lib/python2.7/site-packages/IPython/kernel/__main__.py:11: RuntimeWarning: invalid value encountered in multiply\n",
      "/usr/local/lib/python2.7/site-packages/IPython/kernel/__main__.py:16: RuntimeWarning: divide by zero encountered in divide\n",
      "/usr/local/lib/python2.7/site-packages/IPython/kernel/__main__.py:16: RuntimeWarning: invalid value encountered in multiply\n",
      "/usr/local/lib/python2.7/site-packages/IPython/kernel/__main__.py:21: RuntimeWarning: divide by zero encountered in divide\n",
      "/usr/local/lib/python2.7/site-packages/IPython/kernel/__main__.py:21: RuntimeWarning: invalid value encountered in multiply\n",
      "/usr/local/lib/python2.7/site-packages/IPython/kernel/__main__.py:26: RuntimeWarning: divide by zero encountered in divide\n",
      "/usr/local/lib/python2.7/site-packages/IPython/kernel/__main__.py:26: RuntimeWarning: invalid value encountered in multiply\n",
      "/usr/local/lib/python2.7/site-packages/IPython/kernel/__main__.py:32: RuntimeWarning: divide by zero encountered in divide\n",
      "/usr/local/lib/python2.7/site-packages/IPython/kernel/__main__.py:32: RuntimeWarning: invalid value encountered in multiply\n"
     ]
    }
   ],
   "source": [
    "lim = 0.5\n",
    "idxs = N.digitize((discs['projected cluster centric radius'].to(u.Mpc))/discs['virial radius'], logbins)\n",
    "num_t = [float(len(data[idxs==k])+1) for k in range(len(logbins))]\n",
    "frac_nb = [len(discs[discs['t05_bulge_prominence_a10_no_bulge_debiased'][idxs==k]>=lim])/float(len(discs[idxs==k])+1) for k in range(len(logbins))]\n",
    "num_nb = [float(len(discs[discs['t05_bulge_prominence_a10_no_bulge_debiased'][idxs==k]>=lim])) for k in range(len(logbins))]\n",
    "error_frac_nb = N.nan_to_num(frac_nb*N.sqrt((1/N.array(num_nb))+(1/N.array(num_t))))\n",
    "y1enb = frac_nb + error_frac_nb\n",
    "y2enb = frac_nb - error_frac_nb\n",
    "frac_jnb = [len(discs[discs['t05_bulge_prominence_a11_just_noticeable_debiased'][idxs==k]>=lim])/float(len(discs[idxs==k])+1) for k in range(len(logbins))]\n",
    "num_jnb = [float(len(discs[discs['t05_bulge_prominence_a11_just_noticeable_debiased'][idxs==k]>=lim])) for k in range(len(logbins))]\n",
    "error_frac_jnb = N.nan_to_num(frac_jnb*N.sqrt((1/N.array(num_jnb))+(1/N.array(num_t))))\n",
    "y1ejnb = frac_jnb + error_frac_jnb\n",
    "y2ejnb = frac_jnb - error_frac_jnb\n",
    "frac_ob = [len(discs[discs['t05_bulge_prominence_a12_obvious_debiased'][idxs==k]>=lim])/float(len(discs[idxs==k])+1) for k in range(len(logbins))]\n",
    "num_ob = [float(len(discs[discs['t05_bulge_prominence_a12_obvious_debiased'][idxs==k]>=lim])) for k in range(len(logbins))]\n",
    "error_frac_ob = N.nan_to_num(frac_ob*N.sqrt((1/N.array(num_ob))+(1/N.array(num_t))))\n",
    "y1eob = frac_ob + error_frac_ob\n",
    "y2eob = frac_ob - error_frac_ob\n",
    "frac_db = [len(discs[discs['t05_bulge_prominence_a13_dominant_debiased'][idxs==k]>=lim])/float(len(discs[idxs==k])+1) for k in range(len(logbins))]\n",
    "num_db = [float(len(discs[discs['t05_bulge_prominence_a13_dominant_debiased'][idxs==k]>=lim])) for k in range(len(logbins))]\n",
    "error_frac_db = N.nan_to_num(frac_db*N.sqrt((1/N.array(num_db))+(1/N.array(num_t))))\n",
    "y1edb = frac_db + error_frac_db\n",
    "y2edb = frac_db - error_frac_db\n",
    "frac_minb = [(len(discs[discs['t05_bulge_prominence_a10_no_bulge_debiased'][idxs==k]>=lim])+len(discs[discs['t05_bulge_prominence_a11_just_noticeable_debiased'][idxs==k]>=lim]))/float(len(discs[idxs==k])+1) for k in range(len(logbins))]\n",
    "num_minb = [float(len(discs[discs['t05_bulge_prominence_a10_no_bulge_debiased'][idxs==k]>=lim])+len(discs[discs['t05_bulge_prominence_a11_just_noticeable_debiased'][idxs==k]>=lim])) for k in range(len(logbins))]\n",
    "error_frac_minb = N.nan_to_num(frac_minb*N.sqrt((1/N.array(num_minb))+(1/N.array(num_t))))\n",
    "l_frac_minb = map(lambda x,y: str(int(x))+'/'+str(int(y)), num_minb,num_t) \n",
    "y1eminb = frac_minb + error_frac_minb\n",
    "y2eminb = frac_minb - error_frac_minb\n",
    "frac_maxb = [(len(discs[discs['t05_bulge_prominence_a12_obvious_debiased'][idxs==k]>=lim])+len(discs[discs['t05_bulge_prominence_a13_dominant_debiased'][idxs==k]>=lim]))/float(len(discs[idxs==k])+1) for k in range(len(logbins))]\n",
    "num_maxb = [float(len(discs[discs['t05_bulge_prominence_a12_obvious_debiased'][idxs==k]>=lim])+len(discs[discs['t05_bulge_prominence_a13_dominant_debiased'][idxs==k]>=lim])) for k in range(len(logbins))]\n",
    "error_frac_maxb = N.nan_to_num(frac_maxb*N.sqrt((1/N.array(num_maxb))+(1/N.array(num_t))))\n",
    "l_frac_maxb = map(lambda x,y: str(int(x))+'/'+str(int(y)), num_maxb,num_t) \n",
    "y1emaxb = frac_maxb + error_frac_maxb\n",
    "y2emaxb = frac_maxb - error_frac_maxb"
   ]
  },
  {
   "cell_type": "code",
   "execution_count": 955,
   "metadata": {
    "collapsed": false
   },
   "outputs": [
    {
     "name": "stdout",
     "output_type": "stream",
     "text": [
      "[0.0, 0.4818791946308725, 0.4805194805194805, 0.3858520900321543, 0.4402332361516035, 0.3769230769230769, 0.33890374331550804, 0.3278236914600551, 0.3321256038647343, 0.27807486631016043, 0.35294117647058826, 0.26548672566371684, 0.34328358208955223, 0.2391304347826087]\n",
      "[ 0.       0.02189  0.0555   0.04147  0.04299  0.03648  0.01742  0.01549\n",
      "  0.02312  0.03083  0.04838  0.05453  0.08296  0.08026]\n",
      "[ 0.       0.50377  0.53601  0.42732  0.48323  0.4134   0.35632  0.34331\n",
      "  0.35524  0.3089   0.40132  0.32001  0.42624  0.31939]\n"
     ]
    }
   ],
   "source": [
    "print frac_ob\n",
    "print error_frac_ob\n",
    "print y1eob"
   ]
  },
  {
   "cell_type": "code",
   "execution_count": 956,
   "metadata": {
    "collapsed": true
   },
   "outputs": [],
   "source": [
    "P.rc('font', size=14)"
   ]
  },
  {
   "cell_type": "code",
   "execution_count": 957,
   "metadata": {
    "collapsed": false
   },
   "outputs": [
    {
     "data": {
      "image/png": "[encoded data removed]",
      "text/plain": [
       "<matplotlib.figure.Figure at 0x1196240d0>"
      ]
     },
     "metadata": {},
     "output_type": "display_data"
    }
   ],
   "source": [
    "P.figure(figsize=(16,4))\n",
    "ax = P.subplot(141)\n",
    "ax.scatter(bso[1][:-1] + N.diff(bso[1])[0]/2, frac_nb[1:], marker='x', s=40, color='k', label=r'$\\rm{no}$ $\\rm{bulge}$')\n",
    "ax.fill_between(bso[1][:-1] + N.diff(bso[1])[0]/2, y1enb[1:], y2enb[1:], color='k', alpha=0.15, edgecolor='None')\n",
    "ax.set_xscale('log')\n",
    "ax.minorticks_on()\n",
    "ax.set_xlim(0.09, 15)\n",
    "ax.set_ylim(0)\n",
    "ax.set_xlabel(r'$R/R_{200}$')\n",
    "ax.set_ylabel(r'$\\rm{fraction}$')\n",
    "ax.set_xticks([0.1, 1, 10])\n",
    "ax.set_xticklabels([0.1, 1, 10])\n",
    "ax.legend(frameon=False)\n",
    "ax = P.subplot(142)\n",
    "ax.scatter(bso[1][:-1] + N.diff(bso[1])[0]/2, frac_jnb[1:], marker='+', s=40,color='k', label=r'$\\rm{just}$ $\\rm{noticeable}$ $\\rm{bulge}$')\n",
    "ax.fill_between(bso[1][:-1] + N.diff(bso[1])[0]/2, y1ejnb[1:], y2ejnb[1:], color='k', alpha=0.15, edgecolor='None')\n",
    "ax.set_xscale('log')\n",
    "ax.minorticks_on()\n",
    "ax.set_xlim(0.09, 15)\n",
    "#ax.set_ylim(0)\n",
    "ax.set_xlabel(r'$R/R_{200}$')\n",
    "ax.set_xticks([0.1, 1, 10])\n",
    "ax.set_xticklabels([0.1, 1, 10])\n",
    "ax.legend(frameon=False)\n",
    "ax = P.subplot(143)\n",
    "ax.scatter(bso[1][:-1] + N.diff(bso[1])[0]/2, frac_ob[1:], marker='^', s=40,color='k',  label=r'$\\rm{obvious}$ $\\rm{bulge}$')\n",
    "ax.fill_between(bso[1][:-1] + N.diff(bso[1])[0]/2, y1eob[1:], y2eob[1:], color='k', alpha=0.15, edgecolor='None')\n",
    "ax.set_xscale('log')\n",
    "ax.minorticks_on()\n",
    "ax.set_xlim(0.09, 15)\n",
    "#ax.set_ylim(0)\n",
    "ax.set_xlabel(r'$R/R_{200}$')\n",
    "ax.set_xticks([0.1, 1, 10])\n",
    "ax.set_xticklabels([0.1, 1, 10])\n",
    "ax.legend(frameon=False)\n",
    "ax = P.subplot(144)\n",
    "ax.scatter(bso[1][:-1] + N.diff(bso[1])[0]/2, frac_db[1:], marker='o', s=40,color='k',  label=r'$\\rm{dominant}$ $\\rm{bulge}$')\n",
    "ax.fill_between(bso[1][:-1] + N.diff(bso[1])[0]/2, y1edb[1:], y2edb[1:], color='k', alpha=0.15, edgecolor='None')\n",
    "ax.set_xscale('log')\n",
    "ax.minorticks_on()\n",
    "ax.set_xlim(0.09, 15)\n",
    "ax.set_ylim(0)\n",
    "ax.set_xlabel(r'$R/R_{200}$')\n",
    "ax.set_xticks([0.1, 1, 10])\n",
    "ax.set_xticklabels([0.1, 1, 10])\n",
    "ax.legend(frameon=False)\n",
    "P.tight_layout()\n",
    "P.savefig('bulge_fractions_over_disc_trend_with_log_radius.pdf')"
   ]
  },
  {
   "cell_type": "code",
   "execution_count": 990,
   "metadata": {
    "collapsed": false
   },
   "outputs": [
    {
     "data": {
      "image/png": "[encoded data removed]",
      "text/plain": [
       "<matplotlib.figure.Figure at 0x117532390>"
      ]
     },
     "metadata": {},
     "output_type": "display_data"
    }
   ],
   "source": [
    "P.figure(figsize=(12,6))\n",
    "ax = P.subplot(121)\n",
    "ax.scatter(bso[1][:-1] + N.diff(bso[1])[0]/2, frac_minb[1:], marker='x', s=40, color='k', label=r'$\\rm{none}/\\rm{just}$ $\\rm{noticeable}$ $\\rm{bulge}$')\n",
    "ax.fill_between(bso[1][:-1] + N.diff(bso[1])[0]/2, y1eminb[1:], y2eminb[1:], color='k', alpha=0.15, edgecolor='None')\n",
    "for i, txt in enumerate(l_frac_minb[1:]):\n",
    "    ax.annotate(txt, ((bso[1][:-1] + N.diff(bso[1])[0]/2)[i],frac_minb[1:][i]-0.02), fontsize=10)\n",
    "ax.set_xscale('log')\n",
    "ax.minorticks_on()\n",
    "ax.set_xlim(0.09, 15)\n",
    "#ax.set_ylim(0, 0.05)\n",
    "ax.set_xlabel(r'$R/R_{200}$')\n",
    "ax.set_ylabel(r'$\\rm{fraction}$')\n",
    "ax.set_xticks([0.1, 1, 10])\n",
    "ax.set_xticklabels([0.1, 1, 10])\n",
    "ax.legend(frameon=False)\n",
    "ax = P.subplot(122)\n",
    "ax.scatter(bso[1][:-1] + N.diff(bso[1])[0]/2, frac_maxb[1:], marker='o', s=40, color='r', label=r'$\\rm{obvious}/\\rm{dominant}$ $\\rm{bulge}$')\n",
    "ax.fill_between(bso[1][:-1] + N.diff(bso[1])[0]/2, y1emaxb[1:], y2emaxb[1:], color='r', alpha=0.15, edgecolor='None')\n",
    "for i, txt in enumerate(l_frac_maxb[1:]):\n",
    "    ax.annotate(txt, ((bso[1][:-1] + N.diff(bso[1])[0]/2)[i],frac_maxb[1:][i]-0.02), fontsize=10, color='r')\n",
    "ax.set_xscale('log')\n",
    "ax.minorticks_on()\n",
    "ax.set_xlim(0.09, 15)\n",
    "#ax.set_ylim(0, 0.05)\n",
    "ax.set_xlabel(r'$R/R_{200}$')\n",
    "ax.set_ylabel(r'$\\rm{fraction}$')\n",
    "ax.set_xticks([0.1, 1, 10])\n",
    "ax.set_xticklabels([0.1, 1, 10])\n",
    "ax.legend(frameon=False)\n",
    "P.tight_layout()\n",
    "P.savefig('min_max_bulge_fraction_trend_with_log_radius.pdf')"
   ]
  },
  {
   "cell_type": "code",
   "execution_count": 1013,
   "metadata": {
    "collapsed": true
   },
   "outputs": [],
   "source": [
    "data = Table.read('mr181920_member_long_groupID_catalog_central_satellites_with_halo_mass_projected_clustercentric_radius_vel_disp_virial_radius.fits', format='fits')\n",
    "f = open('berlind_catalog_ra_dec.txt', 'a')\n",
    "for n in range(len(data)):\n",
    "    f.write(str(data['dr7objid'][n])+' '+str(data['RA'][n])+' '+str(data['Dec'][n])+'\\n')\n",
    "f.close()"
   ]
  },
  {
   "cell_type": "code",
   "execution_count": 1086,
   "metadata": {
    "collapsed": true
   },
   "outputs": [],
   "source": [
    "data= Table.read('mr181920_member_long_groupID_catalog_central_satellites_with_halo_mass_projected_clustercentric_radius_vel_disp_virial_radius_h_alpha_flux.fits', format='fits')"
   ]
  },
  {
   "cell_type": "code",
   "execution_count": 1087,
   "metadata": {
    "collapsed": true
   },
   "outputs": [],
   "source": [
    "data = data[N.where(data['number in cluster']>=2)]"
   ]
  },
  {
   "cell_type": "code",
   "execution_count": 1090,
   "metadata": {
    "collapsed": true
   },
   "outputs": [],
   "source": [
    "data = data[N.where(N.logical_and(data['h_alpha_flux']>-10000, data['h_alpha_flux']<10000))]"
   ]
  },
  {
   "cell_type": "code",
   "execution_count": 1091,
   "metadata": {
    "collapsed": false
   },
   "outputs": [],
   "source": [
    "d = cosmo.luminosity_distance(data['z']).to(u.cm)\n",
    "L = Column(name ='luminosity Halpha', data = (1E-17)*data['h_alpha_flux']*4*N.pi*(d.value**2), unit=u.erg / u.s)\n",
    "SFR = Column(name = 'sfr kennicutt', data=7.9E-42*((u.s*u.M_sun)/(u.erg*u.yr))*L, unit=u.M_sun/u.yr)"
   ]
  },
  {
   "cell_type": "code",
   "execution_count": 1092,
   "metadata": {
    "collapsed": true
   },
   "outputs": [],
   "source": [
    "data.add_columns([L, SFR])"
   ]
  },
  {
   "cell_type": "code",
   "execution_count": 1081,
   "metadata": {
    "collapsed": false
   },
   "outputs": [],
   "source": []
  },
  {
   "cell_type": "code",
   "execution_count": 1137,
   "metadata": {
    "collapsed": false
   },
   "outputs": [
    {
     "name": "stderr",
     "output_type": "stream",
     "text": [
      "/usr/local/lib/python2.7/site-packages/IPython/kernel/__main__.py:1: RuntimeWarning: divide by zero encountered in log10\n",
      "  if __name__ == '__main__':\n",
      "/usr/local/lib/python2.7/site-packages/IPython/kernel/__main__.py:1: RuntimeWarning: invalid value encountered in log10\n",
      "  if __name__ == '__main__':\n"
     ]
    },
    {
     "data": {
      "text/plain": [
       "(array([    3.,     7.,    12.,    25.,    40.,   110.,   297.,   420.,\n",
       "          595.,   758.,  1208.,  1792.,  2042.,  2144.,  1862.,  1567.,\n",
       "         1410.,  1038.,   733.,   405.,   167.,    48.,    19.,     6.,\n",
       "            0.]),\n",
       " array([ 37. ,  37.2,  37.4,  37.6,  37.8,  38. ,  38.2,  38.4,  38.6,\n",
       "         38.8,  39. ,  39.2,  39.4,  39.6,  39.8,  40. ,  40.2,  40.4,\n",
       "         40.6,  40.8,  41. ,  41.2,  41.4,  41.6,  41.8,  42. ]),\n",
       " <a list of 1 Patch objects>)"
      ]
     },
     "execution_count": 1137,
     "metadata": {},
     "output_type": "execute_result"
    },
    {
     "data": {
      "image/png": "[encoded data removed]",
      "text/plain": [
       "<matplotlib.figure.Figure at 0x12a6e6150>"
      ]
     },
     "metadata": {},
     "output_type": "display_data"
    }
   ],
   "source": [
    "P.hist(N.log10(data['luminosity Halpha']), bins=25, histtype='step',  range=(37, 42))"
   ]
  },
  {
   "cell_type": "code",
   "execution_count": 1100,
   "metadata": {
    "collapsed": false
   },
   "outputs": [
    {
     "data": {
      "text/plain": [
       "(-5, 215)"
      ]
     },
     "execution_count": 1100,
     "metadata": {},
     "output_type": "execute_result"
    },
    {
     "data": {
      "image/png": "[encoded data removed]",
      "text/plain": [
       "<matplotlib.figure.Figure at 0x122717c50>"
      ]
     },
     "metadata": {},
     "output_type": "display_data"
    }
   ],
   "source": [
    "P.hist(data['h_alpha_eqw']*-1, bins=25, histtype='step', log=True)\n",
    "P.xlim(-5, 215)\n",
    "#P.ylim(1, 10000)"
   ]
  },
  {
   "cell_type": "code",
   "execution_count": 1159,
   "metadata": {
    "collapsed": true
   },
   "outputs": [],
   "source": [
    "binss = N.array([0, 0.6, 0.9, 1.5, 2.1, 3.3, 5.0, 7.5, 10.0, 12.5, 15.0])"
   ]
  },
  {
   "cell_type": "code",
   "execution_count": 1164,
   "metadata": {
    "collapsed": true
   },
   "outputs": [],
   "source": [
    "sat = data[N.where(data['central or satellite']==0)]"
   ]
  },
  {
   "cell_type": "code",
   "execution_count": 1165,
   "metadata": {
    "collapsed": false
   },
   "outputs": [],
   "source": [
    "bssfr25 = b_s((sat['projected cluster centric radius'].to(u.Mpc))/sat['virial radius'], sat['sfr kennicutt'], statistic=lambda y: N.percentile(y, 25), bins=binss, range=(0,15))\n",
    "bssfr50 = b_s((sat['projected cluster centric radius'].to(u.Mpc))/sat['virial radius'], sat['sfr kennicutt'], statistic=lambda y: N.percentile(y, 50), bins=binss, range=(0,15))\n",
    "bssfr75 = b_s((sat['projected cluster centric radius'].to(u.Mpc))/sat['virial radius'], sat['sfr kennicutt'], statistic=lambda y: N.percentile(y, 75), bins=binss, range=(0,15))"
   ]
  },
  {
   "cell_type": "code",
   "execution_count": 1166,
   "metadata": {
    "collapsed": false
   },
   "outputs": [
    {
     "data": {
      "text/plain": [
       "(array([ 0.00753,  0.00893,  0.01303,  0.01386,  0.01631,  0.01483,\n",
       "         0.01893,  0.02321,  0.0319 ,  0.02398]),\n",
       " array([  0. ,   0.6,   0.9,   1.5,   2.1,   3.3,   5. ,   7.5,  10. ,\n",
       "         12.5,  15. ]),\n",
       " array([ 3,  5,  7, ...,  4, 11,  6]))"
      ]
     },
     "execution_count": 1166,
     "metadata": {},
     "output_type": "execute_result"
    }
   ],
   "source": [
    "bssfr25"
   ]
  },
  {
   "cell_type": "code",
   "execution_count": 1171,
   "metadata": {
    "collapsed": false
   },
   "outputs": [
    {
     "data": {
      "image/png": "[encoded data removed]",
      "text/plain": [
       "<matplotlib.figure.Figure at 0x12abd7490>"
      ]
     },
     "metadata": {},
     "output_type": "display_data"
    }
   ],
   "source": [
    "P.figure(figsize=(4,6))\n",
    "ax = P.subplot(111)\n",
    "ax.scatter(bssfr50[1][:-1] + N.diff(bssfr50[1])[0]/2, bssfr50[0], marker='x', color='k')\n",
    "ax.plot(bssfr50[1][:-1] + N.diff(bssfr50[1])[0]/2, bssfr50[0], color='k', lw=1)\n",
    "ax.fill_between(bssfr50[1][:-1] + N.diff(bssfr50[1])[0]/2, bssfr25[0], bssfr75[0], color='k', alpha=0.15, edgecolor='None')\n",
    "ax.set_xscale('log')\n",
    "ax.minorticks_on()\n",
    "ax.set_xlim(0.09, 15)\n",
    "#ax.set_ylim(0, 0.05)\n",
    "ax.set_xlabel(r'$R/R_{200}$')\n",
    "ax.set_ylabel(r'$\\rm{SFR}$ $[M_{\\odot}yr^{-1}]$')\n",
    "ax.set_xticks([0.1, 1, 10])\n",
    "ax.set_xticklabels([r'$0.1$', r'$1$', r'$10$'])\n",
    "ax.set_ylim(-0.01)\n",
    "P.tight_layout()\n",
    "P.savefig('sfr_trend_with_log_radius_gomez_03.pdf')"
   ]
  },
  {
   "cell_type": "code",
   "execution_count": 1190,
   "metadata": {
    "collapsed": false
   },
   "outputs": [],
   "source": [
    "discs = data[N.where(data['t01_smooth_or_features_a02_features_or_disk_debiased']>0.8)]\n",
    "smooth = data[N.where(data['t01_smooth_or_features_a01_smooth_debiased']>0.8)]"
   ]
  },
  {
   "cell_type": "code",
   "execution_count": 1191,
   "metadata": {
    "collapsed": true
   },
   "outputs": [],
   "source": [
    "bssfr25d = b_s((discs['projected cluster centric radius'].to(u.Mpc))/discs['virial radius'], discs['sfr kennicutt'], statistic=lambda y: N.percentile(y, 25), bins=binss, range=(0,15))\n",
    "bssfr50d = b_s((discs['projected cluster centric radius'].to(u.Mpc))/discs['virial radius'], discs['sfr kennicutt'], statistic=lambda y: N.percentile(y, 50), bins=binss, range=(0,15))\n",
    "bssfr75d = b_s((discs['projected cluster centric radius'].to(u.Mpc))/discs['virial radius'], discs['sfr kennicutt'], statistic=lambda y: N.percentile(y, 75), bins=binss, range=(0,15))"
   ]
  },
  {
   "cell_type": "code",
   "execution_count": 1192,
   "metadata": {
    "collapsed": true
   },
   "outputs": [],
   "source": [
    "bssfr25s = b_s((smooth['projected cluster centric radius'].to(u.Mpc))/smooth['virial radius'], smooth['sfr kennicutt'], statistic=lambda y: N.percentile(y, 25), bins=binss, range=(0,15))\n",
    "bssfr50s = b_s((smooth['projected cluster centric radius'].to(u.Mpc))/smooth['virial radius'], smooth['sfr kennicutt'], statistic=lambda y: N.percentile(y, 50), bins=binss, range=(0,15))\n",
    "bssfr75s = b_s((smooth['projected cluster centric radius'].to(u.Mpc))/smooth['virial radius'], smooth['sfr kennicutt'], statistic=lambda y: N.percentile(y, 75), bins=binss, range=(0,15))"
   ]
  },
  {
   "cell_type": "code",
   "execution_count": 1193,
   "metadata": {
    "collapsed": false
   },
   "outputs": [
    {
     "data": {
      "image/png": "[encoded data removed]",
      "text/plain": [
       "<matplotlib.figure.Figure at 0x12c7c99d0>"
      ]
     },
     "metadata": {},
     "output_type": "display_data"
    }
   ],
   "source": [
    "P.figure(figsize=(12,6))\n",
    "ax = P.subplot(131)\n",
    "ax.scatter(bssfr50[1][:-1] + N.diff(bssfr50[1])[0]/2, bssfr50[0], marker='x', color='k')\n",
    "ax.plot(bssfr50[1][:-1] + N.diff(bssfr50[1])[0]/2, bssfr50[0], color='k', lw=1)\n",
    "ax.fill_between(bssfr50[1][:-1] + N.diff(bssfr50[1])[0]/2, bssfr25[0], bssfr75[0], color='k', alpha=0.15, edgecolor='None')\n",
    "ax.set_xscale('log')\n",
    "ax.minorticks_on()\n",
    "ax.set_xlim(0.09, 15)\n",
    "ax.set_ylim(0, 0.35)\n",
    "ax.set_xlabel(r'$R/R_{200}$')\n",
    "ax.set_ylabel(r'$\\rm{SFR}$ $[M_{\\odot}yr^{-1}]$')\n",
    "ax.set_xticks([0.1, 1, 10])\n",
    "ax.set_xticklabels([r'$0.1$', r'$1$', r'$10$'])\n",
    "ax.set_ylim(-0.01)\n",
    "ax = P.subplot(132)\n",
    "ax.scatter(bssfr50d[1][:-1] + N.diff(bssfr50d[1])[0]/2, bssfr50d[0], marker='x', color='k')\n",
    "ax.plot(bssfr50d[1][:-1] + N.diff(bssfr50d[1])[0]/2, bssfr50d[0], color='k', lw=1)\n",
    "ax.fill_between(bssfr50d[1][:-1] + N.diff(bssfr50d[1])[0]/2, bssfr25d[0], bssfr75d[0], color='k', alpha=0.15, edgecolor='None')\n",
    "ax.set_xscale('log')\n",
    "ax.minorticks_on()\n",
    "ax.set_xlim(0.09, 15)\n",
    "#ax.set_ylim(0, 0.05)\n",
    "ax.set_xlabel(r'$R/R_{200}$')\n",
    "ax.set_xticks([0.1, 1, 10])\n",
    "ax.set_xticklabels([r'$0.1$', r'$1$', r'$10$'])\n",
    "ax.set_ylim(-0.01, 0.35)\n",
    "ax.tick_params('y', labelleft='off')\n",
    "ax = P.subplot(133)\n",
    "ax.scatter(bssfr50s[1][:-1] + N.diff(bssfr50s[1])[0]/2, bssfr50s[0], marker='x', color='k')\n",
    "ax.plot(bssfr50s[1][:-1] + N.diff(bssfr50s[1])[0]/2, bssfr50s[0], color='k', lw=1)\n",
    "ax.fill_between(bssfr50s[1][:-1] + N.diff(bssfr50s[1])[0]/2, bssfr25s[0], bssfr75s[0], color='k', alpha=0.15, edgecolor='None')\n",
    "ax.set_xscale('log')\n",
    "ax.minorticks_on()\n",
    "ax.set_xlim(0.09, 15)\n",
    "ax.set_ylim(-0.01, 0.35)\n",
    "ax.set_xlabel(r'$R/R_{200}$')\n",
    "ax.set_xticks([0.1, 1, 10])\n",
    "ax.set_xticklabels([r'$0.1$', r'$1$', r'$10$'])\n",
    "ax.tick_params('y', labelleft='off')\n",
    "P.tight_layout()\n",
    "P.subplots_adjust(wspace=0.0, hspace=0.0)\n",
    "P.savefig('sfr_trend_with_log_radius_disc_smooth_gomez_03.pdf')"
   ]
  },
  {
   "cell_type": "code",
   "execution_count": null,
   "metadata": {
    "collapsed": true
   },
   "outputs": [],
   "source": []
  }
 ],
 "metadata": {
  "kernelspec": {
   "display_name": "Python 2",
   "language": "python",
   "name": "python2"
  },
  "language_info": {
   "codemirror_mode": {
    "name": "ipython",
    "version": 2
   },
   "file_extension": ".py",
   "mimetype": "text/x-python",
   "name": "python",
   "nbconvert_exporter": "python",
   "pygments_lexer": "ipython2",
   "version": "2.7.8"
  }
 },
 "nbformat": 4,
 "nbformat_minor": 0
}
